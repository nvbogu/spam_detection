{
 "cells": [
  {
   "cell_type": "code",
   "execution_count": 1,
   "metadata": {},
   "outputs": [],
   "source": [
    "import pandas as pd\n",
    "import math\n",
    "import re\n",
    "from collections import Counter\n",
    "from itertools import combinations"
   ]
  },
  {
   "cell_type": "code",
   "execution_count": 2,
   "metadata": {},
   "outputs": [],
   "source": [
    "path = r'D:\\Yelp\\vegas_2010.csv'"
   ]
  },
  {
   "cell_type": "code",
   "execution_count": 3,
   "metadata": {},
   "outputs": [],
   "source": [
    "df = pd.read_csv(path, index_col=0)"
   ]
  },
  {
   "cell_type": "markdown",
   "metadata": {},
   "source": [
    "## Similarity"
   ]
  },
  {
   "cell_type": "code",
   "execution_count": 4,
   "metadata": {},
   "outputs": [
    {
     "name": "stdout",
     "output_type": "stream",
     "text": [
      "Cosine: 0.8616404368553293\n"
     ]
    }
   ],
   "source": [
    "WORD = re.compile(r\"\\w+\")\n",
    "\n",
    "\n",
    "def get_cosine(vec1, vec2):\n",
    "    intersection = set(vec1.keys()) & set(vec2.keys())\n",
    "    numerator = sum([vec1[x] * vec2[x] for x in intersection])\n",
    "\n",
    "    sum1 = sum([vec1[x] ** 2 for x in list(vec1.keys())])\n",
    "    sum2 = sum([vec2[x] ** 2 for x in list(vec2.keys())])\n",
    "    denominator = math.sqrt(sum1) * math.sqrt(sum2)\n",
    "\n",
    "    if not denominator:\n",
    "        return 0.0\n",
    "    else:\n",
    "        return float(numerator) / denominator\n",
    "\n",
    "\n",
    "def text_to_vector(text):\n",
    "    words = WORD.findall(text)\n",
    "    return Counter(words)\n",
    "\n",
    "\n",
    "text1 = \"This is a foo bar sentence .\"\n",
    "text2 = \"This sentence is similar to a foo bar sentence .\"\n",
    "\n",
    "vector1 = text_to_vector(text1)\n",
    "vector2 = text_to_vector(text2)\n",
    "\n",
    "cosine = get_cosine(vector1, vector2)\n",
    "\n",
    "print(\"Cosine:\", cosine)"
   ]
  },
  {
   "cell_type": "code",
   "execution_count": 5,
   "metadata": {},
   "outputs": [
    {
     "data": {
      "text/plain": [
       "Index(['business_id', 'name', 'address', 'city', 'state', 'postal_code',\n",
       "       'latitude', 'longitude', 'stars_business', 'review_count', 'is_open',\n",
       "       'attributes', 'categories', 'hours', 'review_id', 'user_id',\n",
       "       'stars_review', 'useful', 'funny', 'cool', 'text', 'date'],\n",
       "      dtype='object')"
      ]
     },
     "execution_count": 5,
     "metadata": {},
     "output_type": "execute_result"
    }
   ],
   "source": [
    "df.columns"
   ]
  },
  {
   "cell_type": "code",
   "execution_count": 32,
   "metadata": {},
   "outputs": [],
   "source": [
    "group_df = df[['user_id', 'text']][:10]"
   ]
  },
  {
   "cell_type": "code",
   "execution_count": 33,
   "metadata": {},
   "outputs": [
    {
     "data": {
      "text/html": [
       "<div>\n",
       "<style scoped>\n",
       "    .dataframe tbody tr th:only-of-type {\n",
       "        vertical-align: middle;\n",
       "    }\n",
       "\n",
       "    .dataframe tbody tr th {\n",
       "        vertical-align: top;\n",
       "    }\n",
       "\n",
       "    .dataframe thead th {\n",
       "        text-align: right;\n",
       "    }\n",
       "</style>\n",
       "<table border=\"1\" class=\"dataframe\">\n",
       "  <thead>\n",
       "    <tr style=\"text-align: right;\">\n",
       "      <th></th>\n",
       "      <th>user_id</th>\n",
       "      <th>text</th>\n",
       "    </tr>\n",
       "  </thead>\n",
       "  <tbody>\n",
       "    <tr>\n",
       "      <th>85</th>\n",
       "      <td>W7DHyQlY_kXls2iXt-_2Ag</td>\n",
       "      <td>Do you believe in love at first sight?  I wasn...</td>\n",
       "    </tr>\n",
       "    <tr>\n",
       "      <th>87</th>\n",
       "      <td>6_GviXBB7Bx3lFoveIfFwQ</td>\n",
       "      <td>I give this store a 5 because -\\n1. They had a...</td>\n",
       "    </tr>\n",
       "    <tr>\n",
       "      <th>93</th>\n",
       "      <td>gUkqdzdD0jhqsjM-AZAWVw</td>\n",
       "      <td>located in the wynn\\n\\nplus one star...solely ...</td>\n",
       "    </tr>\n",
       "    <tr>\n",
       "      <th>110</th>\n",
       "      <td>n9RiwO6NIhB_Uf4xHJtz8A</td>\n",
       "      <td>The shoes are out of this world.  Service is t...</td>\n",
       "    </tr>\n",
       "    <tr>\n",
       "      <th>112</th>\n",
       "      <td>YBa116q7RFrXZq6a0yVlCQ</td>\n",
       "      <td>Obviously there are a lot of place to purchase...</td>\n",
       "    </tr>\n",
       "    <tr>\n",
       "      <th>117</th>\n",
       "      <td>YDkC5VVT8s9NlIZtAr8NUA</td>\n",
       "      <td>So why would I be giving a Fast Food chain loc...</td>\n",
       "    </tr>\n",
       "    <tr>\n",
       "      <th>122</th>\n",
       "      <td>FIk4lQQu1eTe2EpzQ4xhBA</td>\n",
       "      <td>Great burgers, chicken sandwiches, salads, and...</td>\n",
       "    </tr>\n",
       "    <tr>\n",
       "      <th>131</th>\n",
       "      <td>dLrMDYQ9TwfodJxYLfaKDQ</td>\n",
       "      <td>You would think that since this Carl's Jr. is ...</td>\n",
       "    </tr>\n",
       "    <tr>\n",
       "      <th>159</th>\n",
       "      <td>H4BiIX0gU-Fc2S487g7z1Q</td>\n",
       "      <td>Red, orange, yellow, green, blue, purple, pink...</td>\n",
       "    </tr>\n",
       "    <tr>\n",
       "      <th>264</th>\n",
       "      <td>5RLxzxLIY3ZXUUksr_dtXA</td>\n",
       "      <td>This is a great, quality Taco Bell recently bu...</td>\n",
       "    </tr>\n",
       "  </tbody>\n",
       "</table>\n",
       "</div>"
      ],
      "text/plain": [
       "                    user_id                                               text\n",
       "85   W7DHyQlY_kXls2iXt-_2Ag  Do you believe in love at first sight?  I wasn...\n",
       "87   6_GviXBB7Bx3lFoveIfFwQ  I give this store a 5 because -\\n1. They had a...\n",
       "93   gUkqdzdD0jhqsjM-AZAWVw  located in the wynn\\n\\nplus one star...solely ...\n",
       "110  n9RiwO6NIhB_Uf4xHJtz8A  The shoes are out of this world.  Service is t...\n",
       "112  YBa116q7RFrXZq6a0yVlCQ  Obviously there are a lot of place to purchase...\n",
       "117  YDkC5VVT8s9NlIZtAr8NUA  So why would I be giving a Fast Food chain loc...\n",
       "122  FIk4lQQu1eTe2EpzQ4xhBA  Great burgers, chicken sandwiches, salads, and...\n",
       "131  dLrMDYQ9TwfodJxYLfaKDQ  You would think that since this Carl's Jr. is ...\n",
       "159  H4BiIX0gU-Fc2S487g7z1Q  Red, orange, yellow, green, blue, purple, pink...\n",
       "264  5RLxzxLIY3ZXUUksr_dtXA  This is a great, quality Taco Bell recently bu..."
      ]
     },
     "execution_count": 33,
     "metadata": {},
     "output_type": "execute_result"
    }
   ],
   "source": [
    "group_df"
   ]
  },
  {
   "cell_type": "code",
   "execution_count": 73,
   "metadata": {},
   "outputs": [],
   "source": [
    "def get_similarity_of_group(df):\n",
    "    \n",
    "    result = []\n",
    "   \n",
    "    df = df.set_index('user_id')\n",
    "    users = list(combinations(df.index, 2))\n",
    "    \n",
    "    for pair in users:\n",
    "        user_1 = pair[0]\n",
    "        user_2 = pair[1]\n",
    "        \n",
    "        review_1 = df.loc[user_1].text\n",
    "        review_2 = df.loc[user_2].text\n",
    "       \n",
    "        vector1 = text_to_vector(review_1)\n",
    "        vector2 = text_to_vector(review_2)\n",
    "\n",
    "        cosine = get_cosine(vector1, vector2)\n",
    "          \n",
    "        result.append({'user_1': user_1, 'user_2': user_2, 'review_1': review_1, 'review_2':review_2, 'pair': pair, 'cosine': cosine})\n",
    "\n",
    "\n",
    "    df_result = pd.DataFrame(result)\n",
    "    \n",
    "    _mean = df_result.cosine.mean()\n",
    "    _max =  df_result.cosine.max()\n",
    "    \n",
    "    return _mean, _max"
   ]
  },
  {
   "cell_type": "code",
   "execution_count": 75,
   "metadata": {},
   "outputs": [],
   "source": [
    "_mean, _max = get_similarity_of_group(group_df)"
   ]
  },
  {
   "cell_type": "code",
   "execution_count": 76,
   "metadata": {},
   "outputs": [
    {
     "data": {
      "text/plain": [
       "(0.2761723762763612, 0.49863003035165515)"
      ]
     },
     "execution_count": 76,
     "metadata": {},
     "output_type": "execute_result"
    }
   ],
   "source": [
    "_mean, _max"
   ]
  }
 ],
 "metadata": {
  "kernelspec": {
   "display_name": "Python 3",
   "language": "python",
   "name": "python3"
  },
  "language_info": {
   "codemirror_mode": {
    "name": "ipython",
    "version": 3
   },
   "file_extension": ".py",
   "mimetype": "text/x-python",
   "name": "python",
   "nbconvert_exporter": "python",
   "pygments_lexer": "ipython3",
   "version": "3.6.12"
  }
 },
 "nbformat": 4,
 "nbformat_minor": 4
}
