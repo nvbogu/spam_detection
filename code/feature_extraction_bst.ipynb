{
 "cells": [
  {
   "cell_type": "code",
   "execution_count": 1,
   "metadata": {},
   "outputs": [],
   "source": [
    "import pandas as pd\n",
    "import math\n",
    "import re\n",
    "from collections import Counter\n",
    "from itertools import combinations"
   ]
  },
  {
   "cell_type": "code",
   "execution_count": 2,
   "metadata": {},
   "outputs": [],
   "source": [
    "path = r'D:\\Yelp\\charlotte_2016_groups.csv'"
   ]
  },
  {
   "cell_type": "code",
   "execution_count": 3,
   "metadata": {},
   "outputs": [],
   "source": [
    "df = pd.read_csv(path, index_col=0)"
   ]
  },
  {
   "cell_type": "code",
   "execution_count": 4,
   "metadata": {},
   "outputs": [],
   "source": [
    "df['date'] =  pd.to_datetime(df['date'])"
   ]
  },
  {
   "cell_type": "code",
   "execution_count": 5,
   "metadata": {},
   "outputs": [
    {
     "data": {
      "text/plain": [
       "Index(['business_id', 'name', 'address', 'city', 'state', 'postal_code',\n",
       "       'latitude', 'longitude', 'stars_business', 'review_count', 'is_open',\n",
       "       'attributes', 'categories', 'hours', 'review_id', 'user_id', 'stars',\n",
       "       'useful', 'funny', 'cool', 'text', 'date', 'group_id', 'group_len',\n",
       "       'group_type'],\n",
       "      dtype='object')"
      ]
     },
     "execution_count": 5,
     "metadata": {},
     "output_type": "execute_result"
    }
   ],
   "source": [
    "df.columns"
   ]
  },
  {
   "cell_type": "code",
   "execution_count": 6,
   "metadata": {},
   "outputs": [
    {
     "data": {
      "text/html": [
       "<div>\n",
       "<style scoped>\n",
       "    .dataframe tbody tr th:only-of-type {\n",
       "        vertical-align: middle;\n",
       "    }\n",
       "\n",
       "    .dataframe tbody tr th {\n",
       "        vertical-align: top;\n",
       "    }\n",
       "\n",
       "    .dataframe thead th {\n",
       "        text-align: right;\n",
       "    }\n",
       "</style>\n",
       "<table border=\"1\" class=\"dataframe\">\n",
       "  <thead>\n",
       "    <tr style=\"text-align: right;\">\n",
       "      <th></th>\n",
       "      <th>business_id</th>\n",
       "      <th>name</th>\n",
       "      <th>address</th>\n",
       "      <th>city</th>\n",
       "      <th>state</th>\n",
       "      <th>postal_code</th>\n",
       "      <th>latitude</th>\n",
       "      <th>longitude</th>\n",
       "      <th>stars_business</th>\n",
       "      <th>review_count</th>\n",
       "      <th>...</th>\n",
       "      <th>user_id</th>\n",
       "      <th>stars</th>\n",
       "      <th>useful</th>\n",
       "      <th>funny</th>\n",
       "      <th>cool</th>\n",
       "      <th>text</th>\n",
       "      <th>date</th>\n",
       "      <th>group_id</th>\n",
       "      <th>group_len</th>\n",
       "      <th>group_type</th>\n",
       "    </tr>\n",
       "  </thead>\n",
       "  <tbody>\n",
       "    <tr>\n",
       "      <th>0</th>\n",
       "      <td>0pOlmHVeidsh63iAWdTAfg</td>\n",
       "      <td>Hendrick Motors of Charlotte - Mercedes-Benz</td>\n",
       "      <td>5201 E Independence Blvd</td>\n",
       "      <td>Charlotte</td>\n",
       "      <td>NC</td>\n",
       "      <td>28212.0</td>\n",
       "      <td>35.188018</td>\n",
       "      <td>-80.758758</td>\n",
       "      <td>2.5</td>\n",
       "      <td>32</td>\n",
       "      <td>...</td>\n",
       "      <td>A0R17nyHQ9SiqQjtnsP33g</td>\n",
       "      <td>1.0</td>\n",
       "      <td>5</td>\n",
       "      <td>0</td>\n",
       "      <td>0</td>\n",
       "      <td>Mercedes used to be such a great brand with ex...</td>\n",
       "      <td>2016-12-23 03:54:01</td>\n",
       "      <td>NaN</td>\n",
       "      <td>NaN</td>\n",
       "      <td>NaN</td>\n",
       "    </tr>\n",
       "    <tr>\n",
       "      <th>1</th>\n",
       "      <td>0pOlmHVeidsh63iAWdTAfg</td>\n",
       "      <td>Hendrick Motors of Charlotte - Mercedes-Benz</td>\n",
       "      <td>5201 E Independence Blvd</td>\n",
       "      <td>Charlotte</td>\n",
       "      <td>NC</td>\n",
       "      <td>28212.0</td>\n",
       "      <td>35.188018</td>\n",
       "      <td>-80.758758</td>\n",
       "      <td>2.5</td>\n",
       "      <td>32</td>\n",
       "      <td>...</td>\n",
       "      <td>hpSViZNe-5eZaVSgi9LkZw</td>\n",
       "      <td>1.0</td>\n",
       "      <td>9</td>\n",
       "      <td>0</td>\n",
       "      <td>0</td>\n",
       "      <td>Horrible experience! Purchased a ML350 from he...</td>\n",
       "      <td>2016-02-14 04:09:06</td>\n",
       "      <td>5284.0</td>\n",
       "      <td>2.0</td>\n",
       "      <td>n</td>\n",
       "    </tr>\n",
       "    <tr>\n",
       "      <th>2</th>\n",
       "      <td>-qjn24n8HYF6It9GQrQntw</td>\n",
       "      <td>Five Guys Burgers and Fries</td>\n",
       "      <td>2130 E Arbors Dr</td>\n",
       "      <td>Charlotte</td>\n",
       "      <td>NC</td>\n",
       "      <td>28262.0</td>\n",
       "      <td>35.338070</td>\n",
       "      <td>-80.757397</td>\n",
       "      <td>4.0</td>\n",
       "      <td>15</td>\n",
       "      <td>...</td>\n",
       "      <td>17TiV5o3EsIIbyFgSpBmXg</td>\n",
       "      <td>4.0</td>\n",
       "      <td>0</td>\n",
       "      <td>0</td>\n",
       "      <td>0</td>\n",
       "      <td>Always good fresh juicy burgers. They are a bi...</td>\n",
       "      <td>2016-08-13 04:18:40</td>\n",
       "      <td>209.0</td>\n",
       "      <td>4.0</td>\n",
       "      <td>n</td>\n",
       "    </tr>\n",
       "    <tr>\n",
       "      <th>3</th>\n",
       "      <td>-qjn24n8HYF6It9GQrQntw</td>\n",
       "      <td>Five Guys Burgers and Fries</td>\n",
       "      <td>2130 E Arbors Dr</td>\n",
       "      <td>Charlotte</td>\n",
       "      <td>NC</td>\n",
       "      <td>28262.0</td>\n",
       "      <td>35.338070</td>\n",
       "      <td>-80.757397</td>\n",
       "      <td>4.0</td>\n",
       "      <td>15</td>\n",
       "      <td>...</td>\n",
       "      <td>17TiV5o3EsIIbyFgSpBmXg</td>\n",
       "      <td>4.0</td>\n",
       "      <td>0</td>\n",
       "      <td>0</td>\n",
       "      <td>0</td>\n",
       "      <td>Always good fresh juicy burgers. They are a bi...</td>\n",
       "      <td>2016-08-13 04:18:40</td>\n",
       "      <td>1152.0</td>\n",
       "      <td>14.0</td>\n",
       "      <td>n</td>\n",
       "    </tr>\n",
       "    <tr>\n",
       "      <th>4</th>\n",
       "      <td>-qjn24n8HYF6It9GQrQntw</td>\n",
       "      <td>Five Guys Burgers and Fries</td>\n",
       "      <td>2130 E Arbors Dr</td>\n",
       "      <td>Charlotte</td>\n",
       "      <td>NC</td>\n",
       "      <td>28262.0</td>\n",
       "      <td>35.338070</td>\n",
       "      <td>-80.757397</td>\n",
       "      <td>4.0</td>\n",
       "      <td>15</td>\n",
       "      <td>...</td>\n",
       "      <td>17TiV5o3EsIIbyFgSpBmXg</td>\n",
       "      <td>4.0</td>\n",
       "      <td>0</td>\n",
       "      <td>0</td>\n",
       "      <td>0</td>\n",
       "      <td>Always good fresh juicy burgers. They are a bi...</td>\n",
       "      <td>2016-08-13 04:18:40</td>\n",
       "      <td>1153.0</td>\n",
       "      <td>12.0</td>\n",
       "      <td>n</td>\n",
       "    </tr>\n",
       "    <tr>\n",
       "      <th>...</th>\n",
       "      <td>...</td>\n",
       "      <td>...</td>\n",
       "      <td>...</td>\n",
       "      <td>...</td>\n",
       "      <td>...</td>\n",
       "      <td>...</td>\n",
       "      <td>...</td>\n",
       "      <td>...</td>\n",
       "      <td>...</td>\n",
       "      <td>...</td>\n",
       "      <td>...</td>\n",
       "      <td>...</td>\n",
       "      <td>...</td>\n",
       "      <td>...</td>\n",
       "      <td>...</td>\n",
       "      <td>...</td>\n",
       "      <td>...</td>\n",
       "      <td>...</td>\n",
       "      <td>...</td>\n",
       "      <td>...</td>\n",
       "      <td>...</td>\n",
       "    </tr>\n",
       "    <tr>\n",
       "      <th>262210</th>\n",
       "      <td>_JA3TLF5JJ95mthVwEdFuw</td>\n",
       "      <td>Steak ’n Shake</td>\n",
       "      <td>1926 Sardis Rd N</td>\n",
       "      <td>Charlotte</td>\n",
       "      <td>NC</td>\n",
       "      <td>28270.0</td>\n",
       "      <td>35.140920</td>\n",
       "      <td>-80.732982</td>\n",
       "      <td>2.0</td>\n",
       "      <td>88</td>\n",
       "      <td>...</td>\n",
       "      <td>CCE-S9fOl6oZgiaPMi9TXA</td>\n",
       "      <td>1.0</td>\n",
       "      <td>0</td>\n",
       "      <td>0</td>\n",
       "      <td>0</td>\n",
       "      <td>If I could give these people 0 stars I would. ...</td>\n",
       "      <td>2016-03-13 06:41:19</td>\n",
       "      <td>8100.0</td>\n",
       "      <td>2.0</td>\n",
       "      <td>n</td>\n",
       "    </tr>\n",
       "    <tr>\n",
       "      <th>262211</th>\n",
       "      <td>_JA3TLF5JJ95mthVwEdFuw</td>\n",
       "      <td>Steak ’n Shake</td>\n",
       "      <td>1926 Sardis Rd N</td>\n",
       "      <td>Charlotte</td>\n",
       "      <td>NC</td>\n",
       "      <td>28270.0</td>\n",
       "      <td>35.140920</td>\n",
       "      <td>-80.732982</td>\n",
       "      <td>2.0</td>\n",
       "      <td>88</td>\n",
       "      <td>...</td>\n",
       "      <td>jJAi1T5DUSwuccjafLXTHQ</td>\n",
       "      <td>1.0</td>\n",
       "      <td>0</td>\n",
       "      <td>0</td>\n",
       "      <td>0</td>\n",
       "      <td>The line took forever, order and pay for our f...</td>\n",
       "      <td>2016-11-18 01:12:36</td>\n",
       "      <td>NaN</td>\n",
       "      <td>NaN</td>\n",
       "      <td>NaN</td>\n",
       "    </tr>\n",
       "    <tr>\n",
       "      <th>262212</th>\n",
       "      <td>_JA3TLF5JJ95mthVwEdFuw</td>\n",
       "      <td>Steak ’n Shake</td>\n",
       "      <td>1926 Sardis Rd N</td>\n",
       "      <td>Charlotte</td>\n",
       "      <td>NC</td>\n",
       "      <td>28270.0</td>\n",
       "      <td>35.140920</td>\n",
       "      <td>-80.732982</td>\n",
       "      <td>2.0</td>\n",
       "      <td>88</td>\n",
       "      <td>...</td>\n",
       "      <td>QRNzgxnW4uVkWZNkt9mH8w</td>\n",
       "      <td>1.0</td>\n",
       "      <td>0</td>\n",
       "      <td>0</td>\n",
       "      <td>0</td>\n",
       "      <td>I have been  told by many people that this is ...</td>\n",
       "      <td>2016-10-13 01:15:55</td>\n",
       "      <td>NaN</td>\n",
       "      <td>NaN</td>\n",
       "      <td>NaN</td>\n",
       "    </tr>\n",
       "    <tr>\n",
       "      <th>262213</th>\n",
       "      <td>_JA3TLF5JJ95mthVwEdFuw</td>\n",
       "      <td>Steak ’n Shake</td>\n",
       "      <td>1926 Sardis Rd N</td>\n",
       "      <td>Charlotte</td>\n",
       "      <td>NC</td>\n",
       "      <td>28270.0</td>\n",
       "      <td>35.140920</td>\n",
       "      <td>-80.732982</td>\n",
       "      <td>2.0</td>\n",
       "      <td>88</td>\n",
       "      <td>...</td>\n",
       "      <td>QRNzgxnW4uVkWZNkt9mH8w</td>\n",
       "      <td>5.0</td>\n",
       "      <td>0</td>\n",
       "      <td>0</td>\n",
       "      <td>0</td>\n",
       "      <td>Holy cow!!! I am not a fan of eating out but t...</td>\n",
       "      <td>2016-09-16 01:32:59</td>\n",
       "      <td>NaN</td>\n",
       "      <td>NaN</td>\n",
       "      <td>NaN</td>\n",
       "    </tr>\n",
       "    <tr>\n",
       "      <th>262214</th>\n",
       "      <td>_JA3TLF5JJ95mthVwEdFuw</td>\n",
       "      <td>Steak ’n Shake</td>\n",
       "      <td>1926 Sardis Rd N</td>\n",
       "      <td>Charlotte</td>\n",
       "      <td>NC</td>\n",
       "      <td>28270.0</td>\n",
       "      <td>35.140920</td>\n",
       "      <td>-80.732982</td>\n",
       "      <td>2.0</td>\n",
       "      <td>88</td>\n",
       "      <td>...</td>\n",
       "      <td>hkvjSR5p-V9HtEIbKYoqLw</td>\n",
       "      <td>3.0</td>\n",
       "      <td>0</td>\n",
       "      <td>0</td>\n",
       "      <td>0</td>\n",
       "      <td>Very nice people and decent food. Especially f...</td>\n",
       "      <td>2016-02-09 16:42:29</td>\n",
       "      <td>7932.0</td>\n",
       "      <td>2.0</td>\n",
       "      <td>n</td>\n",
       "    </tr>\n",
       "  </tbody>\n",
       "</table>\n",
       "<p>262215 rows × 25 columns</p>\n",
       "</div>"
      ],
      "text/plain": [
       "                   business_id                                          name  \\\n",
       "0       0pOlmHVeidsh63iAWdTAfg  Hendrick Motors of Charlotte - Mercedes-Benz   \n",
       "1       0pOlmHVeidsh63iAWdTAfg  Hendrick Motors of Charlotte - Mercedes-Benz   \n",
       "2       -qjn24n8HYF6It9GQrQntw                   Five Guys Burgers and Fries   \n",
       "3       -qjn24n8HYF6It9GQrQntw                   Five Guys Burgers and Fries   \n",
       "4       -qjn24n8HYF6It9GQrQntw                   Five Guys Burgers and Fries   \n",
       "...                        ...                                           ...   \n",
       "262210  _JA3TLF5JJ95mthVwEdFuw                                Steak ’n Shake   \n",
       "262211  _JA3TLF5JJ95mthVwEdFuw                                Steak ’n Shake   \n",
       "262212  _JA3TLF5JJ95mthVwEdFuw                                Steak ’n Shake   \n",
       "262213  _JA3TLF5JJ95mthVwEdFuw                                Steak ’n Shake   \n",
       "262214  _JA3TLF5JJ95mthVwEdFuw                                Steak ’n Shake   \n",
       "\n",
       "                         address       city state  postal_code   latitude  \\\n",
       "0       5201 E Independence Blvd  Charlotte    NC      28212.0  35.188018   \n",
       "1       5201 E Independence Blvd  Charlotte    NC      28212.0  35.188018   \n",
       "2               2130 E Arbors Dr  Charlotte    NC      28262.0  35.338070   \n",
       "3               2130 E Arbors Dr  Charlotte    NC      28262.0  35.338070   \n",
       "4               2130 E Arbors Dr  Charlotte    NC      28262.0  35.338070   \n",
       "...                          ...        ...   ...          ...        ...   \n",
       "262210          1926 Sardis Rd N  Charlotte    NC      28270.0  35.140920   \n",
       "262211          1926 Sardis Rd N  Charlotte    NC      28270.0  35.140920   \n",
       "262212          1926 Sardis Rd N  Charlotte    NC      28270.0  35.140920   \n",
       "262213          1926 Sardis Rd N  Charlotte    NC      28270.0  35.140920   \n",
       "262214          1926 Sardis Rd N  Charlotte    NC      28270.0  35.140920   \n",
       "\n",
       "        longitude  stars_business  review_count  ...                 user_id  \\\n",
       "0      -80.758758             2.5            32  ...  A0R17nyHQ9SiqQjtnsP33g   \n",
       "1      -80.758758             2.5            32  ...  hpSViZNe-5eZaVSgi9LkZw   \n",
       "2      -80.757397             4.0            15  ...  17TiV5o3EsIIbyFgSpBmXg   \n",
       "3      -80.757397             4.0            15  ...  17TiV5o3EsIIbyFgSpBmXg   \n",
       "4      -80.757397             4.0            15  ...  17TiV5o3EsIIbyFgSpBmXg   \n",
       "...           ...             ...           ...  ...                     ...   \n",
       "262210 -80.732982             2.0            88  ...  CCE-S9fOl6oZgiaPMi9TXA   \n",
       "262211 -80.732982             2.0            88  ...  jJAi1T5DUSwuccjafLXTHQ   \n",
       "262212 -80.732982             2.0            88  ...  QRNzgxnW4uVkWZNkt9mH8w   \n",
       "262213 -80.732982             2.0            88  ...  QRNzgxnW4uVkWZNkt9mH8w   \n",
       "262214 -80.732982             2.0            88  ...  hkvjSR5p-V9HtEIbKYoqLw   \n",
       "\n",
       "       stars useful funny cool  \\\n",
       "0        1.0      5     0    0   \n",
       "1        1.0      9     0    0   \n",
       "2        4.0      0     0    0   \n",
       "3        4.0      0     0    0   \n",
       "4        4.0      0     0    0   \n",
       "...      ...    ...   ...  ...   \n",
       "262210   1.0      0     0    0   \n",
       "262211   1.0      0     0    0   \n",
       "262212   1.0      0     0    0   \n",
       "262213   5.0      0     0    0   \n",
       "262214   3.0      0     0    0   \n",
       "\n",
       "                                                     text                date  \\\n",
       "0       Mercedes used to be such a great brand with ex... 2016-12-23 03:54:01   \n",
       "1       Horrible experience! Purchased a ML350 from he... 2016-02-14 04:09:06   \n",
       "2       Always good fresh juicy burgers. They are a bi... 2016-08-13 04:18:40   \n",
       "3       Always good fresh juicy burgers. They are a bi... 2016-08-13 04:18:40   \n",
       "4       Always good fresh juicy burgers. They are a bi... 2016-08-13 04:18:40   \n",
       "...                                                   ...                 ...   \n",
       "262210  If I could give these people 0 stars I would. ... 2016-03-13 06:41:19   \n",
       "262211  The line took forever, order and pay for our f... 2016-11-18 01:12:36   \n",
       "262212  I have been  told by many people that this is ... 2016-10-13 01:15:55   \n",
       "262213  Holy cow!!! I am not a fan of eating out but t... 2016-09-16 01:32:59   \n",
       "262214  Very nice people and decent food. Especially f... 2016-02-09 16:42:29   \n",
       "\n",
       "        group_id  group_len  group_type  \n",
       "0            NaN        NaN         NaN  \n",
       "1         5284.0        2.0           n  \n",
       "2          209.0        4.0           n  \n",
       "3         1152.0       14.0           n  \n",
       "4         1153.0       12.0           n  \n",
       "...          ...        ...         ...  \n",
       "262210    8100.0        2.0           n  \n",
       "262211       NaN        NaN         NaN  \n",
       "262212       NaN        NaN         NaN  \n",
       "262213       NaN        NaN         NaN  \n",
       "262214    7932.0        2.0           n  \n",
       "\n",
       "[262215 rows x 25 columns]"
      ]
     },
     "execution_count": 6,
     "metadata": {},
     "output_type": "execute_result"
    }
   ],
   "source": [
    "df"
   ]
  },
  {
   "cell_type": "code",
   "execution_count": 7,
   "metadata": {},
   "outputs": [
    {
     "data": {
      "text/plain": [
       "8603"
      ]
     },
     "execution_count": 7,
     "metadata": {},
     "output_type": "execute_result"
    }
   ],
   "source": [
    "len(df.group_id.unique())"
   ]
  },
  {
   "cell_type": "markdown",
   "metadata": {},
   "source": [
    "## Reveiwer Centric Reviewing Burstiness (𝑩𝑺𝑻) and Own Review Count"
   ]
  },
  {
   "cell_type": "code",
   "execution_count": 8,
   "metadata": {},
   "outputs": [],
   "source": [
    "t = 28"
   ]
  },
  {
   "cell_type": "code",
   "execution_count": 9,
   "metadata": {},
   "outputs": [],
   "source": [
    "def get_review_burstiness(df, t):\n",
    "\n",
    "    result = []\n",
    "    groups = df.groupby('user_id')\n",
    "\n",
    "    for user_id, data in groups:\n",
    "\n",
    "        data.drop_duplicates(subset='review_id', inplace=True)\n",
    "\n",
    "        #print(type(data))\n",
    "        #print(user_id)\n",
    "        #print(data.date)\n",
    "        #print(data.review_id)\n",
    "        #print(data.text)\n",
    "        _max = data.date.max()\n",
    "        _min = data.date.min()\n",
    "        \n",
    "        review_count = len(data)\n",
    "        \n",
    "        diff = _max - _min\n",
    "        \n",
    "        if diff.total_seconds() == 0:\n",
    "            bst = 0\n",
    "            result.append({'user_id': user_id, 'bst': bst, 'own_review_count': review_count})\n",
    "            continue\n",
    "        else: \n",
    "            days = diff.days\n",
    "            if days == 0:\n",
    "                days = 1\n",
    "        if days < t:\n",
    "            bst = 1-(days/t)\n",
    "        else:\n",
    "            bst = 0\n",
    "        result.append({'user_id': user_id, 'bst': bst, 'own_review_count': review_count})\n",
    "        #print(result)\n",
    "    df_result = pd.DataFrame(result)\n",
    "    #df_result.drop_duplicates(subset='user_id', inplace=True)\n",
    "    return df_result"
   ]
  },
  {
   "cell_type": "code",
   "execution_count": 10,
   "metadata": {},
   "outputs": [],
   "source": [
    "df_bst = get_review_burstiness(df, t)"
   ]
  },
  {
   "cell_type": "code",
   "execution_count": 19,
   "metadata": {},
   "outputs": [
    {
     "data": {
      "text/plain": [
       "(23691, 3)"
      ]
     },
     "execution_count": 19,
     "metadata": {},
     "output_type": "execute_result"
    }
   ],
   "source": [
    "df_bst.shape"
   ]
  },
  {
   "cell_type": "code",
   "execution_count": 20,
   "metadata": {},
   "outputs": [],
   "source": [
    "df_bst = df_bst.drop_duplicates()"
   ]
  },
  {
   "cell_type": "code",
   "execution_count": 21,
   "metadata": {},
   "outputs": [
    {
     "data": {
      "text/plain": [
       "(23691, 3)"
      ]
     },
     "execution_count": 21,
     "metadata": {},
     "output_type": "execute_result"
    }
   ],
   "source": [
    "df_bst.shape"
   ]
  },
  {
   "cell_type": "code",
   "execution_count": 16,
   "metadata": {},
   "outputs": [
    {
     "data": {
      "text/html": [
       "<div>\n",
       "<style scoped>\n",
       "    .dataframe tbody tr th:only-of-type {\n",
       "        vertical-align: middle;\n",
       "    }\n",
       "\n",
       "    .dataframe tbody tr th {\n",
       "        vertical-align: top;\n",
       "    }\n",
       "\n",
       "    .dataframe thead th {\n",
       "        text-align: right;\n",
       "    }\n",
       "</style>\n",
       "<table border=\"1\" class=\"dataframe\">\n",
       "  <thead>\n",
       "    <tr style=\"text-align: right;\">\n",
       "      <th></th>\n",
       "      <th>user_id</th>\n",
       "      <th>bst</th>\n",
       "      <th>own_review_count</th>\n",
       "    </tr>\n",
       "  </thead>\n",
       "  <tbody>\n",
       "    <tr>\n",
       "      <th>0</th>\n",
       "      <td>--3WaS23LcIXtxyFULJHTA</td>\n",
       "      <td>0.964286</td>\n",
       "      <td>2</td>\n",
       "    </tr>\n",
       "    <tr>\n",
       "      <th>1</th>\n",
       "      <td>--7D3lFxyMYvs2JYiRrg6Q</td>\n",
       "      <td>0.000000</td>\n",
       "      <td>1</td>\n",
       "    </tr>\n",
       "    <tr>\n",
       "      <th>2</th>\n",
       "      <td>--JS-RvSykutl1DavCbkIg</td>\n",
       "      <td>0.000000</td>\n",
       "      <td>1</td>\n",
       "    </tr>\n",
       "    <tr>\n",
       "      <th>3</th>\n",
       "      <td>--OZO4c_vDOVC2z2BWr92A</td>\n",
       "      <td>0.964286</td>\n",
       "      <td>2</td>\n",
       "    </tr>\n",
       "    <tr>\n",
       "      <th>4</th>\n",
       "      <td>--wiweOmNCw6vg2kbzbwEA</td>\n",
       "      <td>0.000000</td>\n",
       "      <td>1</td>\n",
       "    </tr>\n",
       "  </tbody>\n",
       "</table>\n",
       "</div>"
      ],
      "text/plain": [
       "                  user_id       bst  own_review_count\n",
       "0  --3WaS23LcIXtxyFULJHTA  0.964286                 2\n",
       "1  --7D3lFxyMYvs2JYiRrg6Q  0.000000                 1\n",
       "2  --JS-RvSykutl1DavCbkIg  0.000000                 1\n",
       "3  --OZO4c_vDOVC2z2BWr92A  0.964286                 2\n",
       "4  --wiweOmNCw6vg2kbzbwEA  0.000000                 1"
      ]
     },
     "execution_count": 16,
     "metadata": {},
     "output_type": "execute_result"
    }
   ],
   "source": [
    "df_bst.head()"
   ]
  },
  {
   "cell_type": "code",
   "execution_count": 17,
   "metadata": {},
   "outputs": [],
   "source": [
    "path = r'D:\\Yelp\\bst_own_review_count_groups.csv'"
   ]
  },
  {
   "cell_type": "code",
   "execution_count": 18,
   "metadata": {},
   "outputs": [],
   "source": [
    "df_bst.to_csv(path)"
   ]
  },
  {
   "cell_type": "markdown",
   "metadata": {},
   "source": [
    "## Merge"
   ]
  },
  {
   "cell_type": "code",
   "execution_count": 35,
   "metadata": {},
   "outputs": [],
   "source": [
    "df_merged = df.merge(df_bst, on='user_id')"
   ]
  },
  {
   "cell_type": "code",
   "execution_count": 52,
   "metadata": {},
   "outputs": [
    {
     "data": {
      "text/plain": [
       "<AxesSubplot:xlabel='group_id'>"
      ]
     },
     "execution_count": 52,
     "metadata": {},
     "output_type": "execute_result"
    },
    {
     "data": {
      "image/png": "[encoded data removed]",
      "text/plain": [
       "<Figure size 432x288 with 1 Axes>"
      ]
     },
     "metadata": {
      "needs_background": "light"
     },
     "output_type": "display_data"
    }
   ],
   "source": [
    "df_merged.groupby(['group_id']).own_review_count.mean().sort_values(ascending=False).plot()"
   ]
  },
  {
   "cell_type": "code",
   "execution_count": 58,
   "metadata": {},
   "outputs": [],
   "source": [
    "s = df_merged.groupby(['group_id', 'own_review_count']).bst.mean().sort_values(ascending=False).to_frame().reset_index()"
   ]
  },
  {
   "cell_type": "code",
   "execution_count": 71,
   "metadata": {},
   "outputs": [],
   "source": [
    "s = s.set_index('group_id')"
   ]
  },
  {
   "cell_type": "code",
   "execution_count": 75,
   "metadata": {},
   "outputs": [],
   "source": [
    "s.index = s.index.map(str)"
   ]
  },
  {
   "cell_type": "code",
   "execution_count": 80,
   "metadata": {},
   "outputs": [
    {
     "data": {
      "text/html": [
       "<div>\n",
       "<style scoped>\n",
       "    .dataframe tbody tr th:only-of-type {\n",
       "        vertical-align: middle;\n",
       "    }\n",
       "\n",
       "    .dataframe tbody tr th {\n",
       "        vertical-align: top;\n",
       "    }\n",
       "\n",
       "    .dataframe thead th {\n",
       "        text-align: right;\n",
       "    }\n",
       "</style>\n",
       "<table border=\"1\" class=\"dataframe\">\n",
       "  <thead>\n",
       "    <tr style=\"text-align: right;\">\n",
       "      <th></th>\n",
       "      <th>own_review_count</th>\n",
       "      <th>bst</th>\n",
       "    </tr>\n",
       "    <tr>\n",
       "      <th>group_id</th>\n",
       "      <th></th>\n",
       "      <th></th>\n",
       "    </tr>\n",
       "  </thead>\n",
       "  <tbody>\n",
       "    <tr>\n",
       "      <th>6345.0</th>\n",
       "      <td>4</td>\n",
       "      <td>0.964286</td>\n",
       "    </tr>\n",
       "    <tr>\n",
       "      <th>3917.0</th>\n",
       "      <td>3</td>\n",
       "      <td>0.964286</td>\n",
       "    </tr>\n",
       "    <tr>\n",
       "      <th>3324.0</th>\n",
       "      <td>3</td>\n",
       "      <td>0.964286</td>\n",
       "    </tr>\n",
       "    <tr>\n",
       "      <th>368.0</th>\n",
       "      <td>2</td>\n",
       "      <td>0.964286</td>\n",
       "    </tr>\n",
       "    <tr>\n",
       "      <th>3927.0</th>\n",
       "      <td>4</td>\n",
       "      <td>0.964286</td>\n",
       "    </tr>\n",
       "    <tr>\n",
       "      <th>...</th>\n",
       "      <td>...</td>\n",
       "      <td>...</td>\n",
       "    </tr>\n",
       "    <tr>\n",
       "      <th>5190.0</th>\n",
       "      <td>2</td>\n",
       "      <td>0.000000</td>\n",
       "    </tr>\n",
       "    <tr>\n",
       "      <th>5190.0</th>\n",
       "      <td>1</td>\n",
       "      <td>0.000000</td>\n",
       "    </tr>\n",
       "    <tr>\n",
       "      <th>5189.0</th>\n",
       "      <td>1</td>\n",
       "      <td>0.000000</td>\n",
       "    </tr>\n",
       "    <tr>\n",
       "      <th>5188.0</th>\n",
       "      <td>1</td>\n",
       "      <td>0.000000</td>\n",
       "    </tr>\n",
       "    <tr>\n",
       "      <th>0.0</th>\n",
       "      <td>1</td>\n",
       "      <td>0.000000</td>\n",
       "    </tr>\n",
       "  </tbody>\n",
       "</table>\n",
       "<p>19549 rows × 2 columns</p>\n",
       "</div>"
      ],
      "text/plain": [
       "          own_review_count       bst\n",
       "group_id                            \n",
       "6345.0                   4  0.964286\n",
       "3917.0                   3  0.964286\n",
       "3324.0                   3  0.964286\n",
       "368.0                    2  0.964286\n",
       "3927.0                   4  0.964286\n",
       "...                    ...       ...\n",
       "5190.0                   2  0.000000\n",
       "5190.0                   1  0.000000\n",
       "5189.0                   1  0.000000\n",
       "5188.0                   1  0.000000\n",
       "0.0                      1  0.000000\n",
       "\n",
       "[19549 rows x 2 columns]"
      ]
     },
     "execution_count": 80,
     "metadata": {},
     "output_type": "execute_result"
    }
   ],
   "source": [
    "s"
   ]
  },
  {
   "cell_type": "code",
   "execution_count": 82,
   "metadata": {},
   "outputs": [
    {
     "data": {
      "text/plain": [
       "<AxesSubplot:xlabel='group_id'>"
      ]
     },
     "execution_count": 82,
     "metadata": {},
     "output_type": "execute_result"
    },
    {
     "data": {
      "image/png": "[encoded data removed]",
      "text/plain": [
       "<Figure size 432x288 with 1 Axes>"
      ]
     },
     "metadata": {
      "needs_background": "light"
     },
     "output_type": "display_data"
    }
   ],
   "source": [
    "s.bst.plot()"
   ]
  },
  {
   "cell_type": "code",
   "execution_count": 81,
   "metadata": {},
   "outputs": [
    {
     "data": {
      "text/plain": [
       "<AxesSubplot:xlabel='group_id'>"
      ]
     },
     "execution_count": 81,
     "metadata": {},
     "output_type": "execute_result"
    },
    {
     "data": {
      "image/png": "[encoded data removed]",
      "text/plain": [
       "<Figure size 432x288 with 1 Axes>"
      ]
     },
     "metadata": {
      "needs_background": "light"
     },
     "output_type": "display_data"
    }
   ],
   "source": [
    "s.own_review_count.plot()"
   ]
  },
  {
   "cell_type": "code",
   "execution_count": null,
   "metadata": {},
   "outputs": [],
   "source": [
    "s.bst.plot()"
   ]
  },
  {
   "cell_type": "code",
   "execution_count": 41,
   "metadata": {},
   "outputs": [],
   "source": [
    "s = df_merged[df_merged.user_id=='0KJUheGDsmXcU9h4PHMBrg'][['text','review_id', 'group_id', 'own_review_count']]"
   ]
  },
  {
   "cell_type": "code",
   "execution_count": 42,
   "metadata": {},
   "outputs": [],
   "source": [
    "s.drop_duplicates(subset='review_id', inplace=True)"
   ]
  },
  {
   "cell_type": "code",
   "execution_count": 43,
   "metadata": {},
   "outputs": [
    {
     "data": {
      "text/html": [
       "<div>\n",
       "<style scoped>\n",
       "    .dataframe tbody tr th:only-of-type {\n",
       "        vertical-align: middle;\n",
       "    }\n",
       "\n",
       "    .dataframe tbody tr th {\n",
       "        vertical-align: top;\n",
       "    }\n",
       "\n",
       "    .dataframe thead th {\n",
       "        text-align: right;\n",
       "    }\n",
       "</style>\n",
       "<table border=\"1\" class=\"dataframe\">\n",
       "  <thead>\n",
       "    <tr style=\"text-align: right;\">\n",
       "      <th></th>\n",
       "      <th>text</th>\n",
       "      <th>review_id</th>\n",
       "      <th>group_id</th>\n",
       "      <th>own_review_count</th>\n",
       "    </tr>\n",
       "  </thead>\n",
       "  <tbody>\n",
       "    <tr>\n",
       "      <th>236800</th>\n",
       "      <td>Peruvian food is finally getting some recognit...</td>\n",
       "      <td>QucEXeu-OF4k8bKlf6O1ig</td>\n",
       "      <td>45.0</td>\n",
       "      <td>3</td>\n",
       "    </tr>\n",
       "    <tr>\n",
       "      <th>236805</th>\n",
       "      <td>Sabor is delicious!  Great authentic tacos, Me...</td>\n",
       "      <td>pR6JRHeEyIJ3vClSGStIZg</td>\n",
       "      <td>45.0</td>\n",
       "      <td>3</td>\n",
       "    </tr>\n",
       "    <tr>\n",
       "      <th>236810</th>\n",
       "      <td>How have I never reviewed Amelie's?  The salte...</td>\n",
       "      <td>gv5ttJ9Z1M56kyeC38kMLQ</td>\n",
       "      <td>45.0</td>\n",
       "      <td>3</td>\n",
       "    </tr>\n",
       "  </tbody>\n",
       "</table>\n",
       "</div>"
      ],
      "text/plain": [
       "                                                     text  \\\n",
       "236800  Peruvian food is finally getting some recognit...   \n",
       "236805  Sabor is delicious!  Great authentic tacos, Me...   \n",
       "236810  How have I never reviewed Amelie's?  The salte...   \n",
       "\n",
       "                     review_id  group_id  own_review_count  \n",
       "236800  QucEXeu-OF4k8bKlf6O1ig      45.0                 3  \n",
       "236805  pR6JRHeEyIJ3vClSGStIZg      45.0                 3  \n",
       "236810  gv5ttJ9Z1M56kyeC38kMLQ      45.0                 3  "
      ]
     },
     "execution_count": 43,
     "metadata": {},
     "output_type": "execute_result"
    }
   ],
   "source": [
    "s"
   ]
  },
  {
   "cell_type": "code",
   "execution_count": 84,
   "metadata": {},
   "outputs": [],
   "source": [
    "path = r'D:\\Yelp\\bst_own_review_count_groups.csv'"
   ]
  },
  {
   "cell_type": "code",
   "execution_count": 85,
   "metadata": {},
   "outputs": [],
   "source": [
    "df_merged.to_csv(path)"
   ]
  },
  {
   "cell_type": "code",
   "execution_count": null,
   "metadata": {},
   "outputs": [],
   "source": []
  }
 ],
 "metadata": {
  "kernelspec": {
   "display_name": "Python 3",
   "language": "python",
   "name": "python3"
  },
  "language_info": {
   "codemirror_mode": {
    "name": "ipython",
    "version": 3
   },
   "file_extension": ".py",
   "mimetype": "text/x-python",
   "name": "python",
   "nbconvert_exporter": "python",
   "pygments_lexer": "ipython3",
   "version": "3.8.5"
  }
 },
 "nbformat": 4,
 "nbformat_minor": 4
}
