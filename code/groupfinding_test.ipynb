{
 "cells": [
  {
   "cell_type": "code",
   "execution_count": null,
   "metadata": {},
   "outputs": [],
   "source": [
    "import pandas as pd\n",
    "import matplotlib.pyplot as plt\n",
    "import itertools\n",
    "import networkx as nx\n",
    "import json\n",
    "import numpy as np"
   ]
  },
  {
   "cell_type": "code",
   "execution_count": null,
   "metadata": {},
   "outputs": [],
   "source": [
    "%load_ext autotime"
   ]
  },
  {
   "cell_type": "code",
   "execution_count": null,
   "metadata": {},
   "outputs": [],
   "source": [
    "path = r'D:\\Yelp\\yelp_academic_dataset_user.json'"
   ]
  },
  {
   "cell_type": "code",
   "execution_count": null,
   "metadata": {},
   "outputs": [],
   "source": [
    "data = []\n",
    "for line in open(path, 'r', encoding=\"utf-8\"):\n",
    "    data.append(json.loads(line))"
   ]
  },
  {
   "cell_type": "code",
   "execution_count": null,
   "metadata": {},
   "outputs": [],
   "source": [
    "df = pd.DataFrame(data)"
   ]
  },
  {
   "cell_type": "code",
   "execution_count": null,
   "metadata": {},
   "outputs": [],
   "source": [
    "df.shape"
   ]
  },
  {
   "cell_type": "code",
   "execution_count": null,
   "metadata": {},
   "outputs": [],
   "source": [
    "df.columns"
   ]
  },
  {
   "cell_type": "code",
   "execution_count": null,
   "metadata": {},
   "outputs": [],
   "source": [
    "df = df.set_index('user_id')"
   ]
  },
  {
   "cell_type": "code",
   "execution_count": null,
   "metadata": {},
   "outputs": [],
   "source": [
    "def create_directed_graph(df, n):\n",
    "    \n",
    "    G = nx.DiGraph()\n",
    "    i = 0\n",
    "    for index, row in df.iterrows():\n",
    "        if i == n:\n",
    "            break\n",
    "        user_id = index\n",
    "        friends = row.friends.replace(' ', '').split(\",\")\n",
    "        edges = [(user_id, friend) for friend in friends]\n",
    "        for e in edges:\n",
    "            u = e[0]\n",
    "            v = e[1]\n",
    "            G.add_edge(u, v) \n",
    "            G.add_edge(v, u) \n",
    "        i+=1\n",
    "    print('Nodes: ' + str(len(G.nodes)))\n",
    "    return G"
   ]
  },
  {
   "cell_type": "code",
   "execution_count": null,
   "metadata": {},
   "outputs": [],
   "source": [
    "def create_graph(df, n):\n",
    "    \n",
    "    G = nx.Graph()\n",
    "    i = 0\n",
    "    for index, row in df.iterrows():\n",
    "        if i == n:\n",
    "            break\n",
    "        user_id = index\n",
    "        friends = row.friends.replace(' ', '').split(\",\")\n",
    "        edges = [(user_id, friend) for friend in friends]\n",
    "        for e in edges:\n",
    "            u = e[0]\n",
    "            v = e[1]\n",
    "            G.add_edge(u, v) \n",
    "        i+=1\n",
    "    print('Nodes: ' + str(len(G.nodes)))\n",
    "    return G"
   ]
  },
  {
   "cell_type": "code",
   "execution_count": null,
   "metadata": {},
   "outputs": [],
   "source": [
    "def build_clique_graph(cliques):\n",
    "    G = nx.Graph()\n",
    "    \n",
    "    for clique in cliques:\n",
    "        edges = list(itertools.permutations(clique, 2))\n",
    "        for e in edges:\n",
    "            u = e[0]\n",
    "            v = e[1]\n",
    "            G.add_edge(u, v)\n",
    "            G.add_edge(v, u)\n",
    "    print('Nodes: ' + str(len(G.nodes)))\n",
    "    return G"
   ]
  },
  {
   "cell_type": "code",
   "execution_count": null,
   "metadata": {},
   "outputs": [],
   "source": [
    "def get_not_existing_users(df):\n",
    "    \n",
    "    def get_friendlist_user(friends):\n",
    "        result = []\n",
    "        for string in friends: \n",
    "            friends = string.replace(' ', '').split(\",\")\n",
    "            result.extend(friends)\n",
    "        return result\n",
    "    \n",
    "    existing_user_ids = set(df.index.values)\n",
    "    potentiol_missing_user_ids = set((get_friendlist_user(df.friends.values))) \n",
    "    \n",
    "    not_existing_user = list(existing_user_ids.difference(potentiol_missing_user_ids))\n",
    "    \n",
    "    return not_existing_user\n",
    "    "
   ]
  },
  {
   "cell_type": "code",
   "execution_count": null,
   "metadata": {},
   "outputs": [],
   "source": [
    "def delete_nodes(G, not_existing_user):\n",
    "    print('Nodes before: ' + str(len(G.nodes)))\n",
    "        \n",
    "    for user in not_existing_user:\n",
    "        try:\n",
    "            G.remove_node(user)\n",
    "        except:\n",
    "            None\n",
    "            \n",
    "    print('Nodes after: ' + str(len(G.nodes)))\n",
    "    return G"
   ]
  },
  {
   "cell_type": "code",
   "execution_count": null,
   "metadata": {},
   "outputs": [],
   "source": [
    "def find_cliques(G, n):\n",
    "    #cliques = list(nx.enumerate_all_cliques(G))\n",
    "    result = []\n",
    "    cliques = list(nx.find_cliques(G))\n",
    "    for clique in cliques:\n",
    "        if len(clique) > n:\n",
    "            result.append(clique)\n",
    "        \n",
    "        \n",
    "    print(len(result))\n",
    "    return result"
   ]
  },
  {
   "cell_type": "code",
   "execution_count": null,
   "metadata": {},
   "outputs": [],
   "source": [
    "def get_clique_dict(cliques):\n",
    "    clique_dict = {}\n",
    "\n",
    "    for clique in cliques:\n",
    "        len_clique = len(clique)\n",
    "        for node in clique:\n",
    "            clique_dict[node] = {'group_len': len_clique}\n",
    "    return clique_dict  "
   ]
  },
  {
   "cell_type": "code",
   "execution_count": null,
   "metadata": {},
   "outputs": [],
   "source": [
    "def add_group_number(df, clique_dict):\n",
    "    nodes = clique_dict.keys()\n",
    "    df['group'] = 0\n",
    "    for node in nodes:  \n",
    "        df.at[node, 'group'] = clique_dict[node]['group_len']\n",
    "    return df"
   ]
  },
  {
   "cell_type": "code",
   "execution_count": null,
   "metadata": {},
   "outputs": [],
   "source": [
    "def add_ssc(df, scc):\n",
    "    df['scc'] = 0\n",
    "    for node in scc:  \n",
    "        df.at[node, 'scc'] = 1\n",
    "    return df"
   ]
  },
  {
   "cell_type": "code",
   "execution_count": null,
   "metadata": {},
   "outputs": [],
   "source": [
    "def get_not_existing_user_of_graph(G, df):\n",
    "    nodes = G.nodes\n",
    "    result = []\n",
    "    for node in nodes:\n",
    "        try:\n",
    "            df.loc[node]\n",
    "        except:\n",
    "            result.append(node)\n",
    "    print('nodes to delete: ' + str(len(nodes)))\n",
    "    return result"
   ]
  },
  {
   "cell_type": "code",
   "execution_count": null,
   "metadata": {},
   "outputs": [],
   "source": [
    "# n means how many users should be analyzed\n",
    "# G = create_graph(df, n=100000)\n",
    "G = create_directed_graph(df, n=len(df)-1)"
   ]
  },
  {
   "cell_type": "code",
   "execution_count": null,
   "metadata": {},
   "outputs": [],
   "source": [
    "not_existing_user = get_not_existing_user_of_graph(G, df)"
   ]
  },
  {
   "cell_type": "code",
   "execution_count": null,
   "metadata": {},
   "outputs": [],
   "source": [
    "G = delete_nodes(G, not_existing_user)"
   ]
  },
  {
   "cell_type": "raw",
   "metadata": {},
   "source": [
    "nx.draw(G)"
   ]
  },
  {
   "cell_type": "raw",
   "metadata": {},
   "source": [
    "cliques = find_cliques(G, 1)"
   ]
  },
  {
   "cell_type": "raw",
   "metadata": {},
   "source": [
    "G_cliques = build_clique_graph(cliques)"
   ]
  },
  {
   "cell_type": "code",
   "execution_count": null,
   "metadata": {},
   "outputs": [],
   "source": [
    "scc = list(nx.kosaraju_strongly_connected_components(G))\n",
    "print(len(scc))"
   ]
  },
  {
   "cell_type": "markdown",
   "metadata": {},
   "source": [
    "nx.draw(G_cliques)"
   ]
  },
  {
   "cell_type": "markdown",
   "metadata": {},
   "source": [
    "clique_dict = get_clique_dict(cliques)"
   ]
  },
  {
   "cell_type": "markdown",
   "metadata": {},
   "source": [
    "df_analyse = add_group_number(df, clique_dict)"
   ]
  },
  {
   "cell_type": "code",
   "execution_count": null,
   "metadata": {},
   "outputs": [],
   "source": [
    "df_analyse = add_ssc(df, scc)"
   ]
  },
  {
   "cell_type": "markdown",
   "metadata": {},
   "source": [
    "df_analyse.group.value_counts().plot()"
   ]
  },
  {
   "cell_type": "code",
   "execution_count": null,
   "metadata": {},
   "outputs": [],
   "source": [
    "df_analyse.scc.value_counts().plot()"
   ]
  },
  {
   "cell_type": "markdown",
   "metadata": {},
   "source": [
    "df_analyse.groupby('group').review_count.median().plot()"
   ]
  },
  {
   "cell_type": "code",
   "execution_count": null,
   "metadata": {},
   "outputs": [],
   "source": [
    "df_analyse.groupby('scc').review_count.median().plot(kind='bar')"
   ]
  },
  {
   "cell_type": "code",
   "execution_count": null,
   "metadata": {},
   "outputs": [],
   "source": []
  }
 ],
 "metadata": {
  "kernelspec": {
   "display_name": "Python 3",
   "language": "python",
   "name": "python3"
  },
  "language_info": {
   "codemirror_mode": {
    "name": "ipython",
    "version": 3
   },
   "file_extension": ".py",
   "mimetype": "text/x-python",
   "name": "python",
   "nbconvert_exporter": "python",
   "pygments_lexer": "ipython3",
   "version": "3.7.9"
  }
 },
 "nbformat": 4,
 "nbformat_minor": 4
}
