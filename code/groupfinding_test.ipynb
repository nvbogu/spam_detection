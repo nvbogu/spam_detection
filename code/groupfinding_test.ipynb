{
 "cells": [
  {
   "cell_type": "code",
   "execution_count": 1,
   "metadata": {},
   "outputs": [],
   "source": [
    "# Python3 program to count number of \n",
    "# existing groups and number of new \n",
    "# groups that can be formed.\n",
    "class Graph: \n",
    "\tdef __init__(self, V):\n",
    "\t\tself.V = V \n",
    "\t\tself.adj = [[] for i in range(V)]\n",
    "\t\n",
    "\t# Adds a relation as a two way \n",
    "\t# edge of undirected graph. \n",
    "\tdef addRelation(self, v, w):\n",
    "\t\t\n",
    "\t\t# Since indexing is 0 based, \n",
    "\t\t# reducing edge numbers by 1. \n",
    "\t\tv -= 1\n",
    "\t\tw -= 1\n",
    "\t\tself.adj[v].append(w) \n",
    "\t\tself.adj[w].append(v)\n",
    "\t\n",
    "\t# Returns count of not visited \n",
    "\t# nodes reachable from v using DFS. \n",
    "\tdef countUtil(self, v, visited):\n",
    "\t\tcount = 1\n",
    "\t\tvisited[v] = True\n",
    "\t\ti = 0\n",
    "\t\twhile i != len(self.adj[v]):\n",
    "\t\t\tif (not visited[self.adj[v][i]]):\n",
    "\t\t\t\tcount = count + self.countUtil(self.adj[v][i], \n",
    "\t\t\t\t\t\t\t\t\t\t\t\t\tvisited)\n",
    "\t\t\ti += 1\n",
    "\t\treturn count\n",
    "\t\n",
    "\t# A DFS based function to Count number \n",
    "\t# of existing groups and number of new\n",
    "\t# groups that can be formed using a \n",
    "\t# member of every group. \n",
    "\tdef countGroups(self):\n",
    "\t\t\n",
    "\t\t# Mark all the vertices as \n",
    "\t\t# not visited \n",
    "\t\tvisited = [0] * self.V\n",
    "\t\n",
    "\t\texisting_groups = 0\n",
    "\t\tnew_groups = 1\n",
    "\t\tfor i in range(self.V):\n",
    "\t\t\t\n",
    "\t\t\t# If not in any group. \n",
    "\t\t\tif (visited[i] == False):\n",
    "\t\t\t\texisting_groups += 1\n",
    "\t\t\t\t\n",
    "\t\t\t\t# Number of new groups that \n",
    "\t\t\t\t# can be formed. \n",
    "\t\t\t\tnew_groups = (new_groups *\n",
    "\t\t\t\t\t\t\tself.countUtil(i, visited))\n",
    "\t\t\n",
    "\t\tif (existing_groups == 1): \n",
    "\t\t\tnew_groups = 0\n",
    "\t\t\n",
    "\t\tprint(\"No. of existing groups are\", \n",
    "\t\t\t\t\t\texisting_groups) \n",
    "\t\tprint(\"No. of new groups that\", \n",
    "\t\t\t\"can be formed are\", new_groups)"
   ]
  },
  {
   "cell_type": "code",
   "execution_count": 8,
   "metadata": {},
   "outputs": [
    {
     "name": "stdout",
     "output_type": "stream",
     "text": [
      "No. of existing groups are 3\n",
      "No. of new groups that can be formed are 2\n"
     ]
    }
   ],
   "source": [
    "n = 4\n",
    "\n",
    "# Create a graph given in the above diagram \n",
    "g = Graph(n) # total 6 people \n",
    "g.addRelation(1, 2) # 1 and 2 are friends  \n",
    "g.addRelation(3, 3) # 1 and 2 are friends  \n",
    "g.countGroups()\n",
    "\n",
    "# This code is contributed by PranchalK"
   ]
  },
  {
   "cell_type": "code",
   "execution_count": null,
   "metadata": {},
   "outputs": [],
   "source": []
  }
 ],
 "metadata": {
  "kernelspec": {
   "display_name": "Python 3",
   "language": "python",
   "name": "python3"
  },
  "language_info": {
   "codemirror_mode": {
    "name": "ipython",
    "version": 3
   },
   "file_extension": ".py",
   "mimetype": "text/x-python",
   "name": "python",
   "nbconvert_exporter": "python",
   "pygments_lexer": "ipython3",
   "version": "3.6.12"
  }
 },
 "nbformat": 4,
 "nbformat_minor": 4
}
