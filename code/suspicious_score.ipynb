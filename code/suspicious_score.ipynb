{
 "cells": [
  {
   "cell_type": "markdown",
   "metadata": {},
   "source": [
    "# Suspicious Score"
   ]
  },
  {
   "cell_type": "code",
   "execution_count": 1,
   "metadata": {},
   "outputs": [],
   "source": [
    "import pandas as pd\n",
    "import numpy as np"
   ]
  },
  {
   "cell_type": "code",
   "execution_count": 2,
   "metadata": {},
   "outputs": [],
   "source": [
    "from sklearn import preprocessing"
   ]
  },
  {
   "cell_type": "code",
   "execution_count": 3,
   "metadata": {},
   "outputs": [],
   "source": [
    "def load_dataset(path):\n",
    "    df = pd.read_csv(path, index_col=0)\n",
    "    return df"
   ]
  },
  {
   "cell_type": "code",
   "execution_count": 4,
   "metadata": {},
   "outputs": [],
   "source": [
    "def look_at_group(group_id, df_charlotte_2016, df_groups):\n",
    "    df = df_charlotte_2016.merge(df_groups, on='user_id')\n",
    "    df = df[df.group_id==group_id]\n",
    "    indexes = df.index\n",
    "    for _index in indexes:\n",
    "        text = df.loc[_index].text\n",
    "        user_id = df.loc[_index].user_id\n",
    "        business_id = df.loc[_index].business_id\n",
    "        review_id = df.loc[_index].review_id\n",
    "        print({'user_id':user_id, 'business_id': business_id , 'review_id': review_id})\n",
    "        print(text)\n",
    "        \n",
    "    return df"
   ]
  },
  {
   "cell_type": "markdown",
   "metadata": {},
   "source": [
    "## Raw Dataset"
   ]
  },
  {
   "cell_type": "code",
   "execution_count": 5,
   "metadata": {},
   "outputs": [],
   "source": [
    "df_charlotte_2016 = load_dataset(r'D:\\Yelp\\charlotte_2016.csv')"
   ]
  },
  {
   "cell_type": "code",
   "execution_count": 6,
   "metadata": {},
   "outputs": [
    {
     "data": {
      "text/html": [
       "<div>\n",
       "<style scoped>\n",
       "    .dataframe tbody tr th:only-of-type {\n",
       "        vertical-align: middle;\n",
       "    }\n",
       "\n",
       "    .dataframe tbody tr th {\n",
       "        vertical-align: top;\n",
       "    }\n",
       "\n",
       "    .dataframe thead th {\n",
       "        text-align: right;\n",
       "    }\n",
       "</style>\n",
       "<table border=\"1\" class=\"dataframe\">\n",
       "  <thead>\n",
       "    <tr style=\"text-align: right;\">\n",
       "      <th></th>\n",
       "      <th>business_id</th>\n",
       "      <th>name</th>\n",
       "      <th>address</th>\n",
       "      <th>city</th>\n",
       "      <th>state</th>\n",
       "      <th>postal_code</th>\n",
       "      <th>latitude</th>\n",
       "      <th>longitude</th>\n",
       "      <th>stars_business</th>\n",
       "      <th>review_count</th>\n",
       "      <th>...</th>\n",
       "      <th>categories</th>\n",
       "      <th>hours</th>\n",
       "      <th>review_id</th>\n",
       "      <th>user_id</th>\n",
       "      <th>stars_review</th>\n",
       "      <th>useful</th>\n",
       "      <th>funny</th>\n",
       "      <th>cool</th>\n",
       "      <th>text</th>\n",
       "      <th>date</th>\n",
       "    </tr>\n",
       "  </thead>\n",
       "  <tbody>\n",
       "    <tr>\n",
       "      <th>8</th>\n",
       "      <td>0pOlmHVeidsh63iAWdTAfg</td>\n",
       "      <td>Hendrick Motors of Charlotte - Mercedes-Benz</td>\n",
       "      <td>5201 E Independence Blvd</td>\n",
       "      <td>Charlotte</td>\n",
       "      <td>NC</td>\n",
       "      <td>28212.0</td>\n",
       "      <td>35.188018</td>\n",
       "      <td>-80.758758</td>\n",
       "      <td>2.5</td>\n",
       "      <td>32</td>\n",
       "      <td>...</td>\n",
       "      <td>Auto Repair, Car Dealers, Automotive</td>\n",
       "      <td>{'Monday': '0:0-0:0', 'Tuesday': '7:30-19:0', ...</td>\n",
       "      <td>VyiezkRspGtuG68_rDYp3A</td>\n",
       "      <td>A0R17nyHQ9SiqQjtnsP33g</td>\n",
       "      <td>1.0</td>\n",
       "      <td>5</td>\n",
       "      <td>0</td>\n",
       "      <td>0</td>\n",
       "      <td>Mercedes used to be such a great brand with ex...</td>\n",
       "      <td>2016-12-23 03:54:01</td>\n",
       "    </tr>\n",
       "  </tbody>\n",
       "</table>\n",
       "<p>1 rows × 22 columns</p>\n",
       "</div>"
      ],
      "text/plain": [
       "              business_id                                          name  \\\n",
       "8  0pOlmHVeidsh63iAWdTAfg  Hendrick Motors of Charlotte - Mercedes-Benz   \n",
       "\n",
       "                    address       city state  postal_code   latitude  \\\n",
       "8  5201 E Independence Blvd  Charlotte    NC      28212.0  35.188018   \n",
       "\n",
       "   longitude  stars_business  review_count  ...  \\\n",
       "8 -80.758758             2.5            32  ...   \n",
       "\n",
       "                             categories  \\\n",
       "8  Auto Repair, Car Dealers, Automotive   \n",
       "\n",
       "                                               hours               review_id  \\\n",
       "8  {'Monday': '0:0-0:0', 'Tuesday': '7:30-19:0', ...  VyiezkRspGtuG68_rDYp3A   \n",
       "\n",
       "                  user_id stars_review useful  funny  cool  \\\n",
       "8  A0R17nyHQ9SiqQjtnsP33g          1.0      5      0     0   \n",
       "\n",
       "                                                text                 date  \n",
       "8  Mercedes used to be such a great brand with ex...  2016-12-23 03:54:01  \n",
       "\n",
       "[1 rows x 22 columns]"
      ]
     },
     "execution_count": 6,
     "metadata": {},
     "output_type": "execute_result"
    }
   ],
   "source": [
    "df_charlotte_2016.head(1)"
   ]
  },
  {
   "cell_type": "markdown",
   "metadata": {},
   "source": [
    "## Group Dataset"
   ]
  },
  {
   "cell_type": "code",
   "execution_count": 7,
   "metadata": {},
   "outputs": [],
   "source": [
    "df_groups = load_dataset(r'D:\\Yelp\\charlotte_2016_groups.csv')"
   ]
  },
  {
   "cell_type": "code",
   "execution_count": 8,
   "metadata": {},
   "outputs": [
    {
     "data": {
      "text/html": [
       "<div>\n",
       "<style scoped>\n",
       "    .dataframe tbody tr th:only-of-type {\n",
       "        vertical-align: middle;\n",
       "    }\n",
       "\n",
       "    .dataframe tbody tr th {\n",
       "        vertical-align: top;\n",
       "    }\n",
       "\n",
       "    .dataframe thead th {\n",
       "        text-align: right;\n",
       "    }\n",
       "</style>\n",
       "<table border=\"1\" class=\"dataframe\">\n",
       "  <thead>\n",
       "    <tr style=\"text-align: right;\">\n",
       "      <th></th>\n",
       "      <th>user_id</th>\n",
       "      <th>group_id</th>\n",
       "      <th>group_len</th>\n",
       "      <th>group_type</th>\n",
       "    </tr>\n",
       "  </thead>\n",
       "  <tbody>\n",
       "    <tr>\n",
       "      <th>38276</th>\n",
       "      <td>hWDybu_KvYLSdEFzGrniTw</td>\n",
       "      <td>10385</td>\n",
       "      <td>6</td>\n",
       "      <td>a</td>\n",
       "    </tr>\n",
       "    <tr>\n",
       "      <th>38278</th>\n",
       "      <td>mcJ-A0OGmiWZGBbdWPMfrw</td>\n",
       "      <td>10386</td>\n",
       "      <td>6</td>\n",
       "      <td>a</td>\n",
       "    </tr>\n",
       "    <tr>\n",
       "      <th>38279</th>\n",
       "      <td>hWDybu_KvYLSdEFzGrniTw</td>\n",
       "      <td>10386</td>\n",
       "      <td>6</td>\n",
       "      <td>a</td>\n",
       "    </tr>\n",
       "    <tr>\n",
       "      <th>38280</th>\n",
       "      <td>xDl9ZF3SckkZde_48W6WeA</td>\n",
       "      <td>10386</td>\n",
       "      <td>6</td>\n",
       "      <td>a</td>\n",
       "    </tr>\n",
       "    <tr>\n",
       "      <th>38283</th>\n",
       "      <td>jcURiDqCLY7AOqo8KClJnQ</td>\n",
       "      <td>10386</td>\n",
       "      <td>6</td>\n",
       "      <td>a</td>\n",
       "    </tr>\n",
       "  </tbody>\n",
       "</table>\n",
       "</div>"
      ],
      "text/plain": [
       "                      user_id  group_id  group_len group_type\n",
       "38276  hWDybu_KvYLSdEFzGrniTw     10385          6          a\n",
       "38278  mcJ-A0OGmiWZGBbdWPMfrw     10386          6          a\n",
       "38279  hWDybu_KvYLSdEFzGrniTw     10386          6          a\n",
       "38280  xDl9ZF3SckkZde_48W6WeA     10386          6          a\n",
       "38283  jcURiDqCLY7AOqo8KClJnQ     10386          6          a"
      ]
     },
     "execution_count": 8,
     "metadata": {},
     "output_type": "execute_result"
    }
   ],
   "source": [
    "df_groups.tail()"
   ]
  },
  {
   "cell_type": "code",
   "execution_count": 9,
   "metadata": {},
   "outputs": [
    {
     "data": {
      "text/plain": [
       "n    22741\n",
       "a    10662\n",
       "Name: group_type, dtype: int64"
      ]
     },
     "execution_count": 9,
     "metadata": {},
     "output_type": "execute_result"
    }
   ],
   "source": [
    "df_groups.group_type.value_counts()"
   ]
  },
  {
   "cell_type": "code",
   "execution_count": 10,
   "metadata": {},
   "outputs": [
    {
     "data": {
      "text/plain": [
       "10386"
      ]
     },
     "execution_count": 10,
     "metadata": {},
     "output_type": "execute_result"
    }
   ],
   "source": [
    "df_groups.group_id.max()"
   ]
  },
  {
   "cell_type": "markdown",
   "metadata": {},
   "source": [
    "## Reviewing Burstiness (BST) data"
   ]
  },
  {
   "cell_type": "code",
   "execution_count": 11,
   "metadata": {},
   "outputs": [],
   "source": [
    "df_bst = load_dataset(r'D:\\Yelp\\bst_own_review_count_groups.csv')"
   ]
  },
  {
   "cell_type": "code",
   "execution_count": 12,
   "metadata": {},
   "outputs": [
    {
     "data": {
      "text/html": [
       "<div>\n",
       "<style scoped>\n",
       "    .dataframe tbody tr th:only-of-type {\n",
       "        vertical-align: middle;\n",
       "    }\n",
       "\n",
       "    .dataframe tbody tr th {\n",
       "        vertical-align: top;\n",
       "    }\n",
       "\n",
       "    .dataframe thead th {\n",
       "        text-align: right;\n",
       "    }\n",
       "</style>\n",
       "<table border=\"1\" class=\"dataframe\">\n",
       "  <thead>\n",
       "    <tr style=\"text-align: right;\">\n",
       "      <th></th>\n",
       "      <th>user_id</th>\n",
       "      <th>bst</th>\n",
       "      <th>own_review_count</th>\n",
       "    </tr>\n",
       "  </thead>\n",
       "  <tbody>\n",
       "    <tr>\n",
       "      <th>0</th>\n",
       "      <td>--3WaS23LcIXtxyFULJHTA</td>\n",
       "      <td>0.964286</td>\n",
       "      <td>2</td>\n",
       "    </tr>\n",
       "    <tr>\n",
       "      <th>1</th>\n",
       "      <td>--7D3lFxyMYvs2JYiRrg6Q</td>\n",
       "      <td>0.000000</td>\n",
       "      <td>1</td>\n",
       "    </tr>\n",
       "    <tr>\n",
       "      <th>2</th>\n",
       "      <td>--JS-RvSykutl1DavCbkIg</td>\n",
       "      <td>0.000000</td>\n",
       "      <td>1</td>\n",
       "    </tr>\n",
       "    <tr>\n",
       "      <th>3</th>\n",
       "      <td>--OZO4c_vDOVC2z2BWr92A</td>\n",
       "      <td>0.964286</td>\n",
       "      <td>2</td>\n",
       "    </tr>\n",
       "    <tr>\n",
       "      <th>4</th>\n",
       "      <td>--wiweOmNCw6vg2kbzbwEA</td>\n",
       "      <td>0.000000</td>\n",
       "      <td>1</td>\n",
       "    </tr>\n",
       "  </tbody>\n",
       "</table>\n",
       "</div>"
      ],
      "text/plain": [
       "                  user_id       bst  own_review_count\n",
       "0  --3WaS23LcIXtxyFULJHTA  0.964286                 2\n",
       "1  --7D3lFxyMYvs2JYiRrg6Q  0.000000                 1\n",
       "2  --JS-RvSykutl1DavCbkIg  0.000000                 1\n",
       "3  --OZO4c_vDOVC2z2BWr92A  0.964286                 2\n",
       "4  --wiweOmNCw6vg2kbzbwEA  0.000000                 1"
      ]
     },
     "execution_count": 12,
     "metadata": {},
     "output_type": "execute_result"
    }
   ],
   "source": [
    "df_bst.head(5)"
   ]
  },
  {
   "cell_type": "markdown",
   "metadata": {},
   "source": [
    "## Cosine similarity"
   ]
  },
  {
   "cell_type": "code",
   "execution_count": 13,
   "metadata": {},
   "outputs": [],
   "source": [
    "df_cosine_similarity = load_dataset(r'D:\\Yelp\\cosine_groups.csv')"
   ]
  },
  {
   "cell_type": "code",
   "execution_count": 14,
   "metadata": {},
   "outputs": [
    {
     "data": {
      "text/html": [
       "<div>\n",
       "<style scoped>\n",
       "    .dataframe tbody tr th:only-of-type {\n",
       "        vertical-align: middle;\n",
       "    }\n",
       "\n",
       "    .dataframe tbody tr th {\n",
       "        vertical-align: top;\n",
       "    }\n",
       "\n",
       "    .dataframe thead th {\n",
       "        text-align: right;\n",
       "    }\n",
       "</style>\n",
       "<table border=\"1\" class=\"dataframe\">\n",
       "  <thead>\n",
       "    <tr style=\"text-align: right;\">\n",
       "      <th></th>\n",
       "      <th>group_id</th>\n",
       "      <th>cosine_mean</th>\n",
       "      <th>cosine_max</th>\n",
       "    </tr>\n",
       "  </thead>\n",
       "  <tbody>\n",
       "    <tr>\n",
       "      <th>0</th>\n",
       "      <td>0</td>\n",
       "      <td>0.319787</td>\n",
       "      <td>0.562996</td>\n",
       "    </tr>\n",
       "  </tbody>\n",
       "</table>\n",
       "</div>"
      ],
      "text/plain": [
       "   group_id  cosine_mean  cosine_max\n",
       "0         0     0.319787    0.562996"
      ]
     },
     "execution_count": 14,
     "metadata": {},
     "output_type": "execute_result"
    }
   ],
   "source": [
    "df_cosine_similarity.head(1)"
   ]
  },
  {
   "cell_type": "markdown",
   "metadata": {},
   "source": [
    "## Extreme Raiting Abuse (EXT)"
   ]
  },
  {
   "cell_type": "code",
   "execution_count": 15,
   "metadata": {},
   "outputs": [],
   "source": [
    "df_extreme_rating = load_dataset(r'D:\\Yelp\\extreme_rating_abuse.csv')"
   ]
  },
  {
   "cell_type": "code",
   "execution_count": 16,
   "metadata": {},
   "outputs": [
    {
     "data": {
      "text/html": [
       "<div>\n",
       "<style scoped>\n",
       "    .dataframe tbody tr th:only-of-type {\n",
       "        vertical-align: middle;\n",
       "    }\n",
       "\n",
       "    .dataframe tbody tr th {\n",
       "        vertical-align: top;\n",
       "    }\n",
       "\n",
       "    .dataframe thead th {\n",
       "        text-align: right;\n",
       "    }\n",
       "</style>\n",
       "<table border=\"1\" class=\"dataframe\">\n",
       "  <thead>\n",
       "    <tr style=\"text-align: right;\">\n",
       "      <th></th>\n",
       "      <th>user_id</th>\n",
       "      <th>ext</th>\n",
       "    </tr>\n",
       "  </thead>\n",
       "  <tbody>\n",
       "    <tr>\n",
       "      <th>0</th>\n",
       "      <td>--3WaS23LcIXtxyFULJHTA</td>\n",
       "      <td>0</td>\n",
       "    </tr>\n",
       "    <tr>\n",
       "      <th>1</th>\n",
       "      <td>--7D3lFxyMYvs2JYiRrg6Q</td>\n",
       "      <td>1</td>\n",
       "    </tr>\n",
       "    <tr>\n",
       "      <th>2</th>\n",
       "      <td>--JS-RvSykutl1DavCbkIg</td>\n",
       "      <td>1</td>\n",
       "    </tr>\n",
       "    <tr>\n",
       "      <th>3</th>\n",
       "      <td>--wiweOmNCw6vg2kbzbwEA</td>\n",
       "      <td>1</td>\n",
       "    </tr>\n",
       "    <tr>\n",
       "      <th>4</th>\n",
       "      <td>-0CTuvVqlEGeWvOt82B7Hg</td>\n",
       "      <td>0</td>\n",
       "    </tr>\n",
       "  </tbody>\n",
       "</table>\n",
       "</div>"
      ],
      "text/plain": [
       "                  user_id  ext\n",
       "0  --3WaS23LcIXtxyFULJHTA    0\n",
       "1  --7D3lFxyMYvs2JYiRrg6Q    1\n",
       "2  --JS-RvSykutl1DavCbkIg    1\n",
       "3  --wiweOmNCw6vg2kbzbwEA    1\n",
       "4  -0CTuvVqlEGeWvOt82B7Hg    0"
      ]
     },
     "execution_count": 16,
     "metadata": {},
     "output_type": "execute_result"
    }
   ],
   "source": [
    "df_extreme_rating.head()"
   ]
  },
  {
   "cell_type": "markdown",
   "metadata": {},
   "source": [
    "---"
   ]
  },
  {
   "cell_type": "markdown",
   "metadata": {},
   "source": [
    "# Merge for Group! Features"
   ]
  },
  {
   "cell_type": "code",
   "execution_count": 17,
   "metadata": {},
   "outputs": [],
   "source": [
    "df_g_features = df_charlotte_2016.merge(df_groups, on='user_id', how='inner')"
   ]
  },
  {
   "cell_type": "code",
   "execution_count": 18,
   "metadata": {},
   "outputs": [
    {
     "data": {
      "text/plain": [
       "(435220, 25)"
      ]
     },
     "execution_count": 18,
     "metadata": {},
     "output_type": "execute_result"
    }
   ],
   "source": [
    "df_g_features.shape"
   ]
  },
  {
   "cell_type": "markdown",
   "metadata": {},
   "source": [
    "---"
   ]
  },
  {
   "cell_type": "code",
   "execution_count": 19,
   "metadata": {},
   "outputs": [],
   "source": [
    "df_g_features = df_g_features.merge(df_bst, on='user_id', how='inner') "
   ]
  },
  {
   "cell_type": "markdown",
   "metadata": {},
   "source": [
    "---"
   ]
  },
  {
   "cell_type": "code",
   "execution_count": 20,
   "metadata": {},
   "outputs": [],
   "source": [
    "df_g_features = df_g_features.merge(df_extreme_rating, on='user_id', how='inner') "
   ]
  },
  {
   "cell_type": "markdown",
   "metadata": {},
   "source": [
    "---"
   ]
  },
  {
   "cell_type": "markdown",
   "metadata": {},
   "source": [
    "## Reduce"
   ]
  },
  {
   "cell_type": "code",
   "execution_count": 21,
   "metadata": {},
   "outputs": [],
   "source": [
    "df_g_features_reduced = df_g_features[['group_id', 'group_len', 'group_type', 'bst', 'own_review_count', 'ext']]"
   ]
  },
  {
   "cell_type": "code",
   "execution_count": 22,
   "metadata": {},
   "outputs": [
    {
     "data": {
      "text/html": [
       "<div>\n",
       "<style scoped>\n",
       "    .dataframe tbody tr th:only-of-type {\n",
       "        vertical-align: middle;\n",
       "    }\n",
       "\n",
       "    .dataframe tbody tr th {\n",
       "        vertical-align: top;\n",
       "    }\n",
       "\n",
       "    .dataframe thead th {\n",
       "        text-align: right;\n",
       "    }\n",
       "</style>\n",
       "<table border=\"1\" class=\"dataframe\">\n",
       "  <thead>\n",
       "    <tr style=\"text-align: right;\">\n",
       "      <th></th>\n",
       "      <th>group_id</th>\n",
       "      <th>group_len</th>\n",
       "      <th>group_type</th>\n",
       "      <th>bst</th>\n",
       "      <th>own_review_count</th>\n",
       "      <th>ext</th>\n",
       "    </tr>\n",
       "  </thead>\n",
       "  <tbody>\n",
       "    <tr>\n",
       "      <th>0</th>\n",
       "      <td>6835</td>\n",
       "      <td>2</td>\n",
       "      <td>n</td>\n",
       "      <td>0.0</td>\n",
       "      <td>2</td>\n",
       "      <td>1</td>\n",
       "    </tr>\n",
       "    <tr>\n",
       "      <th>1</th>\n",
       "      <td>6835</td>\n",
       "      <td>2</td>\n",
       "      <td>n</td>\n",
       "      <td>0.0</td>\n",
       "      <td>2</td>\n",
       "      <td>1</td>\n",
       "    </tr>\n",
       "    <tr>\n",
       "      <th>2</th>\n",
       "      <td>589</td>\n",
       "      <td>2</td>\n",
       "      <td>n</td>\n",
       "      <td>0.0</td>\n",
       "      <td>35</td>\n",
       "      <td>0</td>\n",
       "    </tr>\n",
       "    <tr>\n",
       "      <th>3</th>\n",
       "      <td>1023</td>\n",
       "      <td>14</td>\n",
       "      <td>n</td>\n",
       "      <td>0.0</td>\n",
       "      <td>35</td>\n",
       "      <td>0</td>\n",
       "    </tr>\n",
       "    <tr>\n",
       "      <th>4</th>\n",
       "      <td>1024</td>\n",
       "      <td>12</td>\n",
       "      <td>n</td>\n",
       "      <td>0.0</td>\n",
       "      <td>35</td>\n",
       "      <td>0</td>\n",
       "    </tr>\n",
       "  </tbody>\n",
       "</table>\n",
       "</div>"
      ],
      "text/plain": [
       "   group_id  group_len group_type  bst  own_review_count  ext\n",
       "0      6835          2          n  0.0                 2    1\n",
       "1      6835          2          n  0.0                 2    1\n",
       "2       589          2          n  0.0                35    0\n",
       "3      1023         14          n  0.0                35    0\n",
       "4      1024         12          n  0.0                35    0"
      ]
     },
     "execution_count": 22,
     "metadata": {},
     "output_type": "execute_result"
    }
   ],
   "source": [
    "df_g_features_reduced.head()"
   ]
  },
  {
   "cell_type": "markdown",
   "metadata": {},
   "source": [
    "---"
   ]
  },
  {
   "cell_type": "markdown",
   "metadata": {},
   "source": [
    "## Build Group Features"
   ]
  },
  {
   "cell_type": "code",
   "execution_count": 23,
   "metadata": {},
   "outputs": [],
   "source": [
    "bst_mean = df_g_features_reduced.groupby('group_id').bst.mean().to_frame(name='bst_mean')"
   ]
  },
  {
   "cell_type": "code",
   "execution_count": 24,
   "metadata": {},
   "outputs": [],
   "source": [
    "ext_mean = df_g_features_reduced.groupby('group_id').ext.mean().to_frame(name='ext_mean')"
   ]
  },
  {
   "cell_type": "code",
   "execution_count": 25,
   "metadata": {},
   "outputs": [],
   "source": [
    "group_review_count_sum = df_g_features_reduced.groupby('group_id').own_review_count.sum().to_frame(name='group_review_count_sum')"
   ]
  },
  {
   "cell_type": "code",
   "execution_count": 26,
   "metadata": {},
   "outputs": [],
   "source": [
    "group_review_count_mean = df_g_features_reduced.groupby('group_id').own_review_count.mean().to_frame(name='group_review_count_mean')"
   ]
  },
  {
   "cell_type": "markdown",
   "metadata": {},
   "source": [
    "---"
   ]
  },
  {
   "cell_type": "markdown",
   "metadata": {},
   "source": [
    "## Merge Group Features"
   ]
  },
  {
   "cell_type": "code",
   "execution_count": 27,
   "metadata": {},
   "outputs": [],
   "source": [
    "df_group_features = df_g_features_reduced.merge(ext_mean, on='group_id')"
   ]
  },
  {
   "cell_type": "code",
   "execution_count": 28,
   "metadata": {},
   "outputs": [],
   "source": [
    "df_group_features = df_group_features.merge(group_review_count_sum, on='group_id')"
   ]
  },
  {
   "cell_type": "code",
   "execution_count": 29,
   "metadata": {},
   "outputs": [],
   "source": [
    "df_group_features = df_group_features.merge(group_review_count_mean, on='group_id')"
   ]
  },
  {
   "cell_type": "code",
   "execution_count": 30,
   "metadata": {},
   "outputs": [],
   "source": [
    "df_group_features = df_group_features.merge(df_cosine_similarity, on='group_id')"
   ]
  },
  {
   "cell_type": "code",
   "execution_count": 31,
   "metadata": {},
   "outputs": [],
   "source": [
    "df_group_features = df_group_features.merge(bst_mean, on='group_id')"
   ]
  },
  {
   "cell_type": "code",
   "execution_count": 32,
   "metadata": {},
   "outputs": [
    {
     "data": {
      "text/html": [
       "<div>\n",
       "<style scoped>\n",
       "    .dataframe tbody tr th:only-of-type {\n",
       "        vertical-align: middle;\n",
       "    }\n",
       "\n",
       "    .dataframe tbody tr th {\n",
       "        vertical-align: top;\n",
       "    }\n",
       "\n",
       "    .dataframe thead th {\n",
       "        text-align: right;\n",
       "    }\n",
       "</style>\n",
       "<table border=\"1\" class=\"dataframe\">\n",
       "  <thead>\n",
       "    <tr style=\"text-align: right;\">\n",
       "      <th></th>\n",
       "      <th>group_id</th>\n",
       "      <th>group_len</th>\n",
       "      <th>group_type</th>\n",
       "      <th>bst</th>\n",
       "      <th>own_review_count</th>\n",
       "      <th>ext</th>\n",
       "      <th>ext_mean</th>\n",
       "      <th>group_review_count_sum</th>\n",
       "      <th>group_review_count_mean</th>\n",
       "      <th>cosine_mean</th>\n",
       "      <th>cosine_max</th>\n",
       "      <th>bst_mean</th>\n",
       "    </tr>\n",
       "  </thead>\n",
       "  <tbody>\n",
       "    <tr>\n",
       "      <th>0</th>\n",
       "      <td>6835</td>\n",
       "      <td>2</td>\n",
       "      <td>n</td>\n",
       "      <td>0.0</td>\n",
       "      <td>2</td>\n",
       "      <td>1</td>\n",
       "      <td>1.000000</td>\n",
       "      <td>5</td>\n",
       "      <td>1.666667</td>\n",
       "      <td>0.290987</td>\n",
       "      <td>0.464794</td>\n",
       "      <td>0.0</td>\n",
       "    </tr>\n",
       "    <tr>\n",
       "      <th>1</th>\n",
       "      <td>6835</td>\n",
       "      <td>2</td>\n",
       "      <td>n</td>\n",
       "      <td>0.0</td>\n",
       "      <td>2</td>\n",
       "      <td>1</td>\n",
       "      <td>1.000000</td>\n",
       "      <td>5</td>\n",
       "      <td>1.666667</td>\n",
       "      <td>0.290987</td>\n",
       "      <td>0.464794</td>\n",
       "      <td>0.0</td>\n",
       "    </tr>\n",
       "    <tr>\n",
       "      <th>2</th>\n",
       "      <td>6835</td>\n",
       "      <td>2</td>\n",
       "      <td>n</td>\n",
       "      <td>0.0</td>\n",
       "      <td>1</td>\n",
       "      <td>1</td>\n",
       "      <td>1.000000</td>\n",
       "      <td>5</td>\n",
       "      <td>1.666667</td>\n",
       "      <td>0.290987</td>\n",
       "      <td>0.464794</td>\n",
       "      <td>0.0</td>\n",
       "    </tr>\n",
       "    <tr>\n",
       "      <th>3</th>\n",
       "      <td>589</td>\n",
       "      <td>2</td>\n",
       "      <td>n</td>\n",
       "      <td>0.0</td>\n",
       "      <td>35</td>\n",
       "      <td>0</td>\n",
       "      <td>0.027778</td>\n",
       "      <td>1226</td>\n",
       "      <td>34.055556</td>\n",
       "      <td>0.216525</td>\n",
       "      <td>0.630271</td>\n",
       "      <td>0.0</td>\n",
       "    </tr>\n",
       "    <tr>\n",
       "      <th>4</th>\n",
       "      <td>589</td>\n",
       "      <td>2</td>\n",
       "      <td>n</td>\n",
       "      <td>0.0</td>\n",
       "      <td>35</td>\n",
       "      <td>0</td>\n",
       "      <td>0.027778</td>\n",
       "      <td>1226</td>\n",
       "      <td>34.055556</td>\n",
       "      <td>0.216525</td>\n",
       "      <td>0.630271</td>\n",
       "      <td>0.0</td>\n",
       "    </tr>\n",
       "  </tbody>\n",
       "</table>\n",
       "</div>"
      ],
      "text/plain": [
       "   group_id  group_len group_type  bst  own_review_count  ext  ext_mean  \\\n",
       "0      6835          2          n  0.0                 2    1  1.000000   \n",
       "1      6835          2          n  0.0                 2    1  1.000000   \n",
       "2      6835          2          n  0.0                 1    1  1.000000   \n",
       "3       589          2          n  0.0                35    0  0.027778   \n",
       "4       589          2          n  0.0                35    0  0.027778   \n",
       "\n",
       "   group_review_count_sum  group_review_count_mean  cosine_mean  cosine_max  \\\n",
       "0                       5                 1.666667     0.290987    0.464794   \n",
       "1                       5                 1.666667     0.290987    0.464794   \n",
       "2                       5                 1.666667     0.290987    0.464794   \n",
       "3                    1226                34.055556     0.216525    0.630271   \n",
       "4                    1226                34.055556     0.216525    0.630271   \n",
       "\n",
       "   bst_mean  \n",
       "0       0.0  \n",
       "1       0.0  \n",
       "2       0.0  \n",
       "3       0.0  \n",
       "4       0.0  "
      ]
     },
     "execution_count": 32,
     "metadata": {},
     "output_type": "execute_result"
    }
   ],
   "source": [
    "df_group_features.head()"
   ]
  },
  {
   "cell_type": "code",
   "execution_count": 33,
   "metadata": {},
   "outputs": [
    {
     "data": {
      "text/plain": [
       "(435220, 12)"
      ]
     },
     "execution_count": 33,
     "metadata": {},
     "output_type": "execute_result"
    }
   ],
   "source": [
    "df_group_features.shape"
   ]
  },
  {
   "cell_type": "markdown",
   "metadata": {},
   "source": [
    "---"
   ]
  },
  {
   "cell_type": "markdown",
   "metadata": {},
   "source": [
    "## normalize"
   ]
  },
  {
   "cell_type": "code",
   "execution_count": 34,
   "metadata": {},
   "outputs": [],
   "source": [
    "df_group_features['group_review_count_sum_normal'] = df_group_features['group_review_count_sum']/df_group_features['group_review_count_sum'].max()"
   ]
  },
  {
   "cell_type": "code",
   "execution_count": 35,
   "metadata": {},
   "outputs": [],
   "source": [
    "df_group_features['group_review_count_mean_normal'] = df_group_features['group_review_count_mean']/df_group_features['group_review_count_mean'].max()"
   ]
  },
  {
   "cell_type": "code",
   "execution_count": 36,
   "metadata": {},
   "outputs": [],
   "source": [
    "df_group_features['group_len_normal'] = df_group_features['group_len']/df_group_features['group_len'].max()"
   ]
  },
  {
   "cell_type": "code",
   "execution_count": 37,
   "metadata": {},
   "outputs": [
    {
     "data": {
      "text/html": [
       "<div>\n",
       "<style scoped>\n",
       "    .dataframe tbody tr th:only-of-type {\n",
       "        vertical-align: middle;\n",
       "    }\n",
       "\n",
       "    .dataframe tbody tr th {\n",
       "        vertical-align: top;\n",
       "    }\n",
       "\n",
       "    .dataframe thead th {\n",
       "        text-align: right;\n",
       "    }\n",
       "</style>\n",
       "<table border=\"1\" class=\"dataframe\">\n",
       "  <thead>\n",
       "    <tr style=\"text-align: right;\">\n",
       "      <th></th>\n",
       "      <th>group_id</th>\n",
       "      <th>group_len</th>\n",
       "      <th>group_type</th>\n",
       "      <th>bst</th>\n",
       "      <th>own_review_count</th>\n",
       "      <th>ext</th>\n",
       "      <th>ext_mean</th>\n",
       "      <th>group_review_count_sum</th>\n",
       "      <th>group_review_count_mean</th>\n",
       "      <th>cosine_mean</th>\n",
       "      <th>cosine_max</th>\n",
       "      <th>bst_mean</th>\n",
       "      <th>group_review_count_sum_normal</th>\n",
       "      <th>group_review_count_mean_normal</th>\n",
       "      <th>group_len_normal</th>\n",
       "    </tr>\n",
       "  </thead>\n",
       "  <tbody>\n",
       "    <tr>\n",
       "      <th>0</th>\n",
       "      <td>6835</td>\n",
       "      <td>2</td>\n",
       "      <td>n</td>\n",
       "      <td>0.0</td>\n",
       "      <td>2</td>\n",
       "      <td>1</td>\n",
       "      <td>1.000000</td>\n",
       "      <td>5</td>\n",
       "      <td>1.666667</td>\n",
       "      <td>0.290987</td>\n",
       "      <td>0.464794</td>\n",
       "      <td>0.0</td>\n",
       "      <td>0.000055</td>\n",
       "      <td>0.008291</td>\n",
       "      <td>0.068966</td>\n",
       "    </tr>\n",
       "    <tr>\n",
       "      <th>1</th>\n",
       "      <td>6835</td>\n",
       "      <td>2</td>\n",
       "      <td>n</td>\n",
       "      <td>0.0</td>\n",
       "      <td>2</td>\n",
       "      <td>1</td>\n",
       "      <td>1.000000</td>\n",
       "      <td>5</td>\n",
       "      <td>1.666667</td>\n",
       "      <td>0.290987</td>\n",
       "      <td>0.464794</td>\n",
       "      <td>0.0</td>\n",
       "      <td>0.000055</td>\n",
       "      <td>0.008291</td>\n",
       "      <td>0.068966</td>\n",
       "    </tr>\n",
       "    <tr>\n",
       "      <th>2</th>\n",
       "      <td>6835</td>\n",
       "      <td>2</td>\n",
       "      <td>n</td>\n",
       "      <td>0.0</td>\n",
       "      <td>1</td>\n",
       "      <td>1</td>\n",
       "      <td>1.000000</td>\n",
       "      <td>5</td>\n",
       "      <td>1.666667</td>\n",
       "      <td>0.290987</td>\n",
       "      <td>0.464794</td>\n",
       "      <td>0.0</td>\n",
       "      <td>0.000055</td>\n",
       "      <td>0.008291</td>\n",
       "      <td>0.068966</td>\n",
       "    </tr>\n",
       "    <tr>\n",
       "      <th>3</th>\n",
       "      <td>589</td>\n",
       "      <td>2</td>\n",
       "      <td>n</td>\n",
       "      <td>0.0</td>\n",
       "      <td>35</td>\n",
       "      <td>0</td>\n",
       "      <td>0.027778</td>\n",
       "      <td>1226</td>\n",
       "      <td>34.055556</td>\n",
       "      <td>0.216525</td>\n",
       "      <td>0.630271</td>\n",
       "      <td>0.0</td>\n",
       "      <td>0.013600</td>\n",
       "      <td>0.169422</td>\n",
       "      <td>0.068966</td>\n",
       "    </tr>\n",
       "    <tr>\n",
       "      <th>4</th>\n",
       "      <td>589</td>\n",
       "      <td>2</td>\n",
       "      <td>n</td>\n",
       "      <td>0.0</td>\n",
       "      <td>35</td>\n",
       "      <td>0</td>\n",
       "      <td>0.027778</td>\n",
       "      <td>1226</td>\n",
       "      <td>34.055556</td>\n",
       "      <td>0.216525</td>\n",
       "      <td>0.630271</td>\n",
       "      <td>0.0</td>\n",
       "      <td>0.013600</td>\n",
       "      <td>0.169422</td>\n",
       "      <td>0.068966</td>\n",
       "    </tr>\n",
       "  </tbody>\n",
       "</table>\n",
       "</div>"
      ],
      "text/plain": [
       "   group_id  group_len group_type  bst  own_review_count  ext  ext_mean  \\\n",
       "0      6835          2          n  0.0                 2    1  1.000000   \n",
       "1      6835          2          n  0.0                 2    1  1.000000   \n",
       "2      6835          2          n  0.0                 1    1  1.000000   \n",
       "3       589          2          n  0.0                35    0  0.027778   \n",
       "4       589          2          n  0.0                35    0  0.027778   \n",
       "\n",
       "   group_review_count_sum  group_review_count_mean  cosine_mean  cosine_max  \\\n",
       "0                       5                 1.666667     0.290987    0.464794   \n",
       "1                       5                 1.666667     0.290987    0.464794   \n",
       "2                       5                 1.666667     0.290987    0.464794   \n",
       "3                    1226                34.055556     0.216525    0.630271   \n",
       "4                    1226                34.055556     0.216525    0.630271   \n",
       "\n",
       "   bst_mean  group_review_count_sum_normal  group_review_count_mean_normal  \\\n",
       "0       0.0                       0.000055                        0.008291   \n",
       "1       0.0                       0.000055                        0.008291   \n",
       "2       0.0                       0.000055                        0.008291   \n",
       "3       0.0                       0.013600                        0.169422   \n",
       "4       0.0                       0.013600                        0.169422   \n",
       "\n",
       "   group_len_normal  \n",
       "0          0.068966  \n",
       "1          0.068966  \n",
       "2          0.068966  \n",
       "3          0.068966  \n",
       "4          0.068966  "
      ]
     },
     "execution_count": 37,
     "metadata": {},
     "output_type": "execute_result"
    }
   ],
   "source": [
    "df_group_features.head()"
   ]
  },
  {
   "cell_type": "code",
   "execution_count": 38,
   "metadata": {},
   "outputs": [],
   "source": [
    "df_group_features.index = df_group_features.group_id.map(str)"
   ]
  },
  {
   "cell_type": "markdown",
   "metadata": {},
   "source": [
    "## Add suspicious score"
   ]
  },
  {
   "cell_type": "code",
   "execution_count": 39,
   "metadata": {},
   "outputs": [
    {
     "data": {
      "text/plain": [
       "Index(['group_id', 'group_len', 'group_type', 'bst', 'own_review_count', 'ext',\n",
       "       'ext_mean', 'group_review_count_sum', 'group_review_count_mean',\n",
       "       'cosine_mean', 'cosine_max', 'bst_mean',\n",
       "       'group_review_count_sum_normal', 'group_review_count_mean_normal',\n",
       "       'group_len_normal'],\n",
       "      dtype='object')"
      ]
     },
     "execution_count": 39,
     "metadata": {},
     "output_type": "execute_result"
    }
   ],
   "source": [
    "df_group_features.columns"
   ]
  },
  {
   "cell_type": "code",
   "execution_count": 40,
   "metadata": {},
   "outputs": [],
   "source": [
    "df_group_features['suspicious_score'] =  (df_group_features['bst_mean'] \n",
    "                                            + df_group_features['ext_mean'] \n",
    "                                            + df_group_features['cosine_mean'] \n",
    "                                            )/3"
   ]
  },
  {
   "cell_type": "code",
   "execution_count": 41,
   "metadata": {},
   "outputs": [],
   "source": [
    "df_group_features = df_group_features.sort_values(by='suspicious_score', ascending=False)"
   ]
  },
  {
   "cell_type": "markdown",
   "metadata": {},
   "source": [
    "## remove dublicates"
   ]
  },
  {
   "cell_type": "code",
   "execution_count": 42,
   "metadata": {},
   "outputs": [
    {
     "data": {
      "text/plain": [
       "(435220, 16)"
      ]
     },
     "execution_count": 42,
     "metadata": {},
     "output_type": "execute_result"
    }
   ],
   "source": [
    "df_group_features.shape"
   ]
  },
  {
   "cell_type": "code",
   "execution_count": 43,
   "metadata": {},
   "outputs": [],
   "source": [
    "df_group_features = df_group_features.drop_duplicates(subset='group_id')"
   ]
  },
  {
   "cell_type": "code",
   "execution_count": 44,
   "metadata": {},
   "outputs": [
    {
     "data": {
      "text/plain": [
       "(10387, 16)"
      ]
     },
     "execution_count": 44,
     "metadata": {},
     "output_type": "execute_result"
    }
   ],
   "source": [
    "df_group_features.shape"
   ]
  },
  {
   "cell_type": "code",
   "execution_count": 45,
   "metadata": {},
   "outputs": [
    {
     "data": {
      "text/html": [
       "<div>\n",
       "<style scoped>\n",
       "    .dataframe tbody tr th:only-of-type {\n",
       "        vertical-align: middle;\n",
       "    }\n",
       "\n",
       "    .dataframe tbody tr th {\n",
       "        vertical-align: top;\n",
       "    }\n",
       "\n",
       "    .dataframe thead th {\n",
       "        text-align: right;\n",
       "    }\n",
       "</style>\n",
       "<table border=\"1\" class=\"dataframe\">\n",
       "  <thead>\n",
       "    <tr style=\"text-align: right;\">\n",
       "      <th></th>\n",
       "      <th>group_id</th>\n",
       "      <th>group_len</th>\n",
       "      <th>group_type</th>\n",
       "      <th>bst</th>\n",
       "      <th>own_review_count</th>\n",
       "      <th>ext</th>\n",
       "      <th>ext_mean</th>\n",
       "      <th>group_review_count_sum</th>\n",
       "      <th>group_review_count_mean</th>\n",
       "      <th>cosine_mean</th>\n",
       "      <th>cosine_max</th>\n",
       "      <th>bst_mean</th>\n",
       "      <th>group_review_count_sum_normal</th>\n",
       "      <th>group_review_count_mean_normal</th>\n",
       "      <th>group_len_normal</th>\n",
       "      <th>suspicious_score</th>\n",
       "    </tr>\n",
       "    <tr>\n",
       "      <th>group_id</th>\n",
       "      <th></th>\n",
       "      <th></th>\n",
       "      <th></th>\n",
       "      <th></th>\n",
       "      <th></th>\n",
       "      <th></th>\n",
       "      <th></th>\n",
       "      <th></th>\n",
       "      <th></th>\n",
       "      <th></th>\n",
       "      <th></th>\n",
       "      <th></th>\n",
       "      <th></th>\n",
       "      <th></th>\n",
       "      <th></th>\n",
       "      <th></th>\n",
       "    </tr>\n",
       "  </thead>\n",
       "  <tbody>\n",
       "    <tr>\n",
       "      <th>6868</th>\n",
       "      <td>6868</td>\n",
       "      <td>2</td>\n",
       "      <td>n</td>\n",
       "      <td>0.964286</td>\n",
       "      <td>3</td>\n",
       "      <td>1</td>\n",
       "      <td>1.000000</td>\n",
       "      <td>18</td>\n",
       "      <td>3.000000</td>\n",
       "      <td>0.440318</td>\n",
       "      <td>0.704904</td>\n",
       "      <td>0.964286</td>\n",
       "      <td>0.000200</td>\n",
       "      <td>0.014925</td>\n",
       "      <td>0.068966</td>\n",
       "      <td>0.801534</td>\n",
       "    </tr>\n",
       "    <tr>\n",
       "      <th>4089</th>\n",
       "      <td>4089</td>\n",
       "      <td>2</td>\n",
       "      <td>n</td>\n",
       "      <td>0.000000</td>\n",
       "      <td>1</td>\n",
       "      <td>1</td>\n",
       "      <td>1.000000</td>\n",
       "      <td>5</td>\n",
       "      <td>1.666667</td>\n",
       "      <td>0.780472</td>\n",
       "      <td>1.000000</td>\n",
       "      <td>0.571429</td>\n",
       "      <td>0.000055</td>\n",
       "      <td>0.008291</td>\n",
       "      <td>0.068966</td>\n",
       "      <td>0.783967</td>\n",
       "    </tr>\n",
       "    <tr>\n",
       "      <th>3156</th>\n",
       "      <td>3156</td>\n",
       "      <td>2</td>\n",
       "      <td>n</td>\n",
       "      <td>0.964286</td>\n",
       "      <td>2</td>\n",
       "      <td>1</td>\n",
       "      <td>1.000000</td>\n",
       "      <td>5</td>\n",
       "      <td>1.666667</td>\n",
       "      <td>0.691066</td>\n",
       "      <td>0.973269</td>\n",
       "      <td>0.642857</td>\n",
       "      <td>0.000055</td>\n",
       "      <td>0.008291</td>\n",
       "      <td>0.068966</td>\n",
       "      <td>0.777975</td>\n",
       "    </tr>\n",
       "    <tr>\n",
       "      <th>4423</th>\n",
       "      <td>4423</td>\n",
       "      <td>2</td>\n",
       "      <td>n</td>\n",
       "      <td>0.964286</td>\n",
       "      <td>2</td>\n",
       "      <td>1</td>\n",
       "      <td>1.000000</td>\n",
       "      <td>8</td>\n",
       "      <td>2.000000</td>\n",
       "      <td>0.358964</td>\n",
       "      <td>0.609847</td>\n",
       "      <td>0.964286</td>\n",
       "      <td>0.000089</td>\n",
       "      <td>0.009950</td>\n",
       "      <td>0.068966</td>\n",
       "      <td>0.774417</td>\n",
       "    </tr>\n",
       "    <tr>\n",
       "      <th>1358</th>\n",
       "      <td>1358</td>\n",
       "      <td>2</td>\n",
       "      <td>n</td>\n",
       "      <td>0.964286</td>\n",
       "      <td>2</td>\n",
       "      <td>1</td>\n",
       "      <td>1.000000</td>\n",
       "      <td>8</td>\n",
       "      <td>2.000000</td>\n",
       "      <td>0.354264</td>\n",
       "      <td>0.492545</td>\n",
       "      <td>0.964286</td>\n",
       "      <td>0.000089</td>\n",
       "      <td>0.009950</td>\n",
       "      <td>0.068966</td>\n",
       "      <td>0.772850</td>\n",
       "    </tr>\n",
       "    <tr>\n",
       "      <th>...</th>\n",
       "      <td>...</td>\n",
       "      <td>...</td>\n",
       "      <td>...</td>\n",
       "      <td>...</td>\n",
       "      <td>...</td>\n",
       "      <td>...</td>\n",
       "      <td>...</td>\n",
       "      <td>...</td>\n",
       "      <td>...</td>\n",
       "      <td>...</td>\n",
       "      <td>...</td>\n",
       "      <td>...</td>\n",
       "      <td>...</td>\n",
       "      <td>...</td>\n",
       "      <td>...</td>\n",
       "      <td>...</td>\n",
       "    </tr>\n",
       "    <tr>\n",
       "      <th>7058</th>\n",
       "      <td>7058</td>\n",
       "      <td>2</td>\n",
       "      <td>n</td>\n",
       "      <td>0.000000</td>\n",
       "      <td>1</td>\n",
       "      <td>1</td>\n",
       "      <td>1.000000</td>\n",
       "      <td>2</td>\n",
       "      <td>1.000000</td>\n",
       "      <td>0.186501</td>\n",
       "      <td>0.186501</td>\n",
       "      <td>0.000000</td>\n",
       "      <td>0.000022</td>\n",
       "      <td>0.004975</td>\n",
       "      <td>0.068966</td>\n",
       "      <td>0.395500</td>\n",
       "    </tr>\n",
       "    <tr>\n",
       "      <th>5150</th>\n",
       "      <td>5150</td>\n",
       "      <td>2</td>\n",
       "      <td>n</td>\n",
       "      <td>0.000000</td>\n",
       "      <td>1</td>\n",
       "      <td>1</td>\n",
       "      <td>1.000000</td>\n",
       "      <td>2</td>\n",
       "      <td>1.000000</td>\n",
       "      <td>0.186450</td>\n",
       "      <td>0.186450</td>\n",
       "      <td>0.000000</td>\n",
       "      <td>0.000022</td>\n",
       "      <td>0.004975</td>\n",
       "      <td>0.068966</td>\n",
       "      <td>0.395483</td>\n",
       "    </tr>\n",
       "    <tr>\n",
       "      <th>9988</th>\n",
       "      <td>9988</td>\n",
       "      <td>10</td>\n",
       "      <td>a</td>\n",
       "      <td>0.000000</td>\n",
       "      <td>5</td>\n",
       "      <td>1</td>\n",
       "      <td>0.428571</td>\n",
       "      <td>121</td>\n",
       "      <td>5.761905</td>\n",
       "      <td>0.252421</td>\n",
       "      <td>0.674133</td>\n",
       "      <td>0.505102</td>\n",
       "      <td>0.001342</td>\n",
       "      <td>0.028665</td>\n",
       "      <td>0.344828</td>\n",
       "      <td>0.395365</td>\n",
       "    </tr>\n",
       "    <tr>\n",
       "      <th>5227</th>\n",
       "      <td>5227</td>\n",
       "      <td>2</td>\n",
       "      <td>n</td>\n",
       "      <td>0.000000</td>\n",
       "      <td>1</td>\n",
       "      <td>1</td>\n",
       "      <td>1.000000</td>\n",
       "      <td>2</td>\n",
       "      <td>1.000000</td>\n",
       "      <td>0.185496</td>\n",
       "      <td>0.185496</td>\n",
       "      <td>0.000000</td>\n",
       "      <td>0.000022</td>\n",
       "      <td>0.004975</td>\n",
       "      <td>0.068966</td>\n",
       "      <td>0.395165</td>\n",
       "    </tr>\n",
       "    <tr>\n",
       "      <th>7935</th>\n",
       "      <td>7935</td>\n",
       "      <td>2</td>\n",
       "      <td>n</td>\n",
       "      <td>0.000000</td>\n",
       "      <td>1</td>\n",
       "      <td>1</td>\n",
       "      <td>1.000000</td>\n",
       "      <td>2</td>\n",
       "      <td>1.000000</td>\n",
       "      <td>0.184900</td>\n",
       "      <td>0.184900</td>\n",
       "      <td>0.000000</td>\n",
       "      <td>0.000022</td>\n",
       "      <td>0.004975</td>\n",
       "      <td>0.068966</td>\n",
       "      <td>0.394967</td>\n",
       "    </tr>\n",
       "  </tbody>\n",
       "</table>\n",
       "<p>2000 rows × 16 columns</p>\n",
       "</div>"
      ],
      "text/plain": [
       "          group_id  group_len group_type       bst  own_review_count  ext  \\\n",
       "group_id                                                                    \n",
       "6868          6868          2          n  0.964286                 3    1   \n",
       "4089          4089          2          n  0.000000                 1    1   \n",
       "3156          3156          2          n  0.964286                 2    1   \n",
       "4423          4423          2          n  0.964286                 2    1   \n",
       "1358          1358          2          n  0.964286                 2    1   \n",
       "...            ...        ...        ...       ...               ...  ...   \n",
       "7058          7058          2          n  0.000000                 1    1   \n",
       "5150          5150          2          n  0.000000                 1    1   \n",
       "9988          9988         10          a  0.000000                 5    1   \n",
       "5227          5227          2          n  0.000000                 1    1   \n",
       "7935          7935          2          n  0.000000                 1    1   \n",
       "\n",
       "          ext_mean  group_review_count_sum  group_review_count_mean  \\\n",
       "group_id                                                              \n",
       "6868      1.000000                      18                 3.000000   \n",
       "4089      1.000000                       5                 1.666667   \n",
       "3156      1.000000                       5                 1.666667   \n",
       "4423      1.000000                       8                 2.000000   \n",
       "1358      1.000000                       8                 2.000000   \n",
       "...            ...                     ...                      ...   \n",
       "7058      1.000000                       2                 1.000000   \n",
       "5150      1.000000                       2                 1.000000   \n",
       "9988      0.428571                     121                 5.761905   \n",
       "5227      1.000000                       2                 1.000000   \n",
       "7935      1.000000                       2                 1.000000   \n",
       "\n",
       "          cosine_mean  cosine_max  bst_mean  group_review_count_sum_normal  \\\n",
       "group_id                                                                     \n",
       "6868         0.440318    0.704904  0.964286                       0.000200   \n",
       "4089         0.780472    1.000000  0.571429                       0.000055   \n",
       "3156         0.691066    0.973269  0.642857                       0.000055   \n",
       "4423         0.358964    0.609847  0.964286                       0.000089   \n",
       "1358         0.354264    0.492545  0.964286                       0.000089   \n",
       "...               ...         ...       ...                            ...   \n",
       "7058         0.186501    0.186501  0.000000                       0.000022   \n",
       "5150         0.186450    0.186450  0.000000                       0.000022   \n",
       "9988         0.252421    0.674133  0.505102                       0.001342   \n",
       "5227         0.185496    0.185496  0.000000                       0.000022   \n",
       "7935         0.184900    0.184900  0.000000                       0.000022   \n",
       "\n",
       "          group_review_count_mean_normal  group_len_normal  suspicious_score  \n",
       "group_id                                                                      \n",
       "6868                            0.014925          0.068966          0.801534  \n",
       "4089                            0.008291          0.068966          0.783967  \n",
       "3156                            0.008291          0.068966          0.777975  \n",
       "4423                            0.009950          0.068966          0.774417  \n",
       "1358                            0.009950          0.068966          0.772850  \n",
       "...                                  ...               ...               ...  \n",
       "7058                            0.004975          0.068966          0.395500  \n",
       "5150                            0.004975          0.068966          0.395483  \n",
       "9988                            0.028665          0.344828          0.395365  \n",
       "5227                            0.004975          0.068966          0.395165  \n",
       "7935                            0.004975          0.068966          0.394967  \n",
       "\n",
       "[2000 rows x 16 columns]"
      ]
     },
     "execution_count": 45,
     "metadata": {},
     "output_type": "execute_result"
    }
   ],
   "source": [
    "df_group_features.head(2000)"
   ]
  },
  {
   "cell_type": "markdown",
   "metadata": {},
   "source": [
    "---"
   ]
  },
  {
   "cell_type": "code",
   "execution_count": 150,
   "metadata": {},
   "outputs": [
    {
     "data": {
      "image/png": "[encoded data removed]",
      "text/plain": [
       "<Figure size 432x288 with 1 Axes>"
      ]
     },
     "metadata": {
      "needs_background": "light"
     },
     "output_type": "display_data"
    }
   ],
   "source": [
    "ax = df_group_features[['suspicious_score']].plot(kind='line', color=\"orange\")\n",
    "\n",
    "ax.set_ylabel(\"Group Candidate Ranking\")\n",
    "ax.set_xlabel(\"Group ID's\")\n",
    "x_axis = ax.xaxis\n",
    "a = x_axis.set_ticklabels([])\n",
    "a = x_axis.set_ticks([])"
   ]
  },
  {
   "cell_type": "code",
   "execution_count": 148,
   "metadata": {},
   "outputs": [
    {
     "data": {
      "image/png": "[encoded data removed]",
      "text/plain": [
       "<Figure size 432x288 with 1 Axes>"
      ]
     },
     "metadata": {
      "needs_background": "light"
     },
     "output_type": "display_data"
    }
   ],
   "source": [
    "ax = df_group_features[['bst_mean', 'suspicious_score']].plot(kind='line')\n",
    "ax.set_ylabel(\"Burstiness (BST)\")\n",
    "ax.set_xlabel(\"Group ID's\")\n",
    "x_axis = ax.xaxis\n",
    "a = x_axis.set_ticklabels([])\n",
    "a = x_axis.set_ticks([])"
   ]
  },
  {
   "cell_type": "code",
   "execution_count": 147,
   "metadata": {},
   "outputs": [
    {
     "data": {
      "image/png": "[encoded data removed]",
      "text/plain": [
       "<Figure size 432x288 with 1 Axes>"
      ]
     },
     "metadata": {
      "needs_background": "light"
     },
     "output_type": "display_data"
    }
   ],
   "source": [
    "ax = df_group_features[['ext_mean', 'suspicious_score']].plot(kind='line')\n",
    "ax.set_ylabel(\"Extreme Rating (EXT)\")\n",
    "ax.set_xlabel(\"Group ID's\")\n",
    "x_axis = ax.xaxis\n",
    "a = x_axis.set_ticklabels([])\n",
    "a = x_axis.set_ticks([])"
   ]
  },
  {
   "cell_type": "code",
   "execution_count": 146,
   "metadata": {},
   "outputs": [
    {
     "data": {
      "image/png": "[encoded data removed]",
      "text/plain": [
       "<Figure size 432x288 with 1 Axes>"
      ]
     },
     "metadata": {
      "needs_background": "light"
     },
     "output_type": "display_data"
    }
   ],
   "source": [
    "ax = df_group_features[['cosine_mean', 'suspicious_score']].plot(kind='line')\n",
    "ax.set_ylabel(\"Cosine Similarity (CS)\")\n",
    "ax.set_xlabel(\"Group ID's\")\n",
    "x_axis = ax.xaxis\n",
    "a = x_axis.set_ticklabels([])\n",
    "a = x_axis.set_ticks([])"
   ]
  },
  {
   "cell_type": "code",
   "execution_count": 170,
   "metadata": {},
   "outputs": [
    {
     "name": "stdout",
     "output_type": "stream",
     "text": [
      "Line2D(group_len)\n"
     ]
    },
    {
     "data": {
      "text/plain": [
       "<matplotlib.legend.Legend at 0x237217642b0>"
      ]
     },
     "execution_count": 170,
     "metadata": {},
     "output_type": "execute_result"
    },
    {
     "data": {
      "image/png": "[encoded data removed]",
      "text/plain": [
       "<Figure size 432x288 with 2 Axes>"
      ]
     },
     "metadata": {
      "needs_background": "light"
     },
     "output_type": "display_data"
    }
   ],
   "source": [
    "ax = df_group_features[['group_len_normal', 'suspicious_score', 'group_len']].plot(kind='line', secondary_y=['group_len'])\n",
    "ax.set_ylabel(\"Number of Reviewers\")\n",
    "ax.set_xlabel(\"Group ID's\")\n",
    "x_axis = ax.xaxis\n",
    "a = x_axis.set_ticklabels([])\n",
    "a = x_axis.set_ticks([])\n",
    "\n",
    "ax.right_ax.set_ylabel('Number of Reviewers in a Group')\n",
    "\n",
    "handles, labels = ax.right_ax.get_legend_handles_labels()\n",
    "for i, h in enumerate(handles):\n",
    "    print(h)\n",
    "    h.set_linestyle(\"\")\n",
    "    #ax.right_ax.legend(handles, labels)\n",
    "\n",
    "ax.legend(('group_len_normal','suspicious_score'))"
   ]
  },
  {
   "cell_type": "code",
   "execution_count": 169,
   "metadata": {},
   "outputs": [
    {
     "name": "stdout",
     "output_type": "stream",
     "text": [
      "Line2D(group_review_count_mean)\n"
     ]
    },
    {
     "data": {
      "text/plain": [
       "<matplotlib.legend.Legend at 0x237218fc320>"
      ]
     },
     "execution_count": 169,
     "metadata": {},
     "output_type": "execute_result"
    },
    {
     "data": {
      "image/png": "[encoded data removed]",
      "text/plain": [
       "<Figure size 432x288 with 2 Axes>"
      ]
     },
     "metadata": {
      "needs_background": "light"
     },
     "output_type": "display_data"
    }
   ],
   "source": [
    "ax = df_group_features[['group_review_count_mean_normal', 'suspicious_score', 'group_review_count_mean']].plot(kind='line', secondary_y=['group_review_count_mean'])\n",
    "ax.set_ylabel(\"Number of Reviews\")\n",
    "ax.set_xlabel(\"Group ID's\")\n",
    "x_axis = ax.xaxis\n",
    "a = x_axis.set_ticklabels([])\n",
    "a = x_axis.set_ticks([])\n",
    "\n",
    "ax.right_ax.set_ylabel('Mean value of Reviews in a Group')\n",
    "\n",
    "handles, labels = ax.right_ax.get_legend_handles_labels()\n",
    "for i, h in enumerate(handles):\n",
    "    print(h)\n",
    "    h.set_linestyle(\"\")\n",
    "    #ax.right_ax.legend(handles, labels)\n",
    "\n",
    "ax.legend(('group_review_count_mean_normal','suspicious_score'))"
   ]
  },
  {
   "cell_type": "code",
   "execution_count": 52,
   "metadata": {},
   "outputs": [
    {
     "data": {
      "text/plain": [
       "<AxesSubplot:xlabel='suspicious_score'>"
      ]
     },
     "execution_count": 52,
     "metadata": {},
     "output_type": "execute_result"
    },
    {
     "data": {
      "image/png": "[encoded data removed]",
      "text/plain": [
       "<Figure size 432x288 with 1 Axes>"
      ]
     },
     "metadata": {
      "needs_background": "light"
     },
     "output_type": "display_data"
    }
   ],
   "source": [
    "df_group_features[['suspicious_score', 'group_type']].groupby('suspicious_score').group_type.value_counts().sort_values(ascending=False).unstack().plot(kind='bar', stacked=True)"
   ]
  },
  {
   "cell_type": "code",
   "execution_count": 53,
   "metadata": {},
   "outputs": [
    {
     "data": {
      "text/plain": [
       "Text(17.200000000000003, 0.5, 'Score')"
      ]
     },
     "execution_count": 53,
     "metadata": {},
     "output_type": "execute_result"
    }
   ],
   "source": [
    "\n",
    "ax.set_ylabel(\"Score\")"
   ]
  },
  {
   "cell_type": "markdown",
   "metadata": {},
   "source": [
    "## not used"
   ]
  },
  {
   "cell_type": "code",
   "execution_count": 113,
   "metadata": {},
   "outputs": [
    {
     "data": {
      "text/plain": [
       "Text(0.5, 0, \"Group ID's\")"
      ]
     },
     "execution_count": 113,
     "metadata": {},
     "output_type": "execute_result"
    },
    {
     "data": {
      "image/png": "[encoded data removed]",
      "text/plain": [
       "<Figure size 432x288 with 1 Axes>"
      ]
     },
     "metadata": {
      "needs_background": "light"
     },
     "output_type": "display_data"
    }
   ],
   "source": [
    "ax = df_group_features[['group_review_count_sum_normal', 'suspicious_score']].plot(kind='line')\n",
    "ax.set_ylabel(\"Score\")\n",
    "ax.set_xlabel(\"Group ID's\")\n"
   ]
  },
  {
   "cell_type": "code",
   "execution_count": 55,
   "metadata": {},
   "outputs": [
    {
     "data": {
      "text/plain": [
       "Text(0.5, 0, \"Group ID's\")"
      ]
     },
     "execution_count": 55,
     "metadata": {},
     "output_type": "execute_result"
    },
    {
     "data": {
      "image/png": "[encoded data removed]",
      "text/plain": [
       "<Figure size 720x288 with 1 Axes>"
      ]
     },
     "metadata": {
      "needs_background": "light"
     },
     "output_type": "display_data"
    }
   ],
   "source": [
    "ax = df_group_features[['cosine_max']].plot(kind='line', figsize=(10,4))\n",
    "ax.set_ylabel(\"Score\")\n",
    "ax.set_xlabel(\"Group ID's\")"
   ]
  },
  {
   "cell_type": "markdown",
   "metadata": {},
   "source": [
    "## Looking at a group"
   ]
  },
  {
   "cell_type": "code",
   "execution_count": 56,
   "metadata": {},
   "outputs": [
    {
     "name": "stdout",
     "output_type": "stream",
     "text": [
      "{'user_id': 'yL9kq9jALecBHvJQP-MY8g', 'business_id': 'HmAQq1Wbz2oAFX-KqTAM_A', 'review_id': 'j9WO1SrtqRs4wcW60Nu8ig'}\n",
      "So we paid American Airlines $1028.00 for a flight that happened to be connecting in Charlotte NC - because the flight crew was late, we didn't leave from Jacksonville on time which made us late getting to our connecting flight.  When we arrived in NC, we discovered that the flights as been postponed for 10 minutes - we rushed to join the line only to be told after standing there for a few minutes, only 1 set was left.  I looked at the monitor and saw that several standbys had taken a lot of the seats (ours included)!   When we asked the attendees, we were told no standbys were on the flight - LIE / we went to customer service and was told we couldn't fly until the next day - we were given a voucher to stay at this hotel.  We travel the world - we are in and out of hotels often.  This was by far the worse.  No clocks, no working shower, tags were so thin you could see through them,  floors were nasty, mold was in the shower, tv didn't work, hallway smelled like it had been infested with rats before - it was horrible.  I wouldn't bring my dog there to stay!   To pay this much money and be treated like this was not right!   I'm pissed!  Dispute all of this, the young man name Jose Parades who works for American Airlines was very helpful.  He made us feel like human beings.  He listened and showed concern!  I never had this issue with JETBLUE!  That airline is a class act!\n",
      "{'user_id': 'yL9kq9jALecBHvJQP-MY8g', 'business_id': 'J7As1iazdxHnXv03Ex8HDg', 'review_id': 'mPBdetEKOiQa1Y87PuC_nA'}\n",
      "So we paid American Airlines $1028.00 for a flight that happened to be connecting in Charlotte NC - because the flight crew was late, we didn't leave from Jacksonville on time which made us late getting to our connecting flight.  When we arrived in NC, we discovered that the flights as been postponed for 10 minutes - we rushed to join the line only to be told after standing there for a few minutes, only 1 set was left.  I looked at the monitor and saw that several standbys had taken a lot of the seats (ours included)!   When we asked the attendees, we were told no standbys were on the flight - LIE / we went to customer service and was told we couldn't fly until the next day - we were given a voucher to stay at this hotel.  We travel the world - we are in and out of hotels often.  This was by far the worse.  No clocks, no working shower, tags were so thin you could see through them,  floors were nasty, mold was in the shower, tv didn't work, hallway smelled like it had been infested with rats before - it was horrible.  I wouldn't bring my dog there to stay!   To pay this much money and be treated like this was not right!   I'm pissed!\n",
      "{'user_id': 'zs02WPrLkfA2wZIWYeHu4w', 'business_id': 'J7As1iazdxHnXv03Ex8HDg', 'review_id': '_6MPuYOLmNvNMeTVOv5syQ'}\n",
      "You get what you pay for and I didn't pay anything so that should be enough to explain it all. American Airlines crew didn't show up to my connecting flight and this is where they placed me. I was really disappointed because I thought for once, I was going to be offered a decent comp. BUT, they set me up with this Motel 6. The tv didn't work, there were stains on the bed covers, half the lights don't turn on, and there was hair in the hotel room that wasn't mine. Their online pictures are deceptive. Stay away.\n"
     ]
    },
    {
     "data": {
      "text/html": [
       "<div>\n",
       "<style scoped>\n",
       "    .dataframe tbody tr th:only-of-type {\n",
       "        vertical-align: middle;\n",
       "    }\n",
       "\n",
       "    .dataframe tbody tr th {\n",
       "        vertical-align: top;\n",
       "    }\n",
       "\n",
       "    .dataframe thead th {\n",
       "        text-align: right;\n",
       "    }\n",
       "</style>\n",
       "<table border=\"1\" class=\"dataframe\">\n",
       "  <thead>\n",
       "    <tr style=\"text-align: right;\">\n",
       "      <th></th>\n",
       "      <th>business_id</th>\n",
       "      <th>name</th>\n",
       "      <th>address</th>\n",
       "      <th>city</th>\n",
       "      <th>state</th>\n",
       "      <th>postal_code</th>\n",
       "      <th>latitude</th>\n",
       "      <th>longitude</th>\n",
       "      <th>stars_business</th>\n",
       "      <th>review_count</th>\n",
       "      <th>...</th>\n",
       "      <th>user_id</th>\n",
       "      <th>stars_review</th>\n",
       "      <th>useful</th>\n",
       "      <th>funny</th>\n",
       "      <th>cool</th>\n",
       "      <th>text</th>\n",
       "      <th>date</th>\n",
       "      <th>group_id</th>\n",
       "      <th>group_len</th>\n",
       "      <th>group_type</th>\n",
       "    </tr>\n",
       "  </thead>\n",
       "  <tbody>\n",
       "    <tr>\n",
       "      <th>402863</th>\n",
       "      <td>HmAQq1Wbz2oAFX-KqTAM_A</td>\n",
       "      <td>American Airlines</td>\n",
       "      <td>5501 Josh Birmingham Pkwy, Unit 11</td>\n",
       "      <td>Charlotte</td>\n",
       "      <td>NC</td>\n",
       "      <td>28208.0</td>\n",
       "      <td>35.220154</td>\n",
       "      <td>-80.942871</td>\n",
       "      <td>1.5</td>\n",
       "      <td>482</td>\n",
       "      <td>...</td>\n",
       "      <td>yL9kq9jALecBHvJQP-MY8g</td>\n",
       "      <td>1.0</td>\n",
       "      <td>0</td>\n",
       "      <td>0</td>\n",
       "      <td>0</td>\n",
       "      <td>So we paid American Airlines $1028.00 for a fl...</td>\n",
       "      <td>2016-06-22 09:34:52</td>\n",
       "      <td>3156</td>\n",
       "      <td>2</td>\n",
       "      <td>n</td>\n",
       "    </tr>\n",
       "    <tr>\n",
       "      <th>402866</th>\n",
       "      <td>J7As1iazdxHnXv03Ex8HDg</td>\n",
       "      <td>Motel 6</td>\n",
       "      <td>4416 S Tryon St</td>\n",
       "      <td>Charlotte</td>\n",
       "      <td>NC</td>\n",
       "      <td>28217.0</td>\n",
       "      <td>35.185307</td>\n",
       "      <td>-80.886133</td>\n",
       "      <td>1.5</td>\n",
       "      <td>10</td>\n",
       "      <td>...</td>\n",
       "      <td>yL9kq9jALecBHvJQP-MY8g</td>\n",
       "      <td>1.0</td>\n",
       "      <td>0</td>\n",
       "      <td>0</td>\n",
       "      <td>0</td>\n",
       "      <td>So we paid American Airlines $1028.00 for a fl...</td>\n",
       "      <td>2016-06-22 09:09:15</td>\n",
       "      <td>3156</td>\n",
       "      <td>2</td>\n",
       "      <td>n</td>\n",
       "    </tr>\n",
       "    <tr>\n",
       "      <th>434309</th>\n",
       "      <td>J7As1iazdxHnXv03Ex8HDg</td>\n",
       "      <td>Motel 6</td>\n",
       "      <td>4416 S Tryon St</td>\n",
       "      <td>Charlotte</td>\n",
       "      <td>NC</td>\n",
       "      <td>28217.0</td>\n",
       "      <td>35.185307</td>\n",
       "      <td>-80.886133</td>\n",
       "      <td>1.5</td>\n",
       "      <td>10</td>\n",
       "      <td>...</td>\n",
       "      <td>zs02WPrLkfA2wZIWYeHu4w</td>\n",
       "      <td>1.0</td>\n",
       "      <td>0</td>\n",
       "      <td>0</td>\n",
       "      <td>0</td>\n",
       "      <td>You get what you pay for and I didn't pay anyt...</td>\n",
       "      <td>2016-06-18 05:58:53</td>\n",
       "      <td>3156</td>\n",
       "      <td>2</td>\n",
       "      <td>n</td>\n",
       "    </tr>\n",
       "  </tbody>\n",
       "</table>\n",
       "<p>3 rows × 25 columns</p>\n",
       "</div>"
      ],
      "text/plain": [
       "                   business_id               name  \\\n",
       "402863  HmAQq1Wbz2oAFX-KqTAM_A  American Airlines   \n",
       "402866  J7As1iazdxHnXv03Ex8HDg            Motel 6   \n",
       "434309  J7As1iazdxHnXv03Ex8HDg            Motel 6   \n",
       "\n",
       "                                   address       city state  postal_code  \\\n",
       "402863  5501 Josh Birmingham Pkwy, Unit 11  Charlotte    NC      28208.0   \n",
       "402866                     4416 S Tryon St  Charlotte    NC      28217.0   \n",
       "434309                     4416 S Tryon St  Charlotte    NC      28217.0   \n",
       "\n",
       "         latitude  longitude  stars_business  review_count  ...  \\\n",
       "402863  35.220154 -80.942871             1.5           482  ...   \n",
       "402866  35.185307 -80.886133             1.5            10  ...   \n",
       "434309  35.185307 -80.886133             1.5            10  ...   \n",
       "\n",
       "                       user_id stars_review useful funny cool  \\\n",
       "402863  yL9kq9jALecBHvJQP-MY8g          1.0      0     0    0   \n",
       "402866  yL9kq9jALecBHvJQP-MY8g          1.0      0     0    0   \n",
       "434309  zs02WPrLkfA2wZIWYeHu4w          1.0      0     0    0   \n",
       "\n",
       "                                                     text  \\\n",
       "402863  So we paid American Airlines $1028.00 for a fl...   \n",
       "402866  So we paid American Airlines $1028.00 for a fl...   \n",
       "434309  You get what you pay for and I didn't pay anyt...   \n",
       "\n",
       "                       date  group_id  group_len  group_type  \n",
       "402863  2016-06-22 09:34:52      3156          2           n  \n",
       "402866  2016-06-22 09:09:15      3156          2           n  \n",
       "434309  2016-06-18 05:58:53      3156          2           n  \n",
       "\n",
       "[3 rows x 25 columns]"
      ]
     },
     "execution_count": 56,
     "metadata": {},
     "output_type": "execute_result"
    }
   ],
   "source": [
    "look_at_group(3156, df_charlotte_2016, df_groups)"
   ]
  },
  {
   "cell_type": "markdown",
   "metadata": {},
   "source": [
    "## Group Plot"
   ]
  },
  {
   "cell_type": "code",
   "execution_count": 57,
   "metadata": {},
   "outputs": [],
   "source": [
    "from matplotlib import pyplot as plt"
   ]
  },
  {
   "cell_type": "code",
   "execution_count": 58,
   "metadata": {},
   "outputs": [
    {
     "data": {
      "text/plain": [
       "n    8602\n",
       "a    1785\n",
       "Name: group_type, dtype: int64"
      ]
     },
     "execution_count": 58,
     "metadata": {},
     "output_type": "execute_result"
    }
   ],
   "source": [
    "df_group_features[['group_len', 'group_type']].group_type.value_counts()"
   ]
  },
  {
   "cell_type": "code",
   "execution_count": 59,
   "metadata": {},
   "outputs": [],
   "source": [
    "k_clique_df = df_group_features[['group_len', 'group_type']]"
   ]
  },
  {
   "cell_type": "code",
   "execution_count": 60,
   "metadata": {},
   "outputs": [
    {
     "name": "stderr",
     "output_type": "stream",
     "text": [
      "C:\\Users\\Niklas\\anaconda3\\envs\\Spam Detection\\lib\\site-packages\\pandas\\core\\series.py:4569: SettingWithCopyWarning: \n",
      "A value is trying to be set on a copy of a slice from a DataFrame\n",
      "\n",
      "See the caveats in the documentation: https://pandas.pydata.org/pandas-docs/stable/user_guide/indexing.html#returning-a-view-versus-a-copy\n",
      "  method=method,\n"
     ]
    }
   ],
   "source": [
    "k_clique_df.group_type.replace(to_replace='n', value='natural', inplace=True)\n",
    "k_clique_df.group_type.replace(to_replace='a', value='artificial', inplace=True)"
   ]
  },
  {
   "cell_type": "code",
   "execution_count": 166,
   "metadata": {},
   "outputs": [
    {
     "data": {
      "text/plain": [
       "<AxesSubplot:xlabel='group_type'>"
      ]
     },
     "execution_count": 166,
     "metadata": {},
     "output_type": "execute_result"
    },
    {
     "data": {
      "image/png": "[encoded data removed]",
      "text/plain": [
       "<Figure size 432x288 with 1 Axes>"
      ]
     },
     "metadata": {
      "needs_background": "light"
     },
     "output_type": "display_data"
    }
   ],
   "source": [
    "k_clique_df.groupby('group_len').group_type.value_counts().sort_values(ascending=False).to_frame(name='count').reset_index().set_index('group_type').plot(kind='bar')"
   ]
  },
  {
   "cell_type": "code",
   "execution_count": 61,
   "metadata": {},
   "outputs": [
    {
     "data": {
      "image/png": "[encoded data removed]",
      "text/plain": [
       "<Figure size 432x288 with 1 Axes>"
      ]
     },
     "metadata": {
      "needs_background": "light"
     },
     "output_type": "display_data"
    }
   ],
   "source": [
    "ax = k_clique_df.groupby('group_len').group_type.value_counts().sort_values(ascending=False).unstack().plot(kind='bar', stacked=True)\n",
    "ax.set_ylabel(\"Number of groups found\")\n",
    "ax.set_xlabel(\"k (size (of members) of found cliques)\")\n",
    "plt.show()"
   ]
  },
  {
   "cell_type": "markdown",
   "metadata": {},
   "source": [
    "## Percentage Bins"
   ]
  },
  {
   "cell_type": "code",
   "execution_count": 62,
   "metadata": {},
   "outputs": [],
   "source": [
    "bins = [0, 0.4 ,0.5, 0.6, 0.7, 0.8, 0.9, 1]"
   ]
  },
  {
   "cell_type": "code",
   "execution_count": 63,
   "metadata": {},
   "outputs": [],
   "source": [
    "df_group_features['suspicious_score_binned'] = pd.cut(df_group_features['suspicious_score'].values, bins) "
   ]
  },
  {
   "cell_type": "code",
   "execution_count": 64,
   "metadata": {},
   "outputs": [
    {
     "data": {
      "text/plain": [
       "(0.0, 0.4]    8462\n",
       "(0.4, 0.5]    1355\n",
       "(0.5, 0.6]     342\n",
       "(0.6, 0.7]     194\n",
       "(0.7, 0.8]      32\n",
       "(0.8, 0.9]       1\n",
       "(0.9, 1.0]       0\n",
       "Name: suspicious_score_binned, dtype: int64"
      ]
     },
     "execution_count": 64,
     "metadata": {},
     "output_type": "execute_result"
    }
   ],
   "source": [
    "df_group_features.suspicious_score_binned.value_counts(normalize=False)"
   ]
  },
  {
   "cell_type": "code",
   "execution_count": 65,
   "metadata": {},
   "outputs": [],
   "source": [
    "deeper_df = df_group_features[df_group_features.suspicious_score>0.5]"
   ]
  },
  {
   "cell_type": "code",
   "execution_count": 66,
   "metadata": {},
   "outputs": [
    {
     "data": {
      "text/plain": [
       "n    0.926186\n",
       "a    0.073814\n",
       "Name: group_type, dtype: float64"
      ]
     },
     "execution_count": 66,
     "metadata": {},
     "output_type": "execute_result"
    }
   ],
   "source": [
    "deeper_df.group_type.value_counts(normalize=True)"
   ]
  },
  {
   "cell_type": "code",
   "execution_count": null,
   "metadata": {},
   "outputs": [],
   "source": []
  },
  {
   "cell_type": "code",
   "execution_count": 67,
   "metadata": {},
   "outputs": [
    {
     "data": {
      "text/plain": [
       "n    0.828151\n",
       "a    0.171849\n",
       "Name: group_type, dtype: float64"
      ]
     },
     "execution_count": 67,
     "metadata": {},
     "output_type": "execute_result"
    }
   ],
   "source": [
    "df_group_features.group_type.value_counts(normalize=True)"
   ]
  },
  {
   "cell_type": "markdown",
   "metadata": {},
   "source": [
    "## avg number of reviews for each group"
   ]
  },
  {
   "cell_type": "code",
   "execution_count": 68,
   "metadata": {},
   "outputs": [],
   "source": [
    "avg_group_df = df_group_features[df_group_features.suspicious_score<0.3]"
   ]
  },
  {
   "cell_type": "code",
   "execution_count": 69,
   "metadata": {},
   "outputs": [
    {
     "data": {
      "text/plain": [
       "27.924380287487743"
      ]
     },
     "execution_count": 69,
     "metadata": {},
     "output_type": "execute_result"
    }
   ],
   "source": [
    "avg_group_df.group_review_count_mean.mean()"
   ]
  },
  {
   "cell_type": "code",
   "execution_count": null,
   "metadata": {},
   "outputs": [],
   "source": []
  }
 ],
 "metadata": {
  "kernelspec": {
   "display_name": "Python 3",
   "language": "python",
   "name": "python3"
  },
  "language_info": {
   "codemirror_mode": {
    "name": "ipython",
    "version": 3
   },
   "file_extension": ".py",
   "mimetype": "text/x-python",
   "name": "python",
   "nbconvert_exporter": "python",
   "pygments_lexer": "ipython3",
   "version": "3.7.9"
  }
 },
 "nbformat": 4,
 "nbformat_minor": 4
}
