{
 "cells": [
  {
   "cell_type": "code",
   "execution_count": 1,
   "metadata": {},
   "outputs": [],
   "source": [
    "import pandas as pd\n",
    "import json\n",
    "import networkx as nx\n",
    "from itertools import combinations\n",
    "import re\n",
    "import time\n",
    "from datetime import datetime"
   ]
  },
  {
   "cell_type": "code",
   "execution_count": 2,
   "metadata": {},
   "outputs": [
    {
     "name": "stdout",
     "output_type": "stream",
     "text": [
      "time: 0 ns\n"
     ]
    }
   ],
   "source": [
    "%load_ext autotime"
   ]
  },
  {
   "cell_type": "raw",
   "metadata": {},
   "source": [
    "path = r'D:\\Yelp\\yelp_academic_dataset_review.json'"
   ]
  },
  {
   "cell_type": "raw",
   "metadata": {},
   "source": [
    "def load_data(path, n):\n",
    "    data = []\n",
    "    for index, line in enumerate(open(path, 'r', encoding=\"utf-8\")):\n",
    "        if index == n:\n",
    "            break\n",
    "        data.append(json.loads(line))\n",
    "    df = pd.DataFrame(data)\n",
    "    \n",
    "    return df"
   ]
  },
  {
   "cell_type": "raw",
   "metadata": {},
   "source": [
    "df = load_data(path, n=100000)\n",
    "df['date'] =  pd.to_datetime(df['date'])\n",
    "df.head(1)\n",
    "print(df.shape)"
   ]
  },
  {
   "cell_type": "code",
   "execution_count": 3,
   "metadata": {},
   "outputs": [
    {
     "name": "stdout",
     "output_type": "stream",
     "text": [
      "time: 0 ns\n"
     ]
    }
   ],
   "source": [
    "path = r'D:\\Yelp\\charlotte_2016.csv'"
   ]
  },
  {
   "cell_type": "raw",
   "metadata": {},
   "source": [
    "path = r'D:\\Yelp\\vegas_2010.csv'"
   ]
  },
  {
   "cell_type": "code",
   "execution_count": 4,
   "metadata": {},
   "outputs": [
    {
     "name": "stdout",
     "output_type": "stream",
     "text": [
      "time: 906 ms\n"
     ]
    }
   ],
   "source": [
    "df = pd.read_csv(path, index_col=0)"
   ]
  },
  {
   "cell_type": "code",
   "execution_count": 53,
   "metadata": {},
   "outputs": [
    {
     "data": {
      "text/html": [
       "<div>\n",
       "<style scoped>\n",
       "    .dataframe tbody tr th:only-of-type {\n",
       "        vertical-align: middle;\n",
       "    }\n",
       "\n",
       "    .dataframe tbody tr th {\n",
       "        vertical-align: top;\n",
       "    }\n",
       "\n",
       "    .dataframe thead th {\n",
       "        text-align: right;\n",
       "    }\n",
       "</style>\n",
       "<table border=\"1\" class=\"dataframe\">\n",
       "  <thead>\n",
       "    <tr style=\"text-align: right;\">\n",
       "      <th></th>\n",
       "      <th>business_id</th>\n",
       "      <th>name</th>\n",
       "      <th>address</th>\n",
       "      <th>city</th>\n",
       "      <th>state</th>\n",
       "      <th>postal_code</th>\n",
       "      <th>latitude</th>\n",
       "      <th>longitude</th>\n",
       "      <th>stars_business</th>\n",
       "      <th>review_count</th>\n",
       "      <th>...</th>\n",
       "      <th>categories</th>\n",
       "      <th>hours</th>\n",
       "      <th>review_id</th>\n",
       "      <th>user_id</th>\n",
       "      <th>stars</th>\n",
       "      <th>useful</th>\n",
       "      <th>funny</th>\n",
       "      <th>cool</th>\n",
       "      <th>text</th>\n",
       "      <th>date</th>\n",
       "    </tr>\n",
       "  </thead>\n",
       "  <tbody>\n",
       "    <tr>\n",
       "      <th>8</th>\n",
       "      <td>0pOlmHVeidsh63iAWdTAfg</td>\n",
       "      <td>Hendrick Motors of Charlotte - Mercedes-Benz</td>\n",
       "      <td>5201 E Independence Blvd</td>\n",
       "      <td>Charlotte</td>\n",
       "      <td>NC</td>\n",
       "      <td>28212.0</td>\n",
       "      <td>35.188018</td>\n",
       "      <td>-80.758758</td>\n",
       "      <td>2.5</td>\n",
       "      <td>32</td>\n",
       "      <td>...</td>\n",
       "      <td>Auto Repair, Car Dealers, Automotive</td>\n",
       "      <td>{'Monday': '0:0-0:0', 'Tuesday': '7:30-19:0', ...</td>\n",
       "      <td>VyiezkRspGtuG68_rDYp3A</td>\n",
       "      <td>A0R17nyHQ9SiqQjtnsP33g</td>\n",
       "      <td>1.0</td>\n",
       "      <td>5</td>\n",
       "      <td>0</td>\n",
       "      <td>0</td>\n",
       "      <td>Mercedes used to be such a great brand with ex...</td>\n",
       "      <td>2016-12-23 03:54:01</td>\n",
       "    </tr>\n",
       "    <tr>\n",
       "      <th>37</th>\n",
       "      <td>0pOlmHVeidsh63iAWdTAfg</td>\n",
       "      <td>Hendrick Motors of Charlotte - Mercedes-Benz</td>\n",
       "      <td>5201 E Independence Blvd</td>\n",
       "      <td>Charlotte</td>\n",
       "      <td>NC</td>\n",
       "      <td>28212.0</td>\n",
       "      <td>35.188018</td>\n",
       "      <td>-80.758758</td>\n",
       "      <td>2.5</td>\n",
       "      <td>32</td>\n",
       "      <td>...</td>\n",
       "      <td>Auto Repair, Car Dealers, Automotive</td>\n",
       "      <td>{'Monday': '0:0-0:0', 'Tuesday': '7:30-19:0', ...</td>\n",
       "      <td>JjEQm2ToCdk5aAd8OAkEBQ</td>\n",
       "      <td>hpSViZNe-5eZaVSgi9LkZw</td>\n",
       "      <td>1.0</td>\n",
       "      <td>9</td>\n",
       "      <td>0</td>\n",
       "      <td>0</td>\n",
       "      <td>Horrible experience! Purchased a ML350 from he...</td>\n",
       "      <td>2016-02-14 04:09:06</td>\n",
       "    </tr>\n",
       "    <tr>\n",
       "      <th>42</th>\n",
       "      <td>-qjn24n8HYF6It9GQrQntw</td>\n",
       "      <td>Five Guys Burgers and Fries</td>\n",
       "      <td>2130 E Arbors Dr</td>\n",
       "      <td>Charlotte</td>\n",
       "      <td>NC</td>\n",
       "      <td>28262.0</td>\n",
       "      <td>35.338070</td>\n",
       "      <td>-80.757397</td>\n",
       "      <td>4.0</td>\n",
       "      <td>15</td>\n",
       "      <td>...</td>\n",
       "      <td>Fast Food, American (New), Restaurants, Burgers</td>\n",
       "      <td>{'Monday': '11:0-22:0', 'Tuesday': '11:0-22:0'...</td>\n",
       "      <td>5Xn44MB8m064N4Zn1VppIA</td>\n",
       "      <td>17TiV5o3EsIIbyFgSpBmXg</td>\n",
       "      <td>4.0</td>\n",
       "      <td>0</td>\n",
       "      <td>0</td>\n",
       "      <td>0</td>\n",
       "      <td>Always good fresh juicy burgers. They are a bi...</td>\n",
       "      <td>2016-08-13 04:18:40</td>\n",
       "    </tr>\n",
       "    <tr>\n",
       "      <th>44</th>\n",
       "      <td>-qjn24n8HYF6It9GQrQntw</td>\n",
       "      <td>Five Guys Burgers and Fries</td>\n",
       "      <td>2130 E Arbors Dr</td>\n",
       "      <td>Charlotte</td>\n",
       "      <td>NC</td>\n",
       "      <td>28262.0</td>\n",
       "      <td>35.338070</td>\n",
       "      <td>-80.757397</td>\n",
       "      <td>4.0</td>\n",
       "      <td>15</td>\n",
       "      <td>...</td>\n",
       "      <td>Fast Food, American (New), Restaurants, Burgers</td>\n",
       "      <td>{'Monday': '11:0-22:0', 'Tuesday': '11:0-22:0'...</td>\n",
       "      <td>IssjZBe_Y8S_QFcjUbdvVA</td>\n",
       "      <td>JeiCye0js6hLJdcREOu5bQ</td>\n",
       "      <td>3.0</td>\n",
       "      <td>1</td>\n",
       "      <td>0</td>\n",
       "      <td>0</td>\n",
       "      <td>FYI, this place is now closed.  No idea what h...</td>\n",
       "      <td>2016-12-06 16:29:59</td>\n",
       "    </tr>\n",
       "    <tr>\n",
       "      <th>48</th>\n",
       "      <td>-qjn24n8HYF6It9GQrQntw</td>\n",
       "      <td>Five Guys Burgers and Fries</td>\n",
       "      <td>2130 E Arbors Dr</td>\n",
       "      <td>Charlotte</td>\n",
       "      <td>NC</td>\n",
       "      <td>28262.0</td>\n",
       "      <td>35.338070</td>\n",
       "      <td>-80.757397</td>\n",
       "      <td>4.0</td>\n",
       "      <td>15</td>\n",
       "      <td>...</td>\n",
       "      <td>Fast Food, American (New), Restaurants, Burgers</td>\n",
       "      <td>{'Monday': '11:0-22:0', 'Tuesday': '11:0-22:0'...</td>\n",
       "      <td>IRgRCDwyNRz2cFyyuuFRtw</td>\n",
       "      <td>sdLns7062kz3Ur_b8wgeYw</td>\n",
       "      <td>5.0</td>\n",
       "      <td>1</td>\n",
       "      <td>0</td>\n",
       "      <td>0</td>\n",
       "      <td>These folks gave me a warm and fuzzy feeling i...</td>\n",
       "      <td>2016-01-11 23:54:31</td>\n",
       "    </tr>\n",
       "    <tr>\n",
       "      <th>...</th>\n",
       "      <td>...</td>\n",
       "      <td>...</td>\n",
       "      <td>...</td>\n",
       "      <td>...</td>\n",
       "      <td>...</td>\n",
       "      <td>...</td>\n",
       "      <td>...</td>\n",
       "      <td>...</td>\n",
       "      <td>...</td>\n",
       "      <td>...</td>\n",
       "      <td>...</td>\n",
       "      <td>...</td>\n",
       "      <td>...</td>\n",
       "      <td>...</td>\n",
       "      <td>...</td>\n",
       "      <td>...</td>\n",
       "      <td>...</td>\n",
       "      <td>...</td>\n",
       "      <td>...</td>\n",
       "      <td>...</td>\n",
       "      <td>...</td>\n",
       "    </tr>\n",
       "    <tr>\n",
       "      <th>384684</th>\n",
       "      <td>_JA3TLF5JJ95mthVwEdFuw</td>\n",
       "      <td>Steak ’n Shake</td>\n",
       "      <td>1926 Sardis Rd N</td>\n",
       "      <td>Charlotte</td>\n",
       "      <td>NC</td>\n",
       "      <td>28270.0</td>\n",
       "      <td>35.140920</td>\n",
       "      <td>-80.732982</td>\n",
       "      <td>2.0</td>\n",
       "      <td>88</td>\n",
       "      <td>...</td>\n",
       "      <td>Restaurants, Burgers, Fast Food, Diners, Break...</td>\n",
       "      <td>{'Monday': '0:0-0:0', 'Tuesday': '0:0-0:0', 'W...</td>\n",
       "      <td>mKFAQcB98K0ZB4Jr22TETA</td>\n",
       "      <td>CCE-S9fOl6oZgiaPMi9TXA</td>\n",
       "      <td>1.0</td>\n",
       "      <td>0</td>\n",
       "      <td>0</td>\n",
       "      <td>0</td>\n",
       "      <td>If I could give these people 0 stars I would. ...</td>\n",
       "      <td>2016-03-13 06:41:19</td>\n",
       "    </tr>\n",
       "    <tr>\n",
       "      <th>384687</th>\n",
       "      <td>_JA3TLF5JJ95mthVwEdFuw</td>\n",
       "      <td>Steak ’n Shake</td>\n",
       "      <td>1926 Sardis Rd N</td>\n",
       "      <td>Charlotte</td>\n",
       "      <td>NC</td>\n",
       "      <td>28270.0</td>\n",
       "      <td>35.140920</td>\n",
       "      <td>-80.732982</td>\n",
       "      <td>2.0</td>\n",
       "      <td>88</td>\n",
       "      <td>...</td>\n",
       "      <td>Restaurants, Burgers, Fast Food, Diners, Break...</td>\n",
       "      <td>{'Monday': '0:0-0:0', 'Tuesday': '0:0-0:0', 'W...</td>\n",
       "      <td>_hNxJfkRUsCCU3XmmWoo5Q</td>\n",
       "      <td>jJAi1T5DUSwuccjafLXTHQ</td>\n",
       "      <td>1.0</td>\n",
       "      <td>0</td>\n",
       "      <td>0</td>\n",
       "      <td>0</td>\n",
       "      <td>The line took forever, order and pay for our f...</td>\n",
       "      <td>2016-11-18 01:12:36</td>\n",
       "    </tr>\n",
       "    <tr>\n",
       "      <th>384703</th>\n",
       "      <td>_JA3TLF5JJ95mthVwEdFuw</td>\n",
       "      <td>Steak ’n Shake</td>\n",
       "      <td>1926 Sardis Rd N</td>\n",
       "      <td>Charlotte</td>\n",
       "      <td>NC</td>\n",
       "      <td>28270.0</td>\n",
       "      <td>35.140920</td>\n",
       "      <td>-80.732982</td>\n",
       "      <td>2.0</td>\n",
       "      <td>88</td>\n",
       "      <td>...</td>\n",
       "      <td>Restaurants, Burgers, Fast Food, Diners, Break...</td>\n",
       "      <td>{'Monday': '0:0-0:0', 'Tuesday': '0:0-0:0', 'W...</td>\n",
       "      <td>GR8-fBq9sM2WChsjeiq6vw</td>\n",
       "      <td>QRNzgxnW4uVkWZNkt9mH8w</td>\n",
       "      <td>1.0</td>\n",
       "      <td>0</td>\n",
       "      <td>0</td>\n",
       "      <td>0</td>\n",
       "      <td>I have been  told by many people that this is ...</td>\n",
       "      <td>2016-10-13 01:15:55</td>\n",
       "    </tr>\n",
       "    <tr>\n",
       "      <th>384709</th>\n",
       "      <td>_JA3TLF5JJ95mthVwEdFuw</td>\n",
       "      <td>Steak ’n Shake</td>\n",
       "      <td>1926 Sardis Rd N</td>\n",
       "      <td>Charlotte</td>\n",
       "      <td>NC</td>\n",
       "      <td>28270.0</td>\n",
       "      <td>35.140920</td>\n",
       "      <td>-80.732982</td>\n",
       "      <td>2.0</td>\n",
       "      <td>88</td>\n",
       "      <td>...</td>\n",
       "      <td>Restaurants, Burgers, Fast Food, Diners, Break...</td>\n",
       "      <td>{'Monday': '0:0-0:0', 'Tuesday': '0:0-0:0', 'W...</td>\n",
       "      <td>8inE0lJgX6BtB64lrSzukQ</td>\n",
       "      <td>QRNzgxnW4uVkWZNkt9mH8w</td>\n",
       "      <td>5.0</td>\n",
       "      <td>0</td>\n",
       "      <td>0</td>\n",
       "      <td>0</td>\n",
       "      <td>Holy cow!!! I am not a fan of eating out but t...</td>\n",
       "      <td>2016-09-16 01:32:59</td>\n",
       "    </tr>\n",
       "    <tr>\n",
       "      <th>384712</th>\n",
       "      <td>_JA3TLF5JJ95mthVwEdFuw</td>\n",
       "      <td>Steak ’n Shake</td>\n",
       "      <td>1926 Sardis Rd N</td>\n",
       "      <td>Charlotte</td>\n",
       "      <td>NC</td>\n",
       "      <td>28270.0</td>\n",
       "      <td>35.140920</td>\n",
       "      <td>-80.732982</td>\n",
       "      <td>2.0</td>\n",
       "      <td>88</td>\n",
       "      <td>...</td>\n",
       "      <td>Restaurants, Burgers, Fast Food, Diners, Break...</td>\n",
       "      <td>{'Monday': '0:0-0:0', 'Tuesday': '0:0-0:0', 'W...</td>\n",
       "      <td>m01xLiOTKvofaVQ3RINsTA</td>\n",
       "      <td>hkvjSR5p-V9HtEIbKYoqLw</td>\n",
       "      <td>3.0</td>\n",
       "      <td>0</td>\n",
       "      <td>0</td>\n",
       "      <td>0</td>\n",
       "      <td>Very nice people and decent food. Especially f...</td>\n",
       "      <td>2016-02-09 16:42:29</td>\n",
       "    </tr>\n",
       "  </tbody>\n",
       "</table>\n",
       "<p>51261 rows × 22 columns</p>\n",
       "</div>"
      ],
      "text/plain": [
       "                   business_id                                          name  \\\n",
       "8       0pOlmHVeidsh63iAWdTAfg  Hendrick Motors of Charlotte - Mercedes-Benz   \n",
       "37      0pOlmHVeidsh63iAWdTAfg  Hendrick Motors of Charlotte - Mercedes-Benz   \n",
       "42      -qjn24n8HYF6It9GQrQntw                   Five Guys Burgers and Fries   \n",
       "44      -qjn24n8HYF6It9GQrQntw                   Five Guys Burgers and Fries   \n",
       "48      -qjn24n8HYF6It9GQrQntw                   Five Guys Burgers and Fries   \n",
       "...                        ...                                           ...   \n",
       "384684  _JA3TLF5JJ95mthVwEdFuw                                Steak ’n Shake   \n",
       "384687  _JA3TLF5JJ95mthVwEdFuw                                Steak ’n Shake   \n",
       "384703  _JA3TLF5JJ95mthVwEdFuw                                Steak ’n Shake   \n",
       "384709  _JA3TLF5JJ95mthVwEdFuw                                Steak ’n Shake   \n",
       "384712  _JA3TLF5JJ95mthVwEdFuw                                Steak ’n Shake   \n",
       "\n",
       "                         address       city state  postal_code   latitude  \\\n",
       "8       5201 E Independence Blvd  Charlotte    NC      28212.0  35.188018   \n",
       "37      5201 E Independence Blvd  Charlotte    NC      28212.0  35.188018   \n",
       "42              2130 E Arbors Dr  Charlotte    NC      28262.0  35.338070   \n",
       "44              2130 E Arbors Dr  Charlotte    NC      28262.0  35.338070   \n",
       "48              2130 E Arbors Dr  Charlotte    NC      28262.0  35.338070   \n",
       "...                          ...        ...   ...          ...        ...   \n",
       "384684          1926 Sardis Rd N  Charlotte    NC      28270.0  35.140920   \n",
       "384687          1926 Sardis Rd N  Charlotte    NC      28270.0  35.140920   \n",
       "384703          1926 Sardis Rd N  Charlotte    NC      28270.0  35.140920   \n",
       "384709          1926 Sardis Rd N  Charlotte    NC      28270.0  35.140920   \n",
       "384712          1926 Sardis Rd N  Charlotte    NC      28270.0  35.140920   \n",
       "\n",
       "        longitude  stars_business  review_count  ...  \\\n",
       "8      -80.758758             2.5            32  ...   \n",
       "37     -80.758758             2.5            32  ...   \n",
       "42     -80.757397             4.0            15  ...   \n",
       "44     -80.757397             4.0            15  ...   \n",
       "48     -80.757397             4.0            15  ...   \n",
       "...           ...             ...           ...  ...   \n",
       "384684 -80.732982             2.0            88  ...   \n",
       "384687 -80.732982             2.0            88  ...   \n",
       "384703 -80.732982             2.0            88  ...   \n",
       "384709 -80.732982             2.0            88  ...   \n",
       "384712 -80.732982             2.0            88  ...   \n",
       "\n",
       "                                               categories  \\\n",
       "8                    Auto Repair, Car Dealers, Automotive   \n",
       "37                   Auto Repair, Car Dealers, Automotive   \n",
       "42        Fast Food, American (New), Restaurants, Burgers   \n",
       "44        Fast Food, American (New), Restaurants, Burgers   \n",
       "48        Fast Food, American (New), Restaurants, Burgers   \n",
       "...                                                   ...   \n",
       "384684  Restaurants, Burgers, Fast Food, Diners, Break...   \n",
       "384687  Restaurants, Burgers, Fast Food, Diners, Break...   \n",
       "384703  Restaurants, Burgers, Fast Food, Diners, Break...   \n",
       "384709  Restaurants, Burgers, Fast Food, Diners, Break...   \n",
       "384712  Restaurants, Burgers, Fast Food, Diners, Break...   \n",
       "\n",
       "                                                    hours  \\\n",
       "8       {'Monday': '0:0-0:0', 'Tuesday': '7:30-19:0', ...   \n",
       "37      {'Monday': '0:0-0:0', 'Tuesday': '7:30-19:0', ...   \n",
       "42      {'Monday': '11:0-22:0', 'Tuesday': '11:0-22:0'...   \n",
       "44      {'Monday': '11:0-22:0', 'Tuesday': '11:0-22:0'...   \n",
       "48      {'Monday': '11:0-22:0', 'Tuesday': '11:0-22:0'...   \n",
       "...                                                   ...   \n",
       "384684  {'Monday': '0:0-0:0', 'Tuesday': '0:0-0:0', 'W...   \n",
       "384687  {'Monday': '0:0-0:0', 'Tuesday': '0:0-0:0', 'W...   \n",
       "384703  {'Monday': '0:0-0:0', 'Tuesday': '0:0-0:0', 'W...   \n",
       "384709  {'Monday': '0:0-0:0', 'Tuesday': '0:0-0:0', 'W...   \n",
       "384712  {'Monday': '0:0-0:0', 'Tuesday': '0:0-0:0', 'W...   \n",
       "\n",
       "                     review_id                 user_id stars useful  funny  \\\n",
       "8       VyiezkRspGtuG68_rDYp3A  A0R17nyHQ9SiqQjtnsP33g   1.0      5      0   \n",
       "37      JjEQm2ToCdk5aAd8OAkEBQ  hpSViZNe-5eZaVSgi9LkZw   1.0      9      0   \n",
       "42      5Xn44MB8m064N4Zn1VppIA  17TiV5o3EsIIbyFgSpBmXg   4.0      0      0   \n",
       "44      IssjZBe_Y8S_QFcjUbdvVA  JeiCye0js6hLJdcREOu5bQ   3.0      1      0   \n",
       "48      IRgRCDwyNRz2cFyyuuFRtw  sdLns7062kz3Ur_b8wgeYw   5.0      1      0   \n",
       "...                        ...                     ...   ...    ...    ...   \n",
       "384684  mKFAQcB98K0ZB4Jr22TETA  CCE-S9fOl6oZgiaPMi9TXA   1.0      0      0   \n",
       "384687  _hNxJfkRUsCCU3XmmWoo5Q  jJAi1T5DUSwuccjafLXTHQ   1.0      0      0   \n",
       "384703  GR8-fBq9sM2WChsjeiq6vw  QRNzgxnW4uVkWZNkt9mH8w   1.0      0      0   \n",
       "384709  8inE0lJgX6BtB64lrSzukQ  QRNzgxnW4uVkWZNkt9mH8w   5.0      0      0   \n",
       "384712  m01xLiOTKvofaVQ3RINsTA  hkvjSR5p-V9HtEIbKYoqLw   3.0      0      0   \n",
       "\n",
       "        cool                                               text  \\\n",
       "8          0  Mercedes used to be such a great brand with ex...   \n",
       "37         0  Horrible experience! Purchased a ML350 from he...   \n",
       "42         0  Always good fresh juicy burgers. They are a bi...   \n",
       "44         0  FYI, this place is now closed.  No idea what h...   \n",
       "48         0  These folks gave me a warm and fuzzy feeling i...   \n",
       "...      ...                                                ...   \n",
       "384684     0  If I could give these people 0 stars I would. ...   \n",
       "384687     0  The line took forever, order and pay for our f...   \n",
       "384703     0  I have been  told by many people that this is ...   \n",
       "384709     0  Holy cow!!! I am not a fan of eating out but t...   \n",
       "384712     0  Very nice people and decent food. Especially f...   \n",
       "\n",
       "                      date  \n",
       "8      2016-12-23 03:54:01  \n",
       "37     2016-02-14 04:09:06  \n",
       "42     2016-08-13 04:18:40  \n",
       "44     2016-12-06 16:29:59  \n",
       "48     2016-01-11 23:54:31  \n",
       "...                    ...  \n",
       "384684 2016-03-13 06:41:19  \n",
       "384687 2016-11-18 01:12:36  \n",
       "384703 2016-10-13 01:15:55  \n",
       "384709 2016-09-16 01:32:59  \n",
       "384712 2016-02-09 16:42:29  \n",
       "\n",
       "[51261 rows x 22 columns]"
      ]
     },
     "execution_count": 53,
     "metadata": {},
     "output_type": "execute_result"
    },
    {
     "name": "stdout",
     "output_type": "stream",
     "text": [
      "time: 141 ms\n"
     ]
    }
   ],
   "source": [
    "df"
   ]
  },
  {
   "cell_type": "code",
   "execution_count": null,
   "metadata": {},
   "outputs": [],
   "source": []
  },
  {
   "cell_type": "code",
   "execution_count": 5,
   "metadata": {},
   "outputs": [
    {
     "data": {
      "text/plain": [
       "Index(['business_id', 'name', 'address', 'city', 'state', 'postal_code',\n",
       "       'latitude', 'longitude', 'stars_business', 'review_count', 'is_open',\n",
       "       'attributes', 'categories', 'hours', 'review_id', 'user_id',\n",
       "       'stars_review', 'useful', 'funny', 'cool', 'text', 'date'],\n",
       "      dtype='object')"
      ]
     },
     "execution_count": 5,
     "metadata": {},
     "output_type": "execute_result"
    },
    {
     "name": "stdout",
     "output_type": "stream",
     "text": [
      "time: 0 ns\n"
     ]
    }
   ],
   "source": [
    "df.columns"
   ]
  },
  {
   "cell_type": "code",
   "execution_count": 6,
   "metadata": {},
   "outputs": [
    {
     "name": "stdout",
     "output_type": "stream",
     "text": [
      "time: 0 ns\n"
     ]
    }
   ],
   "source": [
    "df.rename(columns={'stars_review': 'stars'}, inplace=True)"
   ]
  },
  {
   "cell_type": "code",
   "execution_count": 7,
   "metadata": {},
   "outputs": [
    {
     "name": "stdout",
     "output_type": "stream",
     "text": [
      "time: 31 ms\n"
     ]
    }
   ],
   "source": [
    "df['date'] =  pd.to_datetime(df['date'])"
   ]
  },
  {
   "cell_type": "code",
   "execution_count": 8,
   "metadata": {},
   "outputs": [
    {
     "data": {
      "text/plain": [
       "(51261, 22)"
      ]
     },
     "execution_count": 8,
     "metadata": {},
     "output_type": "execute_result"
    },
    {
     "name": "stdout",
     "output_type": "stream",
     "text": [
      "time: 0 ns\n"
     ]
    }
   ],
   "source": [
    "df.shape"
   ]
  },
  {
   "cell_type": "code",
   "execution_count": 9,
   "metadata": {},
   "outputs": [
    {
     "name": "stdout",
     "output_type": "stream",
     "text": [
      "5954\n",
      "time: 31 ms\n"
     ]
    }
   ],
   "source": [
    "groups = df.groupby('business_id')\n",
    "print(len(groups))"
   ]
  },
  {
   "cell_type": "code",
   "execution_count": 10,
   "metadata": {},
   "outputs": [
    {
     "name": "stdout",
     "output_type": "stream",
     "text": [
      "time: 0 ns\n"
     ]
    }
   ],
   "source": [
    "alpha = 6"
   ]
  },
  {
   "cell_type": "code",
   "execution_count": 11,
   "metadata": {},
   "outputs": [
    {
     "name": "stdout",
     "output_type": "stream",
     "text": [
      "Started at Time = 13:38:37\n",
      "time: 8min 20s\n"
     ]
    }
   ],
   "source": [
    "now = datetime.now()\n",
    "current_time = now.strftime(\"%H:%M:%S\")\n",
    "print(\"Started at Time =\", current_time)\n",
    "\n",
    "count_review = dict()\n",
    "G = nx.Graph()\n",
    "for index, g in groups: \n",
    "    \n",
    "    def filter_on_date(g):\n",
    "        result = []\n",
    "        def get_time_diff(combination):\n",
    "            diff = combination.iloc[0].date - combination.iloc[-1].date\n",
    "            return diff.days\n",
    "        \n",
    "        edges = list(combinations(g.user_id, 2))\n",
    "\n",
    "        for e in edges: \n",
    "            combination = g[g.user_id.isin(e)]\n",
    "            diff = get_time_diff(combination)\n",
    "            if abs(diff) > alpha:\n",
    "                continue\n",
    "            else:\n",
    "                result.append(e)\n",
    "        return result, list(set(g.business_id))[0]\n",
    "    \n",
    "    def filter_on_rating(g):\n",
    "        result = []\n",
    "        rating_g = g.groupby('stars')\n",
    "        \n",
    "        for i, r_g in rating_g:\n",
    "            result.append(r_g)\n",
    "        return result\n",
    "    \n",
    "    rating_g = filter_on_rating(g)\n",
    "    for g in rating_g: \n",
    "        date_g, product_id = filter_on_date(g)\n",
    "        if len(date_g) > 0:\n",
    "            for e in date_g:\n",
    "                u = e[0]\n",
    "                v = e[1]\n",
    "                G.add_edge(u, v)\n",
    "                \n",
    "                if (u,v, product_id) in count_review.keys():\n",
    "                    count_review[(u,v, product_id)] += 1\n",
    "                else:\n",
    "                    count_review[(u,v, product_id)] = 1"
   ]
  },
  {
   "cell_type": "raw",
   "metadata": {},
   "source": [
    "nx.draw(G, with_labels = True)"
   ]
  },
  {
   "cell_type": "code",
   "execution_count": 12,
   "metadata": {},
   "outputs": [
    {
     "name": "stdout",
     "output_type": "stream",
     "text": [
      "time: 0 ns\n"
     ]
    }
   ],
   "source": [
    "def filter_cliques(cliques, k):\n",
    "    result = []\n",
    "    for clique in cliques:\n",
    "        if len(clique) >= k:\n",
    "            result.append(clique)\n",
    "    return result"
   ]
  },
  {
   "cell_type": "code",
   "execution_count": 13,
   "metadata": {},
   "outputs": [
    {
     "name": "stdout",
     "output_type": "stream",
     "text": [
      "8602\n",
      "time: 156 ms\n"
     ]
    }
   ],
   "source": [
    "cliques = list(nx.find_cliques(G))\n",
    "cliques = filter_cliques(cliques, k=2)\n",
    "print(len(cliques))"
   ]
  },
  {
   "cell_type": "code",
   "execution_count": 14,
   "metadata": {},
   "outputs": [
    {
     "name": "stdout",
     "output_type": "stream",
     "text": [
      "time: 0 ns\n"
     ]
    }
   ],
   "source": [
    "beta = 2/3"
   ]
  },
  {
   "cell_type": "code",
   "execution_count": 15,
   "metadata": {},
   "outputs": [
    {
     "name": "stdout",
     "output_type": "stream",
     "text": [
      "time: 31 ms\n"
     ]
    }
   ],
   "source": [
    "def merge_cliques(cliques):\n",
    "    \n",
    "    def how_many_el_are_equal(clique, clique_search):\n",
    "        result = 0\n",
    "        \n",
    "        for element in clique:\n",
    "            if element in clique_search:\n",
    "                result+=1        \n",
    "        return result\n",
    "        \n",
    "    def get_arteficial_group(result_df):\n",
    "        result = []\n",
    "        arteficial_groups = result_df.groupby('common_elements').arteficial_grp.sum().values\n",
    "        \n",
    "        for group in arteficial_groups:\n",
    "            numbers = re.findall('[0-9]+', group)\n",
    "            result.append(list(set(numbers)))\n",
    "        return result\n",
    "    \n",
    "    result = []\n",
    "    k = 3\n",
    "    proccesed_cliques = dict()\n",
    "    for clique in cliques:\n",
    "        proccesed_cliques.update({str(clique):1})\n",
    "        for clique_search in cliques:\n",
    "            \n",
    "            # Grenzfälle\n",
    "            if clique == clique_search:\n",
    "                continue\n",
    "            if str(clique_search) in proccesed_cliques:\n",
    "                continue\n",
    "            \n",
    "            num_equal = how_many_el_are_equal(clique, clique_search)\n",
    "            treshold_clique = ((num_equal/len(clique)))\n",
    "            treshold_clique_search = ((num_equal/len(clique_search)))\n",
    "            #print(treshold_clique, treshold_clique_search)  \n",
    "            \n",
    "            # Grenzfall\n",
    "            if treshold_clique == 1 or treshold_clique_search == 1:\n",
    "                continue\n",
    "            \n",
    "            if treshold_clique>=beta or treshold_clique_search>=beta:\n",
    "  \n",
    "                common_elements = [x for x,y in zip(clique, clique_search) if x==y]\n",
    "                arteficial_grp = set(clique + clique_search)              \n",
    "               \n",
    "                #print(clique, clique_search, num_equal,  True, arteficial_grp, common_elements)\n",
    "                result.append({'arteficial_grp' : str(arteficial_grp), 'common_elements' : str(common_elements)})\n",
    "    if len(result) > 0:\n",
    "        result_df = pd.DataFrame(result) \n",
    "        result = get_arteficial_group(result_df)\n",
    "    return result\n",
    "    "
   ]
  },
  {
   "cell_type": "markdown",
   "metadata": {},
   "source": [
    "Draw Graph"
   ]
  },
  {
   "cell_type": "raw",
   "metadata": {},
   "source": [
    "cliques_extended = cliques.copy()\n",
    "cliques_extended.extend(merge_cliques(cliques))\n",
    "G_cliques = nx.Graph()\n",
    "for i, clique in enumerate(cliques):\n",
    "    combination = combinations(clique, 2)\n",
    "    for e in combination:\n",
    "        u = e[0]\n",
    "        v = e[1]\n",
    "        G_cliques.add_edge(u, v)\n",
    "nx.draw(G_cliques, with_labels=True, font_size =2)"
   ]
  },
  {
   "cell_type": "markdown",
   "metadata": {},
   "source": [
    "Create Dataset"
   ]
  },
  {
   "cell_type": "code",
   "execution_count": 16,
   "metadata": {},
   "outputs": [
    {
     "name": "stdout",
     "output_type": "stream",
     "text": [
      "natural_groups 8602\n",
      "artificial_groups 1000\n",
      "time: 1min 45s\n"
     ]
    }
   ],
   "source": [
    "artificial_groups = merge_cliques(cliques)\n",
    "natural_groups = cliques\n",
    "print('natural_groups', len(natural_groups))\n",
    "print('artificial_groups', len(artificial_groups))"
   ]
  },
  {
   "cell_type": "raw",
   "metadata": {},
   "source": [
    "df = pd.DataFrame(list(count_review), columns=['reviewer_id_u', 'reviewer_id_v', 'product_id'])\n",
    "df['review_count'] = count_review.values()"
   ]
  },
  {
   "cell_type": "raw",
   "metadata": {},
   "source": [
    "df.head()"
   ]
  },
  {
   "cell_type": "code",
   "execution_count": 17,
   "metadata": {},
   "outputs": [
    {
     "name": "stdout",
     "output_type": "stream",
     "text": [
      "time: 16 ms\n"
     ]
    }
   ],
   "source": [
    "def get_df_result(artificial_groups, natural_groups):\n",
    "    df_dict = []\n",
    "    #i = 0\n",
    "    for i, group in enumerate(natural_groups):\n",
    "        for reviewer_id in group:\n",
    "            df_dict.append({'reviewer_id': reviewer_id, 'group_id': i, 'group_len': len(group), 'group_type': 'n'})\n",
    "    \n",
    "    for f, group in enumerate(artificial_groups):\n",
    "        for reviewer_id in group:\n",
    "            df_dict.append({'reviewer_id': reviewer_id, 'group_id': f+i+1, 'group_len': len(group), 'group_type': 'a'})\n",
    "\n",
    "    df_result = pd.DataFrame(df_dict)\n",
    "    \n",
    "    \n",
    "    return df_result"
   ]
  },
  {
   "cell_type": "code",
   "execution_count": 18,
   "metadata": {},
   "outputs": [
    {
     "data": {
      "text/html": [
       "<div>\n",
       "<style scoped>\n",
       "    .dataframe tbody tr th:only-of-type {\n",
       "        vertical-align: middle;\n",
       "    }\n",
       "\n",
       "    .dataframe tbody tr th {\n",
       "        vertical-align: top;\n",
       "    }\n",
       "\n",
       "    .dataframe thead th {\n",
       "        text-align: right;\n",
       "    }\n",
       "</style>\n",
       "<table border=\"1\" class=\"dataframe\">\n",
       "  <thead>\n",
       "    <tr style=\"text-align: right;\">\n",
       "      <th></th>\n",
       "      <th>reviewer_id</th>\n",
       "      <th>group_id</th>\n",
       "      <th>group_len</th>\n",
       "      <th>group_type</th>\n",
       "    </tr>\n",
       "  </thead>\n",
       "  <tbody>\n",
       "    <tr>\n",
       "      <th>0</th>\n",
       "      <td>pbBSvO5mENr0mdl7JY-ZjA</td>\n",
       "      <td>0</td>\n",
       "      <td>2</td>\n",
       "      <td>n</td>\n",
       "    </tr>\n",
       "  </tbody>\n",
       "</table>\n",
       "</div>"
      ],
      "text/plain": [
       "              reviewer_id  group_id  group_len group_type\n",
       "0  pbBSvO5mENr0mdl7JY-ZjA         0          2          n"
      ]
     },
     "execution_count": 18,
     "metadata": {},
     "output_type": "execute_result"
    },
    {
     "name": "stdout",
     "output_type": "stream",
     "text": [
      "time: 78 ms\n"
     ]
    }
   ],
   "source": [
    "df_result = get_df_result(artificial_groups, natural_groups) \n",
    "df_result.head(1)"
   ]
  },
  {
   "cell_type": "raw",
   "metadata": {},
   "source": [
    "def get_diff_products(df_results, df):\n",
    "    result = []\n",
    "    groups = df_result.groupby('group_id').reviewer_id\n",
    "    \n",
    "    possible_candidates = list(set([review_id for group in natural_groups for review_id in group]))\n",
    "    print(len(possible_candidates))\n",
    "    print(df.shape)\n",
    "    df = df[(df.reviewer_id_u.isin(possible_candidates))&(df.reviewer_id_u.isin(possible_candidates))]\n",
    "    print(df.shape)\n",
    "    \n",
    "    print('len groups: ', len(groups))\n",
    "    print('time per group: ' + '3.3' + ' seconds')\n",
    "    print('time expected: '+ str(((len(groups)*3.3)/60)/60) + ' hours')\n",
    "    \n",
    "    \n",
    "    now = datetime.now()\n",
    "    current_time = now.strftime(\"%H:%M:%S\")\n",
    "    print(\"Started at Time =\", current_time)\n",
    "\n",
    "\n",
    "    for group_id, reviewer_ids in groups:\n",
    "        reviewer_ids = reviewer_ids.values\n",
    "        for index, row in df.iterrows():\n",
    "            u = row.reviewer_id_u\n",
    "            v = row.reviewer_id_v\n",
    "            product_id = row.product_id\n",
    "            if u in reviewer_ids and v in reviewer_ids:\n",
    "                result.append({'group_id': group_id, 'product_id': product_id})\n",
    "    result = pd.DataFrame(result)\n",
    "    result = result.groupby('group_id').product_id.nunique().to_frame().reset_index()\n",
    "    result = result.rename(columns={'product_id': 'product_count'})\n",
    "    return result"
   ]
  },
  {
   "cell_type": "raw",
   "metadata": {},
   "source": [
    "df_diff_products = get_diff_products(df_result, df)\n",
    "df_diff_products"
   ]
  },
  {
   "cell_type": "raw",
   "metadata": {},
   "source": [
    "df_final = df_result.merge(df_diff_products, on='group_id')"
   ]
  },
  {
   "cell_type": "code",
   "execution_count": 19,
   "metadata": {},
   "outputs": [
    {
     "name": "stdout",
     "output_type": "stream",
     "text": [
      "time: 0 ns\n"
     ]
    }
   ],
   "source": [
    "def plot_diff_products(df_final):\n",
    "    title = 'How many reviews has each group have in common'\n",
    "    df = df_final.drop_duplicates(subset='group_id')\n",
    "    df.product_count.plot(kind='bar', x='group_id')\n",
    "    plt.plot()"
   ]
  },
  {
   "cell_type": "raw",
   "metadata": {},
   "source": [
    "plot_diff_products(df_final)"
   ]
  },
  {
   "cell_type": "raw",
   "metadata": {},
   "source": [
    "df_final.groupby('group_id').group_len.count().plot(kind='bar', title='Group size')"
   ]
  },
  {
   "cell_type": "raw",
   "metadata": {},
   "source": [
    "df_result"
   ]
  },
  {
   "cell_type": "code",
   "execution_count": null,
   "metadata": {},
   "outputs": [],
   "source": []
  },
  {
   "cell_type": "code",
   "execution_count": 20,
   "metadata": {},
   "outputs": [
    {
     "data": {
      "text/plain": [
       "Index(['reviewer_id', 'group_id', 'group_len', 'group_type'], dtype='object')"
      ]
     },
     "execution_count": 20,
     "metadata": {},
     "output_type": "execute_result"
    },
    {
     "name": "stdout",
     "output_type": "stream",
     "text": [
      "time: 0 ns\n"
     ]
    }
   ],
   "source": [
    "df_result.columns"
   ]
  },
  {
   "cell_type": "code",
   "execution_count": 21,
   "metadata": {},
   "outputs": [
    {
     "data": {
      "text/plain": [
       "Index(['business_id', 'name', 'address', 'city', 'state', 'postal_code',\n",
       "       'latitude', 'longitude', 'stars_business', 'review_count', 'is_open',\n",
       "       'attributes', 'categories', 'hours', 'review_id', 'user_id', 'stars',\n",
       "       'useful', 'funny', 'cool', 'text', 'date'],\n",
       "      dtype='object')"
      ]
     },
     "execution_count": 21,
     "metadata": {},
     "output_type": "execute_result"
    },
    {
     "name": "stdout",
     "output_type": "stream",
     "text": [
      "time: 0 ns\n"
     ]
    }
   ],
   "source": [
    "df.columns"
   ]
  },
  {
   "cell_type": "code",
   "execution_count": 22,
   "metadata": {},
   "outputs": [
    {
     "name": "stdout",
     "output_type": "stream",
     "text": [
      "time: 0 ns\n"
     ]
    }
   ],
   "source": [
    "df_result.rename(columns={'reviewer_id': 'user_id'}, inplace=True)"
   ]
  },
  {
   "cell_type": "code",
   "execution_count": 62,
   "metadata": {},
   "outputs": [
    {
     "name": "stdout",
     "output_type": "stream",
     "text": [
      "time: 281 ms\n"
     ]
    }
   ],
   "source": [
    "df_final = df.merge(df_result, on='user_id',  how='left')"
   ]
  },
  {
   "cell_type": "code",
   "execution_count": 64,
   "metadata": {},
   "outputs": [
    {
     "name": "stdout",
     "output_type": "stream",
     "text": [
      "time: 13 s\n"
     ]
    }
   ],
   "source": [
    "df_final.to_csv('charlotte_2016.csv')"
   ]
  },
  {
   "cell_type": "code",
   "execution_count": null,
   "metadata": {},
   "outputs": [],
   "source": [
    "262215"
   ]
  },
  {
   "cell_type": "code",
   "execution_count": 25,
   "metadata": {},
   "outputs": [
    {
     "data": {
      "text/plain": [
       "(51261, 22)"
      ]
     },
     "execution_count": 25,
     "metadata": {},
     "output_type": "execute_result"
    },
    {
     "name": "stdout",
     "output_type": "stream",
     "text": [
      "time: 0 ns\n"
     ]
    }
   ],
   "source": [
    "df.shape"
   ]
  },
  {
   "cell_type": "code",
   "execution_count": 26,
   "metadata": {},
   "outputs": [
    {
     "data": {
      "text/plain": [
       "(245273, 25)"
      ]
     },
     "execution_count": 26,
     "metadata": {},
     "output_type": "execute_result"
    },
    {
     "name": "stdout",
     "output_type": "stream",
     "text": [
      "time: 0 ns\n"
     ]
    }
   ],
   "source": [
    "df_final.shape"
   ]
  },
  {
   "cell_type": "code",
   "execution_count": 27,
   "metadata": {},
   "outputs": [
    {
     "data": {
      "text/plain": [
       "Index(['business_id', 'name', 'address', 'city', 'state', 'postal_code',\n",
       "       'latitude', 'longitude', 'stars_business', 'review_count', 'is_open',\n",
       "       'attributes', 'categories', 'hours', 'review_id', 'user_id', 'stars',\n",
       "       'useful', 'funny', 'cool', 'text', 'date', 'group_id', 'group_len',\n",
       "       'group_type'],\n",
       "      dtype='object')"
      ]
     },
     "execution_count": 27,
     "metadata": {},
     "output_type": "execute_result"
    },
    {
     "name": "stdout",
     "output_type": "stream",
     "text": [
      "time: 0 ns\n"
     ]
    }
   ],
   "source": [
    "df_final.columns"
   ]
  },
  {
   "cell_type": "code",
   "execution_count": 43,
   "metadata": {},
   "outputs": [
    {
     "data": {
      "text/html": [
       "<div>\n",
       "<style scoped>\n",
       "    .dataframe tbody tr th:only-of-type {\n",
       "        vertical-align: middle;\n",
       "    }\n",
       "\n",
       "    .dataframe tbody tr th {\n",
       "        vertical-align: top;\n",
       "    }\n",
       "\n",
       "    .dataframe thead th {\n",
       "        text-align: right;\n",
       "    }\n",
       "</style>\n",
       "<table border=\"1\" class=\"dataframe\">\n",
       "  <thead>\n",
       "    <tr style=\"text-align: right;\">\n",
       "      <th></th>\n",
       "      <th>business_id</th>\n",
       "      <th>name</th>\n",
       "      <th>address</th>\n",
       "      <th>city</th>\n",
       "      <th>state</th>\n",
       "      <th>postal_code</th>\n",
       "      <th>latitude</th>\n",
       "      <th>longitude</th>\n",
       "      <th>stars_business</th>\n",
       "      <th>review_count</th>\n",
       "      <th>...</th>\n",
       "      <th>useful</th>\n",
       "      <th>funny</th>\n",
       "      <th>cool</th>\n",
       "      <th>text</th>\n",
       "      <th>date</th>\n",
       "      <th>group_id</th>\n",
       "      <th>group_len</th>\n",
       "      <th>group_type</th>\n",
       "      <th>occurances</th>\n",
       "      <th>products_count</th>\n",
       "    </tr>\n",
       "  </thead>\n",
       "  <tbody>\n",
       "    <tr>\n",
       "      <th>0</th>\n",
       "      <td>0pOlmHVeidsh63iAWdTAfg</td>\n",
       "      <td>Hendrick Motors of Charlotte - Mercedes-Benz</td>\n",
       "      <td>5201 E Independence Blvd</td>\n",
       "      <td>Charlotte</td>\n",
       "      <td>NC</td>\n",
       "      <td>28212.0</td>\n",
       "      <td>35.188018</td>\n",
       "      <td>-80.758758</td>\n",
       "      <td>2.5</td>\n",
       "      <td>32</td>\n",
       "      <td>...</td>\n",
       "      <td>9</td>\n",
       "      <td>0</td>\n",
       "      <td>0</td>\n",
       "      <td>Horrible experience! Purchased a ML350 from he...</td>\n",
       "      <td>2016-02-14 04:09:06</td>\n",
       "      <td>5284</td>\n",
       "      <td>2</td>\n",
       "      <td>n</td>\n",
       "      <td>2</td>\n",
       "      <td>1.0</td>\n",
       "    </tr>\n",
       "    <tr>\n",
       "      <th>1</th>\n",
       "      <td>w3PwDEbI0EDx4YI_BkFhIA</td>\n",
       "      <td>Portofino's</td>\n",
       "      <td>5126 Park Rd, Ste 1c</td>\n",
       "      <td>Charlotte</td>\n",
       "      <td>NC</td>\n",
       "      <td>28209.0</td>\n",
       "      <td>35.160557</td>\n",
       "      <td>-80.850104</td>\n",
       "      <td>4.0</td>\n",
       "      <td>233</td>\n",
       "      <td>...</td>\n",
       "      <td>0</td>\n",
       "      <td>0</td>\n",
       "      <td>0</td>\n",
       "      <td>Fantastic little place! Verdict was out when w...</td>\n",
       "      <td>2016-12-31 04:56:06</td>\n",
       "      <td>5284</td>\n",
       "      <td>2</td>\n",
       "      <td>n</td>\n",
       "      <td>2</td>\n",
       "      <td>1.0</td>\n",
       "    </tr>\n",
       "    <tr>\n",
       "      <th>2</th>\n",
       "      <td>w3PwDEbI0EDx4YI_BkFhIA</td>\n",
       "      <td>Portofino's</td>\n",
       "      <td>5126 Park Rd, Ste 1c</td>\n",
       "      <td>Charlotte</td>\n",
       "      <td>NC</td>\n",
       "      <td>28209.0</td>\n",
       "      <td>35.160557</td>\n",
       "      <td>-80.850104</td>\n",
       "      <td>4.0</td>\n",
       "      <td>233</td>\n",
       "      <td>...</td>\n",
       "      <td>0</td>\n",
       "      <td>0</td>\n",
       "      <td>0</td>\n",
       "      <td>I write this review reluctantly as I do not wa...</td>\n",
       "      <td>2016-12-29 16:27:39</td>\n",
       "      <td>5284</td>\n",
       "      <td>2</td>\n",
       "      <td>n</td>\n",
       "      <td>2</td>\n",
       "      <td>1.0</td>\n",
       "    </tr>\n",
       "    <tr>\n",
       "      <th>3</th>\n",
       "      <td>-qjn24n8HYF6It9GQrQntw</td>\n",
       "      <td>Five Guys Burgers and Fries</td>\n",
       "      <td>2130 E Arbors Dr</td>\n",
       "      <td>Charlotte</td>\n",
       "      <td>NC</td>\n",
       "      <td>28262.0</td>\n",
       "      <td>35.338070</td>\n",
       "      <td>-80.757397</td>\n",
       "      <td>4.0</td>\n",
       "      <td>15</td>\n",
       "      <td>...</td>\n",
       "      <td>0</td>\n",
       "      <td>0</td>\n",
       "      <td>0</td>\n",
       "      <td>Always good fresh juicy burgers. They are a bi...</td>\n",
       "      <td>2016-08-13 04:18:40</td>\n",
       "      <td>209</td>\n",
       "      <td>4</td>\n",
       "      <td>n</td>\n",
       "      <td>4</td>\n",
       "      <td>1.0</td>\n",
       "    </tr>\n",
       "    <tr>\n",
       "      <th>4</th>\n",
       "      <td>NFm869_w6cvVaWaNpAzjeA</td>\n",
       "      <td>Soul Gastrolounge</td>\n",
       "      <td>1500-B Central Ave</td>\n",
       "      <td>Charlotte</td>\n",
       "      <td>NC</td>\n",
       "      <td>28205.0</td>\n",
       "      <td>35.220275</td>\n",
       "      <td>-80.813323</td>\n",
       "      <td>4.0</td>\n",
       "      <td>1077</td>\n",
       "      <td>...</td>\n",
       "      <td>0</td>\n",
       "      <td>0</td>\n",
       "      <td>0</td>\n",
       "      <td>This place never disappoints! It's the perfect...</td>\n",
       "      <td>2016-04-03 02:15:43</td>\n",
       "      <td>209</td>\n",
       "      <td>4</td>\n",
       "      <td>n</td>\n",
       "      <td>4</td>\n",
       "      <td>1.0</td>\n",
       "    </tr>\n",
       "    <tr>\n",
       "      <th>...</th>\n",
       "      <td>...</td>\n",
       "      <td>...</td>\n",
       "      <td>...</td>\n",
       "      <td>...</td>\n",
       "      <td>...</td>\n",
       "      <td>...</td>\n",
       "      <td>...</td>\n",
       "      <td>...</td>\n",
       "      <td>...</td>\n",
       "      <td>...</td>\n",
       "      <td>...</td>\n",
       "      <td>...</td>\n",
       "      <td>...</td>\n",
       "      <td>...</td>\n",
       "      <td>...</td>\n",
       "      <td>...</td>\n",
       "      <td>...</td>\n",
       "      <td>...</td>\n",
       "      <td>...</td>\n",
       "      <td>...</td>\n",
       "      <td>...</td>\n",
       "    </tr>\n",
       "    <tr>\n",
       "      <th>245268</th>\n",
       "      <td>OgANEur7Bt8YJSd2uSm6yA</td>\n",
       "      <td>Pizza Hut</td>\n",
       "      <td>7705 S Tryon St E</td>\n",
       "      <td>Charlotte</td>\n",
       "      <td>NC</td>\n",
       "      <td>28217.0</td>\n",
       "      <td>35.147999</td>\n",
       "      <td>-80.924835</td>\n",
       "      <td>1.5</td>\n",
       "      <td>61</td>\n",
       "      <td>...</td>\n",
       "      <td>0</td>\n",
       "      <td>0</td>\n",
       "      <td>0</td>\n",
       "      <td>To start, I would absolutely give negative sta...</td>\n",
       "      <td>2016-02-15 04:36:51</td>\n",
       "      <td>8415</td>\n",
       "      <td>2</td>\n",
       "      <td>n</td>\n",
       "      <td>2</td>\n",
       "      <td>1.0</td>\n",
       "    </tr>\n",
       "    <tr>\n",
       "      <th>245269</th>\n",
       "      <td>D2ojX9bvE0_-aIj9BhdZZA</td>\n",
       "      <td>300 East</td>\n",
       "      <td>300 East Blvd</td>\n",
       "      <td>Charlotte</td>\n",
       "      <td>NC</td>\n",
       "      <td>28203.0</td>\n",
       "      <td>35.210558</td>\n",
       "      <td>-80.856655</td>\n",
       "      <td>4.0</td>\n",
       "      <td>760</td>\n",
       "      <td>...</td>\n",
       "      <td>0</td>\n",
       "      <td>0</td>\n",
       "      <td>0</td>\n",
       "      <td>Was here with friends some months ago. A great...</td>\n",
       "      <td>2016-05-19 18:56:55</td>\n",
       "      <td>5985</td>\n",
       "      <td>2</td>\n",
       "      <td>n</td>\n",
       "      <td>2</td>\n",
       "      <td>1.0</td>\n",
       "    </tr>\n",
       "    <tr>\n",
       "      <th>245270</th>\n",
       "      <td>D2ojX9bvE0_-aIj9BhdZZA</td>\n",
       "      <td>300 East</td>\n",
       "      <td>300 East Blvd</td>\n",
       "      <td>Charlotte</td>\n",
       "      <td>NC</td>\n",
       "      <td>28203.0</td>\n",
       "      <td>35.210558</td>\n",
       "      <td>-80.856655</td>\n",
       "      <td>4.0</td>\n",
       "      <td>760</td>\n",
       "      <td>...</td>\n",
       "      <td>0</td>\n",
       "      <td>0</td>\n",
       "      <td>0</td>\n",
       "      <td>Very accommodating to my gluten free diet.\\nGr...</td>\n",
       "      <td>2016-05-17 18:26:20</td>\n",
       "      <td>5985</td>\n",
       "      <td>2</td>\n",
       "      <td>n</td>\n",
       "      <td>2</td>\n",
       "      <td>1.0</td>\n",
       "    </tr>\n",
       "    <tr>\n",
       "      <th>245271</th>\n",
       "      <td>D2ojX9bvE0_-aIj9BhdZZA</td>\n",
       "      <td>300 East</td>\n",
       "      <td>300 East Blvd</td>\n",
       "      <td>Charlotte</td>\n",
       "      <td>NC</td>\n",
       "      <td>28203.0</td>\n",
       "      <td>35.210558</td>\n",
       "      <td>-80.856655</td>\n",
       "      <td>4.0</td>\n",
       "      <td>760</td>\n",
       "      <td>...</td>\n",
       "      <td>0</td>\n",
       "      <td>0</td>\n",
       "      <td>0</td>\n",
       "      <td>Amazing menu selections - especially daily spe...</td>\n",
       "      <td>2016-12-05 01:22:15</td>\n",
       "      <td>3347</td>\n",
       "      <td>2</td>\n",
       "      <td>n</td>\n",
       "      <td>2</td>\n",
       "      <td>1.0</td>\n",
       "    </tr>\n",
       "    <tr>\n",
       "      <th>245272</th>\n",
       "      <td>D2ojX9bvE0_-aIj9BhdZZA</td>\n",
       "      <td>300 East</td>\n",
       "      <td>300 East Blvd</td>\n",
       "      <td>Charlotte</td>\n",
       "      <td>NC</td>\n",
       "      <td>28203.0</td>\n",
       "      <td>35.210558</td>\n",
       "      <td>-80.856655</td>\n",
       "      <td>4.0</td>\n",
       "      <td>760</td>\n",
       "      <td>...</td>\n",
       "      <td>0</td>\n",
       "      <td>0</td>\n",
       "      <td>0</td>\n",
       "      <td>Wonderful place to eat in Charlotte. Casual at...</td>\n",
       "      <td>2016-12-01 22:56:59</td>\n",
       "      <td>3347</td>\n",
       "      <td>2</td>\n",
       "      <td>n</td>\n",
       "      <td>2</td>\n",
       "      <td>1.0</td>\n",
       "    </tr>\n",
       "  </tbody>\n",
       "</table>\n",
       "<p>245273 rows × 27 columns</p>\n",
       "</div>"
      ],
      "text/plain": [
       "                   business_id                                          name  \\\n",
       "0       0pOlmHVeidsh63iAWdTAfg  Hendrick Motors of Charlotte - Mercedes-Benz   \n",
       "1       w3PwDEbI0EDx4YI_BkFhIA                                   Portofino's   \n",
       "2       w3PwDEbI0EDx4YI_BkFhIA                                   Portofino's   \n",
       "3       -qjn24n8HYF6It9GQrQntw                   Five Guys Burgers and Fries   \n",
       "4       NFm869_w6cvVaWaNpAzjeA                             Soul Gastrolounge   \n",
       "...                        ...                                           ...   \n",
       "245268  OgANEur7Bt8YJSd2uSm6yA                                     Pizza Hut   \n",
       "245269  D2ojX9bvE0_-aIj9BhdZZA                                      300 East   \n",
       "245270  D2ojX9bvE0_-aIj9BhdZZA                                      300 East   \n",
       "245271  D2ojX9bvE0_-aIj9BhdZZA                                      300 East   \n",
       "245272  D2ojX9bvE0_-aIj9BhdZZA                                      300 East   \n",
       "\n",
       "                         address       city state  postal_code   latitude  \\\n",
       "0       5201 E Independence Blvd  Charlotte    NC      28212.0  35.188018   \n",
       "1           5126 Park Rd, Ste 1c  Charlotte    NC      28209.0  35.160557   \n",
       "2           5126 Park Rd, Ste 1c  Charlotte    NC      28209.0  35.160557   \n",
       "3               2130 E Arbors Dr  Charlotte    NC      28262.0  35.338070   \n",
       "4             1500-B Central Ave  Charlotte    NC      28205.0  35.220275   \n",
       "...                          ...        ...   ...          ...        ...   \n",
       "245268         7705 S Tryon St E  Charlotte    NC      28217.0  35.147999   \n",
       "245269             300 East Blvd  Charlotte    NC      28203.0  35.210558   \n",
       "245270             300 East Blvd  Charlotte    NC      28203.0  35.210558   \n",
       "245271             300 East Blvd  Charlotte    NC      28203.0  35.210558   \n",
       "245272             300 East Blvd  Charlotte    NC      28203.0  35.210558   \n",
       "\n",
       "        longitude  stars_business  review_count  ...  useful funny cool  \\\n",
       "0      -80.758758             2.5            32  ...       9     0    0   \n",
       "1      -80.850104             4.0           233  ...       0     0    0   \n",
       "2      -80.850104             4.0           233  ...       0     0    0   \n",
       "3      -80.757397             4.0            15  ...       0     0    0   \n",
       "4      -80.813323             4.0          1077  ...       0     0    0   \n",
       "...           ...             ...           ...  ...     ...   ...  ...   \n",
       "245268 -80.924835             1.5            61  ...       0     0    0   \n",
       "245269 -80.856655             4.0           760  ...       0     0    0   \n",
       "245270 -80.856655             4.0           760  ...       0     0    0   \n",
       "245271 -80.856655             4.0           760  ...       0     0    0   \n",
       "245272 -80.856655             4.0           760  ...       0     0    0   \n",
       "\n",
       "                                                     text                date  \\\n",
       "0       Horrible experience! Purchased a ML350 from he... 2016-02-14 04:09:06   \n",
       "1       Fantastic little place! Verdict was out when w... 2016-12-31 04:56:06   \n",
       "2       I write this review reluctantly as I do not wa... 2016-12-29 16:27:39   \n",
       "3       Always good fresh juicy burgers. They are a bi... 2016-08-13 04:18:40   \n",
       "4       This place never disappoints! It's the perfect... 2016-04-03 02:15:43   \n",
       "...                                                   ...                 ...   \n",
       "245268  To start, I would absolutely give negative sta... 2016-02-15 04:36:51   \n",
       "245269  Was here with friends some months ago. A great... 2016-05-19 18:56:55   \n",
       "245270  Very accommodating to my gluten free diet.\\nGr... 2016-05-17 18:26:20   \n",
       "245271  Amazing menu selections - especially daily spe... 2016-12-05 01:22:15   \n",
       "245272  Wonderful place to eat in Charlotte. Casual at... 2016-12-01 22:56:59   \n",
       "\n",
       "       group_id  group_len  group_type  occurances  products_count  \n",
       "0          5284          2           n           2             1.0  \n",
       "1          5284          2           n           2             1.0  \n",
       "2          5284          2           n           2             1.0  \n",
       "3           209          4           n           4             1.0  \n",
       "4           209          4           n           4             1.0  \n",
       "...         ...        ...         ...         ...             ...  \n",
       "245268     8415          2           n           2             1.0  \n",
       "245269     5985          2           n           2             1.0  \n",
       "245270     5985          2           n           2             1.0  \n",
       "245271     3347          2           n           2             1.0  \n",
       "245272     3347          2           n           2             1.0  \n",
       "\n",
       "[245273 rows x 27 columns]"
      ]
     },
     "execution_count": 43,
     "metadata": {},
     "output_type": "execute_result"
    },
    {
     "name": "stdout",
     "output_type": "stream",
     "text": [
      "time: 687 ms\n"
     ]
    }
   ],
   "source": [
    "df_final"
   ]
  },
  {
   "cell_type": "code",
   "execution_count": 46,
   "metadata": {},
   "outputs": [
    {
     "name": "stdout",
     "output_type": "stream",
     "text": [
      "time: 32 ms\n"
     ]
    }
   ],
   "source": [
    "del df_final['occurances']"
   ]
  },
  {
   "cell_type": "code",
   "execution_count": 47,
   "metadata": {},
   "outputs": [
    {
     "name": "stdout",
     "output_type": "stream",
     "text": [
      "time: 0 ns\n"
     ]
    }
   ],
   "source": [
    "del df_final['products_count']"
   ]
  },
  {
   "cell_type": "code",
   "execution_count": 52,
   "metadata": {},
   "outputs": [
    {
     "data": {
      "text/html": [
       "<div>\n",
       "<style scoped>\n",
       "    .dataframe tbody tr th:only-of-type {\n",
       "        vertical-align: middle;\n",
       "    }\n",
       "\n",
       "    .dataframe tbody tr th {\n",
       "        vertical-align: top;\n",
       "    }\n",
       "\n",
       "    .dataframe thead th {\n",
       "        text-align: right;\n",
       "    }\n",
       "</style>\n",
       "<table border=\"1\" class=\"dataframe\">\n",
       "  <thead>\n",
       "    <tr style=\"text-align: right;\">\n",
       "      <th></th>\n",
       "      <th>business_id</th>\n",
       "      <th>name</th>\n",
       "      <th>address</th>\n",
       "      <th>city</th>\n",
       "      <th>state</th>\n",
       "      <th>postal_code</th>\n",
       "      <th>latitude</th>\n",
       "      <th>longitude</th>\n",
       "      <th>stars_business</th>\n",
       "      <th>review_count</th>\n",
       "      <th>...</th>\n",
       "      <th>user_id</th>\n",
       "      <th>stars</th>\n",
       "      <th>useful</th>\n",
       "      <th>funny</th>\n",
       "      <th>cool</th>\n",
       "      <th>text</th>\n",
       "      <th>date</th>\n",
       "      <th>group_id</th>\n",
       "      <th>group_len</th>\n",
       "      <th>group_type</th>\n",
       "    </tr>\n",
       "  </thead>\n",
       "  <tbody>\n",
       "    <tr>\n",
       "      <th>0</th>\n",
       "      <td>0pOlmHVeidsh63iAWdTAfg</td>\n",
       "      <td>Hendrick Motors of Charlotte - Mercedes-Benz</td>\n",
       "      <td>5201 E Independence Blvd</td>\n",
       "      <td>Charlotte</td>\n",
       "      <td>NC</td>\n",
       "      <td>28212.0</td>\n",
       "      <td>35.188018</td>\n",
       "      <td>-80.758758</td>\n",
       "      <td>2.5</td>\n",
       "      <td>32</td>\n",
       "      <td>...</td>\n",
       "      <td>hpSViZNe-5eZaVSgi9LkZw</td>\n",
       "      <td>1.0</td>\n",
       "      <td>9</td>\n",
       "      <td>0</td>\n",
       "      <td>0</td>\n",
       "      <td>Horrible experience! Purchased a ML350 from he...</td>\n",
       "      <td>2016-02-14 04:09:06</td>\n",
       "      <td>5284</td>\n",
       "      <td>2</td>\n",
       "      <td>n</td>\n",
       "    </tr>\n",
       "    <tr>\n",
       "      <th>1</th>\n",
       "      <td>w3PwDEbI0EDx4YI_BkFhIA</td>\n",
       "      <td>Portofino's</td>\n",
       "      <td>5126 Park Rd, Ste 1c</td>\n",
       "      <td>Charlotte</td>\n",
       "      <td>NC</td>\n",
       "      <td>28209.0</td>\n",
       "      <td>35.160557</td>\n",
       "      <td>-80.850104</td>\n",
       "      <td>4.0</td>\n",
       "      <td>233</td>\n",
       "      <td>...</td>\n",
       "      <td>hpSViZNe-5eZaVSgi9LkZw</td>\n",
       "      <td>5.0</td>\n",
       "      <td>0</td>\n",
       "      <td>0</td>\n",
       "      <td>0</td>\n",
       "      <td>Fantastic little place! Verdict was out when w...</td>\n",
       "      <td>2016-12-31 04:56:06</td>\n",
       "      <td>5284</td>\n",
       "      <td>2</td>\n",
       "      <td>n</td>\n",
       "    </tr>\n",
       "    <tr>\n",
       "      <th>2</th>\n",
       "      <td>w3PwDEbI0EDx4YI_BkFhIA</td>\n",
       "      <td>Portofino's</td>\n",
       "      <td>5126 Park Rd, Ste 1c</td>\n",
       "      <td>Charlotte</td>\n",
       "      <td>NC</td>\n",
       "      <td>28209.0</td>\n",
       "      <td>35.160557</td>\n",
       "      <td>-80.850104</td>\n",
       "      <td>4.0</td>\n",
       "      <td>233</td>\n",
       "      <td>...</td>\n",
       "      <td>pU3Dd7ExICP1gfzzt1O7YQ</td>\n",
       "      <td>5.0</td>\n",
       "      <td>0</td>\n",
       "      <td>0</td>\n",
       "      <td>0</td>\n",
       "      <td>I write this review reluctantly as I do not wa...</td>\n",
       "      <td>2016-12-29 16:27:39</td>\n",
       "      <td>5284</td>\n",
       "      <td>2</td>\n",
       "      <td>n</td>\n",
       "    </tr>\n",
       "    <tr>\n",
       "      <th>3</th>\n",
       "      <td>-qjn24n8HYF6It9GQrQntw</td>\n",
       "      <td>Five Guys Burgers and Fries</td>\n",
       "      <td>2130 E Arbors Dr</td>\n",
       "      <td>Charlotte</td>\n",
       "      <td>NC</td>\n",
       "      <td>28262.0</td>\n",
       "      <td>35.338070</td>\n",
       "      <td>-80.757397</td>\n",
       "      <td>4.0</td>\n",
       "      <td>15</td>\n",
       "      <td>...</td>\n",
       "      <td>17TiV5o3EsIIbyFgSpBmXg</td>\n",
       "      <td>4.0</td>\n",
       "      <td>0</td>\n",
       "      <td>0</td>\n",
       "      <td>0</td>\n",
       "      <td>Always good fresh juicy burgers. They are a bi...</td>\n",
       "      <td>2016-08-13 04:18:40</td>\n",
       "      <td>209</td>\n",
       "      <td>4</td>\n",
       "      <td>n</td>\n",
       "    </tr>\n",
       "    <tr>\n",
       "      <th>4</th>\n",
       "      <td>NFm869_w6cvVaWaNpAzjeA</td>\n",
       "      <td>Soul Gastrolounge</td>\n",
       "      <td>1500-B Central Ave</td>\n",
       "      <td>Charlotte</td>\n",
       "      <td>NC</td>\n",
       "      <td>28205.0</td>\n",
       "      <td>35.220275</td>\n",
       "      <td>-80.813323</td>\n",
       "      <td>4.0</td>\n",
       "      <td>1077</td>\n",
       "      <td>...</td>\n",
       "      <td>17TiV5o3EsIIbyFgSpBmXg</td>\n",
       "      <td>5.0</td>\n",
       "      <td>0</td>\n",
       "      <td>0</td>\n",
       "      <td>0</td>\n",
       "      <td>This place never disappoints! It's the perfect...</td>\n",
       "      <td>2016-04-03 02:15:43</td>\n",
       "      <td>209</td>\n",
       "      <td>4</td>\n",
       "      <td>n</td>\n",
       "    </tr>\n",
       "    <tr>\n",
       "      <th>...</th>\n",
       "      <td>...</td>\n",
       "      <td>...</td>\n",
       "      <td>...</td>\n",
       "      <td>...</td>\n",
       "      <td>...</td>\n",
       "      <td>...</td>\n",
       "      <td>...</td>\n",
       "      <td>...</td>\n",
       "      <td>...</td>\n",
       "      <td>...</td>\n",
       "      <td>...</td>\n",
       "      <td>...</td>\n",
       "      <td>...</td>\n",
       "      <td>...</td>\n",
       "      <td>...</td>\n",
       "      <td>...</td>\n",
       "      <td>...</td>\n",
       "      <td>...</td>\n",
       "      <td>...</td>\n",
       "      <td>...</td>\n",
       "      <td>...</td>\n",
       "    </tr>\n",
       "    <tr>\n",
       "      <th>245268</th>\n",
       "      <td>OgANEur7Bt8YJSd2uSm6yA</td>\n",
       "      <td>Pizza Hut</td>\n",
       "      <td>7705 S Tryon St E</td>\n",
       "      <td>Charlotte</td>\n",
       "      <td>NC</td>\n",
       "      <td>28217.0</td>\n",
       "      <td>35.147999</td>\n",
       "      <td>-80.924835</td>\n",
       "      <td>1.5</td>\n",
       "      <td>61</td>\n",
       "      <td>...</td>\n",
       "      <td>HXSrr0s9e_LsGTgkkKiclQ</td>\n",
       "      <td>1.0</td>\n",
       "      <td>0</td>\n",
       "      <td>0</td>\n",
       "      <td>0</td>\n",
       "      <td>To start, I would absolutely give negative sta...</td>\n",
       "      <td>2016-02-15 04:36:51</td>\n",
       "      <td>8415</td>\n",
       "      <td>2</td>\n",
       "      <td>n</td>\n",
       "    </tr>\n",
       "    <tr>\n",
       "      <th>245269</th>\n",
       "      <td>D2ojX9bvE0_-aIj9BhdZZA</td>\n",
       "      <td>300 East</td>\n",
       "      <td>300 East Blvd</td>\n",
       "      <td>Charlotte</td>\n",
       "      <td>NC</td>\n",
       "      <td>28203.0</td>\n",
       "      <td>35.210558</td>\n",
       "      <td>-80.856655</td>\n",
       "      <td>4.0</td>\n",
       "      <td>760</td>\n",
       "      <td>...</td>\n",
       "      <td>D6ZUT5nVBWBWYiay5JhoMQ</td>\n",
       "      <td>5.0</td>\n",
       "      <td>0</td>\n",
       "      <td>0</td>\n",
       "      <td>0</td>\n",
       "      <td>Was here with friends some months ago. A great...</td>\n",
       "      <td>2016-05-19 18:56:55</td>\n",
       "      <td>5985</td>\n",
       "      <td>2</td>\n",
       "      <td>n</td>\n",
       "    </tr>\n",
       "    <tr>\n",
       "      <th>245270</th>\n",
       "      <td>D2ojX9bvE0_-aIj9BhdZZA</td>\n",
       "      <td>300 East</td>\n",
       "      <td>300 East Blvd</td>\n",
       "      <td>Charlotte</td>\n",
       "      <td>NC</td>\n",
       "      <td>28203.0</td>\n",
       "      <td>35.210558</td>\n",
       "      <td>-80.856655</td>\n",
       "      <td>4.0</td>\n",
       "      <td>760</td>\n",
       "      <td>...</td>\n",
       "      <td>yctC2JnkGRHxJpyZjqF7jA</td>\n",
       "      <td>5.0</td>\n",
       "      <td>0</td>\n",
       "      <td>0</td>\n",
       "      <td>0</td>\n",
       "      <td>Very accommodating to my gluten free diet.\\nGr...</td>\n",
       "      <td>2016-05-17 18:26:20</td>\n",
       "      <td>5985</td>\n",
       "      <td>2</td>\n",
       "      <td>n</td>\n",
       "    </tr>\n",
       "    <tr>\n",
       "      <th>245271</th>\n",
       "      <td>D2ojX9bvE0_-aIj9BhdZZA</td>\n",
       "      <td>300 East</td>\n",
       "      <td>300 East Blvd</td>\n",
       "      <td>Charlotte</td>\n",
       "      <td>NC</td>\n",
       "      <td>28203.0</td>\n",
       "      <td>35.210558</td>\n",
       "      <td>-80.856655</td>\n",
       "      <td>4.0</td>\n",
       "      <td>760</td>\n",
       "      <td>...</td>\n",
       "      <td>FDcV4KRs9S7uTz8qEVNsOg</td>\n",
       "      <td>5.0</td>\n",
       "      <td>0</td>\n",
       "      <td>0</td>\n",
       "      <td>0</td>\n",
       "      <td>Amazing menu selections - especially daily spe...</td>\n",
       "      <td>2016-12-05 01:22:15</td>\n",
       "      <td>3347</td>\n",
       "      <td>2</td>\n",
       "      <td>n</td>\n",
       "    </tr>\n",
       "    <tr>\n",
       "      <th>245272</th>\n",
       "      <td>D2ojX9bvE0_-aIj9BhdZZA</td>\n",
       "      <td>300 East</td>\n",
       "      <td>300 East Blvd</td>\n",
       "      <td>Charlotte</td>\n",
       "      <td>NC</td>\n",
       "      <td>28203.0</td>\n",
       "      <td>35.210558</td>\n",
       "      <td>-80.856655</td>\n",
       "      <td>4.0</td>\n",
       "      <td>760</td>\n",
       "      <td>...</td>\n",
       "      <td>7BoScNiHhdA20v6hChGDvw</td>\n",
       "      <td>5.0</td>\n",
       "      <td>0</td>\n",
       "      <td>0</td>\n",
       "      <td>0</td>\n",
       "      <td>Wonderful place to eat in Charlotte. Casual at...</td>\n",
       "      <td>2016-12-01 22:56:59</td>\n",
       "      <td>3347</td>\n",
       "      <td>2</td>\n",
       "      <td>n</td>\n",
       "    </tr>\n",
       "  </tbody>\n",
       "</table>\n",
       "<p>245273 rows × 25 columns</p>\n",
       "</div>"
      ],
      "text/plain": [
       "                   business_id                                          name  \\\n",
       "0       0pOlmHVeidsh63iAWdTAfg  Hendrick Motors of Charlotte - Mercedes-Benz   \n",
       "1       w3PwDEbI0EDx4YI_BkFhIA                                   Portofino's   \n",
       "2       w3PwDEbI0EDx4YI_BkFhIA                                   Portofino's   \n",
       "3       -qjn24n8HYF6It9GQrQntw                   Five Guys Burgers and Fries   \n",
       "4       NFm869_w6cvVaWaNpAzjeA                             Soul Gastrolounge   \n",
       "...                        ...                                           ...   \n",
       "245268  OgANEur7Bt8YJSd2uSm6yA                                     Pizza Hut   \n",
       "245269  D2ojX9bvE0_-aIj9BhdZZA                                      300 East   \n",
       "245270  D2ojX9bvE0_-aIj9BhdZZA                                      300 East   \n",
       "245271  D2ojX9bvE0_-aIj9BhdZZA                                      300 East   \n",
       "245272  D2ojX9bvE0_-aIj9BhdZZA                                      300 East   \n",
       "\n",
       "                         address       city state  postal_code   latitude  \\\n",
       "0       5201 E Independence Blvd  Charlotte    NC      28212.0  35.188018   \n",
       "1           5126 Park Rd, Ste 1c  Charlotte    NC      28209.0  35.160557   \n",
       "2           5126 Park Rd, Ste 1c  Charlotte    NC      28209.0  35.160557   \n",
       "3               2130 E Arbors Dr  Charlotte    NC      28262.0  35.338070   \n",
       "4             1500-B Central Ave  Charlotte    NC      28205.0  35.220275   \n",
       "...                          ...        ...   ...          ...        ...   \n",
       "245268         7705 S Tryon St E  Charlotte    NC      28217.0  35.147999   \n",
       "245269             300 East Blvd  Charlotte    NC      28203.0  35.210558   \n",
       "245270             300 East Blvd  Charlotte    NC      28203.0  35.210558   \n",
       "245271             300 East Blvd  Charlotte    NC      28203.0  35.210558   \n",
       "245272             300 East Blvd  Charlotte    NC      28203.0  35.210558   \n",
       "\n",
       "        longitude  stars_business  review_count  ...                 user_id  \\\n",
       "0      -80.758758             2.5            32  ...  hpSViZNe-5eZaVSgi9LkZw   \n",
       "1      -80.850104             4.0           233  ...  hpSViZNe-5eZaVSgi9LkZw   \n",
       "2      -80.850104             4.0           233  ...  pU3Dd7ExICP1gfzzt1O7YQ   \n",
       "3      -80.757397             4.0            15  ...  17TiV5o3EsIIbyFgSpBmXg   \n",
       "4      -80.813323             4.0          1077  ...  17TiV5o3EsIIbyFgSpBmXg   \n",
       "...           ...             ...           ...  ...                     ...   \n",
       "245268 -80.924835             1.5            61  ...  HXSrr0s9e_LsGTgkkKiclQ   \n",
       "245269 -80.856655             4.0           760  ...  D6ZUT5nVBWBWYiay5JhoMQ   \n",
       "245270 -80.856655             4.0           760  ...  yctC2JnkGRHxJpyZjqF7jA   \n",
       "245271 -80.856655             4.0           760  ...  FDcV4KRs9S7uTz8qEVNsOg   \n",
       "245272 -80.856655             4.0           760  ...  7BoScNiHhdA20v6hChGDvw   \n",
       "\n",
       "       stars useful funny cool  \\\n",
       "0        1.0      9     0    0   \n",
       "1        5.0      0     0    0   \n",
       "2        5.0      0     0    0   \n",
       "3        4.0      0     0    0   \n",
       "4        5.0      0     0    0   \n",
       "...      ...    ...   ...  ...   \n",
       "245268   1.0      0     0    0   \n",
       "245269   5.0      0     0    0   \n",
       "245270   5.0      0     0    0   \n",
       "245271   5.0      0     0    0   \n",
       "245272   5.0      0     0    0   \n",
       "\n",
       "                                                     text                date  \\\n",
       "0       Horrible experience! Purchased a ML350 from he... 2016-02-14 04:09:06   \n",
       "1       Fantastic little place! Verdict was out when w... 2016-12-31 04:56:06   \n",
       "2       I write this review reluctantly as I do not wa... 2016-12-29 16:27:39   \n",
       "3       Always good fresh juicy burgers. They are a bi... 2016-08-13 04:18:40   \n",
       "4       This place never disappoints! It's the perfect... 2016-04-03 02:15:43   \n",
       "...                                                   ...                 ...   \n",
       "245268  To start, I would absolutely give negative sta... 2016-02-15 04:36:51   \n",
       "245269  Was here with friends some months ago. A great... 2016-05-19 18:56:55   \n",
       "245270  Very accommodating to my gluten free diet.\\nGr... 2016-05-17 18:26:20   \n",
       "245271  Amazing menu selections - especially daily spe... 2016-12-05 01:22:15   \n",
       "245272  Wonderful place to eat in Charlotte. Casual at... 2016-12-01 22:56:59   \n",
       "\n",
       "        group_id  group_len  group_type  \n",
       "0           5284          2           n  \n",
       "1           5284          2           n  \n",
       "2           5284          2           n  \n",
       "3            209          4           n  \n",
       "4            209          4           n  \n",
       "...          ...        ...         ...  \n",
       "245268      8415          2           n  \n",
       "245269      5985          2           n  \n",
       "245270      5985          2           n  \n",
       "245271      3347          2           n  \n",
       "245272      3347          2           n  \n",
       "\n",
       "[245273 rows x 25 columns]"
      ]
     },
     "execution_count": 52,
     "metadata": {},
     "output_type": "execute_result"
    },
    {
     "name": "stdout",
     "output_type": "stream",
     "text": [
      "time: 266 ms\n"
     ]
    }
   ],
   "source": [
    "df_final"
   ]
  },
  {
   "cell_type": "code",
   "execution_count": 28,
   "metadata": {},
   "outputs": [
    {
     "name": "stdout",
     "output_type": "stream",
     "text": [
      "time: 156 ms\n"
     ]
    }
   ],
   "source": [
    "df_occurances = df_final.groupby('group_id').business_id.value_counts().to_frame('occurances').reset_index()"
   ]
  },
  {
   "cell_type": "code",
   "execution_count": 29,
   "metadata": {},
   "outputs": [
    {
     "data": {
      "text/plain": [
       "Index(['group_id', 'business_id', 'occurances'], dtype='object')"
      ]
     },
     "execution_count": 29,
     "metadata": {},
     "output_type": "execute_result"
    },
    {
     "name": "stdout",
     "output_type": "stream",
     "text": [
      "time: 0 ns\n"
     ]
    }
   ],
   "source": [
    "df_occurances.columns"
   ]
  },
  {
   "cell_type": "code",
   "execution_count": 30,
   "metadata": {},
   "outputs": [
    {
     "name": "stdout",
     "output_type": "stream",
     "text": [
      "time: 219 ms\n"
     ]
    }
   ],
   "source": [
    "df_final_2 = df_final.merge(df_occurances, on=['group_id', 'business_id'])"
   ]
  },
  {
   "cell_type": "code",
   "execution_count": 31,
   "metadata": {},
   "outputs": [
    {
     "data": {
      "text/plain": [
       "Index(['business_id', 'name', 'address', 'city', 'state', 'postal_code',\n",
       "       'latitude', 'longitude', 'stars_business', 'review_count', 'is_open',\n",
       "       'attributes', 'categories', 'hours', 'review_id', 'user_id', 'stars',\n",
       "       'useful', 'funny', 'cool', 'text', 'date', 'group_id', 'group_len',\n",
       "       'group_type', 'occurances'],\n",
       "      dtype='object')"
      ]
     },
     "execution_count": 31,
     "metadata": {},
     "output_type": "execute_result"
    },
    {
     "name": "stdout",
     "output_type": "stream",
     "text": [
      "time: 15 ms\n"
     ]
    }
   ],
   "source": [
    "df_final_2.columns"
   ]
  },
  {
   "cell_type": "code",
   "execution_count": 32,
   "metadata": {},
   "outputs": [
    {
     "name": "stdout",
     "output_type": "stream",
     "text": [
      "time: 15 ms\n"
     ]
    }
   ],
   "source": [
    "df_final_2['ctn_products'] = df_final_2['occurances'] / df_final_2['group_len']"
   ]
  },
  {
   "cell_type": "code",
   "execution_count": 33,
   "metadata": {},
   "outputs": [
    {
     "data": {
      "text/plain": [
       "group_id  business_id           \n",
       "1073      fvYvzoOHyfPrAiY3FX_PlQ    3.0\n",
       "4906      6hZgMg9rnDCC0RBVRlkZwQ    3.0\n",
       "4905      6hZgMg9rnDCC0RBVRlkZwQ    3.0\n",
       "8562      zJRJX2-xnxHCUXA5WbBYPA    2.5\n",
       "4816      hhoKM8RdfYo97Y72LqmOgw    2.5\n",
       "4820      hhoKM8RdfYo97Y72LqmOgw    2.5\n",
       "4817      hhoKM8RdfYo97Y72LqmOgw    2.5\n",
       "4821      hhoKM8RdfYo97Y72LqmOgw    2.5\n",
       "4819      hhoKM8RdfYo97Y72LqmOgw    2.5\n",
       "4823      hhoKM8RdfYo97Y72LqmOgw    2.5\n",
       "Name: ctn_products, dtype: float64"
      ]
     },
     "execution_count": 33,
     "metadata": {},
     "output_type": "execute_result"
    },
    {
     "name": "stdout",
     "output_type": "stream",
     "text": [
      "time: 172 ms\n"
     ]
    }
   ],
   "source": [
    "df_final_2.groupby(['group_id', 'business_id']).ctn_products.max().sort_values(ascending=False)[:10]"
   ]
  },
  {
   "cell_type": "markdown",
   "metadata": {},
   "source": [
    "neu"
   ]
  },
  {
   "cell_type": "code",
   "execution_count": 34,
   "metadata": {},
   "outputs": [
    {
     "data": {
      "text/html": [
       "<div>\n",
       "<style scoped>\n",
       "    .dataframe tbody tr th:only-of-type {\n",
       "        vertical-align: middle;\n",
       "    }\n",
       "\n",
       "    .dataframe tbody tr th {\n",
       "        vertical-align: top;\n",
       "    }\n",
       "\n",
       "    .dataframe thead th {\n",
       "        text-align: right;\n",
       "    }\n",
       "</style>\n",
       "<table border=\"1\" class=\"dataframe\">\n",
       "  <thead>\n",
       "    <tr style=\"text-align: right;\">\n",
       "      <th></th>\n",
       "      <th>business_id</th>\n",
       "      <th>name</th>\n",
       "      <th>address</th>\n",
       "      <th>city</th>\n",
       "      <th>state</th>\n",
       "      <th>postal_code</th>\n",
       "      <th>latitude</th>\n",
       "      <th>longitude</th>\n",
       "      <th>stars_business</th>\n",
       "      <th>review_count</th>\n",
       "      <th>...</th>\n",
       "      <th>useful</th>\n",
       "      <th>funny</th>\n",
       "      <th>cool</th>\n",
       "      <th>text</th>\n",
       "      <th>date</th>\n",
       "      <th>group_id</th>\n",
       "      <th>group_len</th>\n",
       "      <th>group_type</th>\n",
       "      <th>occurances</th>\n",
       "      <th>ctn_products</th>\n",
       "    </tr>\n",
       "  </thead>\n",
       "  <tbody>\n",
       "  </tbody>\n",
       "</table>\n",
       "<p>0 rows × 27 columns</p>\n",
       "</div>"
      ],
      "text/plain": [
       "Empty DataFrame\n",
       "Columns: [business_id, name, address, city, state, postal_code, latitude, longitude, stars_business, review_count, is_open, attributes, categories, hours, review_id, user_id, stars, useful, funny, cool, text, date, group_id, group_len, group_type, occurances, ctn_products]\n",
       "Index: []\n",
       "\n",
       "[0 rows x 27 columns]"
      ]
     },
     "execution_count": 34,
     "metadata": {},
     "output_type": "execute_result"
    },
    {
     "name": "stdout",
     "output_type": "stream",
     "text": [
      "time: 140 ms\n"
     ]
    }
   ],
   "source": [
    "df_final_2[(df_final_2.group_id==1388) & (df_final_2.business_id=='m5niZy68d2gTtVWz89elfA')]"
   ]
  },
  {
   "cell_type": "code",
   "execution_count": 35,
   "metadata": {},
   "outputs": [
    {
     "name": "stdout",
     "output_type": "stream",
     "text": [
      "time: 0 ns\n"
     ]
    }
   ],
   "source": [
    "grouped = df_final_2.groupby('group_id')"
   ]
  },
  {
   "cell_type": "code",
   "execution_count": 36,
   "metadata": {},
   "outputs": [
    {
     "name": "stdout",
     "output_type": "stream",
     "text": [
      "time: 32 ms\n"
     ]
    }
   ],
   "source": [
    "df_occurances = df_occurances.groupby('group_id').occurances.max().to_frame().reset_index()"
   ]
  },
  {
   "cell_type": "code",
   "execution_count": 37,
   "metadata": {},
   "outputs": [
    {
     "name": "stdout",
     "output_type": "stream",
     "text": [
      "time: 125 ms\n"
     ]
    }
   ],
   "source": [
    "df_final = df_final.merge(df_occurances, on='group_id')"
   ]
  },
  {
   "cell_type": "code",
   "execution_count": 38,
   "metadata": {},
   "outputs": [
    {
     "name": "stdout",
     "output_type": "stream",
     "text": [
      "time: 0 ns\n"
     ]
    }
   ],
   "source": [
    "df_final['products_count'] = df_final.occurances/df_final.group_len"
   ]
  },
  {
   "cell_type": "code",
   "execution_count": 39,
   "metadata": {},
   "outputs": [
    {
     "data": {
      "text/html": [
       "<div>\n",
       "<style scoped>\n",
       "    .dataframe tbody tr th:only-of-type {\n",
       "        vertical-align: middle;\n",
       "    }\n",
       "\n",
       "    .dataframe tbody tr th {\n",
       "        vertical-align: top;\n",
       "    }\n",
       "\n",
       "    .dataframe thead th {\n",
       "        text-align: right;\n",
       "    }\n",
       "</style>\n",
       "<table border=\"1\" class=\"dataframe\">\n",
       "  <thead>\n",
       "    <tr style=\"text-align: right;\">\n",
       "      <th></th>\n",
       "      <th>business_id</th>\n",
       "      <th>name</th>\n",
       "      <th>address</th>\n",
       "      <th>city</th>\n",
       "      <th>state</th>\n",
       "      <th>postal_code</th>\n",
       "      <th>latitude</th>\n",
       "      <th>longitude</th>\n",
       "      <th>stars_business</th>\n",
       "      <th>review_count</th>\n",
       "      <th>...</th>\n",
       "      <th>useful</th>\n",
       "      <th>funny</th>\n",
       "      <th>cool</th>\n",
       "      <th>text</th>\n",
       "      <th>date</th>\n",
       "      <th>group_id</th>\n",
       "      <th>group_len</th>\n",
       "      <th>group_type</th>\n",
       "      <th>occurances</th>\n",
       "      <th>products_count</th>\n",
       "    </tr>\n",
       "  </thead>\n",
       "  <tbody>\n",
       "    <tr>\n",
       "      <th>0</th>\n",
       "      <td>0pOlmHVeidsh63iAWdTAfg</td>\n",
       "      <td>Hendrick Motors of Charlotte - Mercedes-Benz</td>\n",
       "      <td>5201 E Independence Blvd</td>\n",
       "      <td>Charlotte</td>\n",
       "      <td>NC</td>\n",
       "      <td>28212.0</td>\n",
       "      <td>35.188018</td>\n",
       "      <td>-80.758758</td>\n",
       "      <td>2.5</td>\n",
       "      <td>32</td>\n",
       "      <td>...</td>\n",
       "      <td>9</td>\n",
       "      <td>0</td>\n",
       "      <td>0</td>\n",
       "      <td>Horrible experience! Purchased a ML350 from he...</td>\n",
       "      <td>2016-02-14 04:09:06</td>\n",
       "      <td>5284</td>\n",
       "      <td>2</td>\n",
       "      <td>n</td>\n",
       "      <td>2</td>\n",
       "      <td>1.0</td>\n",
       "    </tr>\n",
       "    <tr>\n",
       "      <th>1</th>\n",
       "      <td>w3PwDEbI0EDx4YI_BkFhIA</td>\n",
       "      <td>Portofino's</td>\n",
       "      <td>5126 Park Rd, Ste 1c</td>\n",
       "      <td>Charlotte</td>\n",
       "      <td>NC</td>\n",
       "      <td>28209.0</td>\n",
       "      <td>35.160557</td>\n",
       "      <td>-80.850104</td>\n",
       "      <td>4.0</td>\n",
       "      <td>233</td>\n",
       "      <td>...</td>\n",
       "      <td>0</td>\n",
       "      <td>0</td>\n",
       "      <td>0</td>\n",
       "      <td>Fantastic little place! Verdict was out when w...</td>\n",
       "      <td>2016-12-31 04:56:06</td>\n",
       "      <td>5284</td>\n",
       "      <td>2</td>\n",
       "      <td>n</td>\n",
       "      <td>2</td>\n",
       "      <td>1.0</td>\n",
       "    </tr>\n",
       "    <tr>\n",
       "      <th>2</th>\n",
       "      <td>w3PwDEbI0EDx4YI_BkFhIA</td>\n",
       "      <td>Portofino's</td>\n",
       "      <td>5126 Park Rd, Ste 1c</td>\n",
       "      <td>Charlotte</td>\n",
       "      <td>NC</td>\n",
       "      <td>28209.0</td>\n",
       "      <td>35.160557</td>\n",
       "      <td>-80.850104</td>\n",
       "      <td>4.0</td>\n",
       "      <td>233</td>\n",
       "      <td>...</td>\n",
       "      <td>0</td>\n",
       "      <td>0</td>\n",
       "      <td>0</td>\n",
       "      <td>I write this review reluctantly as I do not wa...</td>\n",
       "      <td>2016-12-29 16:27:39</td>\n",
       "      <td>5284</td>\n",
       "      <td>2</td>\n",
       "      <td>n</td>\n",
       "      <td>2</td>\n",
       "      <td>1.0</td>\n",
       "    </tr>\n",
       "    <tr>\n",
       "      <th>3</th>\n",
       "      <td>-qjn24n8HYF6It9GQrQntw</td>\n",
       "      <td>Five Guys Burgers and Fries</td>\n",
       "      <td>2130 E Arbors Dr</td>\n",
       "      <td>Charlotte</td>\n",
       "      <td>NC</td>\n",
       "      <td>28262.0</td>\n",
       "      <td>35.338070</td>\n",
       "      <td>-80.757397</td>\n",
       "      <td>4.0</td>\n",
       "      <td>15</td>\n",
       "      <td>...</td>\n",
       "      <td>0</td>\n",
       "      <td>0</td>\n",
       "      <td>0</td>\n",
       "      <td>Always good fresh juicy burgers. They are a bi...</td>\n",
       "      <td>2016-08-13 04:18:40</td>\n",
       "      <td>209</td>\n",
       "      <td>4</td>\n",
       "      <td>n</td>\n",
       "      <td>4</td>\n",
       "      <td>1.0</td>\n",
       "    </tr>\n",
       "    <tr>\n",
       "      <th>4</th>\n",
       "      <td>NFm869_w6cvVaWaNpAzjeA</td>\n",
       "      <td>Soul Gastrolounge</td>\n",
       "      <td>1500-B Central Ave</td>\n",
       "      <td>Charlotte</td>\n",
       "      <td>NC</td>\n",
       "      <td>28205.0</td>\n",
       "      <td>35.220275</td>\n",
       "      <td>-80.813323</td>\n",
       "      <td>4.0</td>\n",
       "      <td>1077</td>\n",
       "      <td>...</td>\n",
       "      <td>0</td>\n",
       "      <td>0</td>\n",
       "      <td>0</td>\n",
       "      <td>This place never disappoints! It's the perfect...</td>\n",
       "      <td>2016-04-03 02:15:43</td>\n",
       "      <td>209</td>\n",
       "      <td>4</td>\n",
       "      <td>n</td>\n",
       "      <td>4</td>\n",
       "      <td>1.0</td>\n",
       "    </tr>\n",
       "    <tr>\n",
       "      <th>...</th>\n",
       "      <td>...</td>\n",
       "      <td>...</td>\n",
       "      <td>...</td>\n",
       "      <td>...</td>\n",
       "      <td>...</td>\n",
       "      <td>...</td>\n",
       "      <td>...</td>\n",
       "      <td>...</td>\n",
       "      <td>...</td>\n",
       "      <td>...</td>\n",
       "      <td>...</td>\n",
       "      <td>...</td>\n",
       "      <td>...</td>\n",
       "      <td>...</td>\n",
       "      <td>...</td>\n",
       "      <td>...</td>\n",
       "      <td>...</td>\n",
       "      <td>...</td>\n",
       "      <td>...</td>\n",
       "      <td>...</td>\n",
       "      <td>...</td>\n",
       "    </tr>\n",
       "    <tr>\n",
       "      <th>245268</th>\n",
       "      <td>OgANEur7Bt8YJSd2uSm6yA</td>\n",
       "      <td>Pizza Hut</td>\n",
       "      <td>7705 S Tryon St E</td>\n",
       "      <td>Charlotte</td>\n",
       "      <td>NC</td>\n",
       "      <td>28217.0</td>\n",
       "      <td>35.147999</td>\n",
       "      <td>-80.924835</td>\n",
       "      <td>1.5</td>\n",
       "      <td>61</td>\n",
       "      <td>...</td>\n",
       "      <td>0</td>\n",
       "      <td>0</td>\n",
       "      <td>0</td>\n",
       "      <td>To start, I would absolutely give negative sta...</td>\n",
       "      <td>2016-02-15 04:36:51</td>\n",
       "      <td>8415</td>\n",
       "      <td>2</td>\n",
       "      <td>n</td>\n",
       "      <td>2</td>\n",
       "      <td>1.0</td>\n",
       "    </tr>\n",
       "    <tr>\n",
       "      <th>245269</th>\n",
       "      <td>D2ojX9bvE0_-aIj9BhdZZA</td>\n",
       "      <td>300 East</td>\n",
       "      <td>300 East Blvd</td>\n",
       "      <td>Charlotte</td>\n",
       "      <td>NC</td>\n",
       "      <td>28203.0</td>\n",
       "      <td>35.210558</td>\n",
       "      <td>-80.856655</td>\n",
       "      <td>4.0</td>\n",
       "      <td>760</td>\n",
       "      <td>...</td>\n",
       "      <td>0</td>\n",
       "      <td>0</td>\n",
       "      <td>0</td>\n",
       "      <td>Was here with friends some months ago. A great...</td>\n",
       "      <td>2016-05-19 18:56:55</td>\n",
       "      <td>5985</td>\n",
       "      <td>2</td>\n",
       "      <td>n</td>\n",
       "      <td>2</td>\n",
       "      <td>1.0</td>\n",
       "    </tr>\n",
       "    <tr>\n",
       "      <th>245270</th>\n",
       "      <td>D2ojX9bvE0_-aIj9BhdZZA</td>\n",
       "      <td>300 East</td>\n",
       "      <td>300 East Blvd</td>\n",
       "      <td>Charlotte</td>\n",
       "      <td>NC</td>\n",
       "      <td>28203.0</td>\n",
       "      <td>35.210558</td>\n",
       "      <td>-80.856655</td>\n",
       "      <td>4.0</td>\n",
       "      <td>760</td>\n",
       "      <td>...</td>\n",
       "      <td>0</td>\n",
       "      <td>0</td>\n",
       "      <td>0</td>\n",
       "      <td>Very accommodating to my gluten free diet.\\nGr...</td>\n",
       "      <td>2016-05-17 18:26:20</td>\n",
       "      <td>5985</td>\n",
       "      <td>2</td>\n",
       "      <td>n</td>\n",
       "      <td>2</td>\n",
       "      <td>1.0</td>\n",
       "    </tr>\n",
       "    <tr>\n",
       "      <th>245271</th>\n",
       "      <td>D2ojX9bvE0_-aIj9BhdZZA</td>\n",
       "      <td>300 East</td>\n",
       "      <td>300 East Blvd</td>\n",
       "      <td>Charlotte</td>\n",
       "      <td>NC</td>\n",
       "      <td>28203.0</td>\n",
       "      <td>35.210558</td>\n",
       "      <td>-80.856655</td>\n",
       "      <td>4.0</td>\n",
       "      <td>760</td>\n",
       "      <td>...</td>\n",
       "      <td>0</td>\n",
       "      <td>0</td>\n",
       "      <td>0</td>\n",
       "      <td>Amazing menu selections - especially daily spe...</td>\n",
       "      <td>2016-12-05 01:22:15</td>\n",
       "      <td>3347</td>\n",
       "      <td>2</td>\n",
       "      <td>n</td>\n",
       "      <td>2</td>\n",
       "      <td>1.0</td>\n",
       "    </tr>\n",
       "    <tr>\n",
       "      <th>245272</th>\n",
       "      <td>D2ojX9bvE0_-aIj9BhdZZA</td>\n",
       "      <td>300 East</td>\n",
       "      <td>300 East Blvd</td>\n",
       "      <td>Charlotte</td>\n",
       "      <td>NC</td>\n",
       "      <td>28203.0</td>\n",
       "      <td>35.210558</td>\n",
       "      <td>-80.856655</td>\n",
       "      <td>4.0</td>\n",
       "      <td>760</td>\n",
       "      <td>...</td>\n",
       "      <td>0</td>\n",
       "      <td>0</td>\n",
       "      <td>0</td>\n",
       "      <td>Wonderful place to eat in Charlotte. Casual at...</td>\n",
       "      <td>2016-12-01 22:56:59</td>\n",
       "      <td>3347</td>\n",
       "      <td>2</td>\n",
       "      <td>n</td>\n",
       "      <td>2</td>\n",
       "      <td>1.0</td>\n",
       "    </tr>\n",
       "  </tbody>\n",
       "</table>\n",
       "<p>245273 rows × 27 columns</p>\n",
       "</div>"
      ],
      "text/plain": [
       "                   business_id                                          name  \\\n",
       "0       0pOlmHVeidsh63iAWdTAfg  Hendrick Motors of Charlotte - Mercedes-Benz   \n",
       "1       w3PwDEbI0EDx4YI_BkFhIA                                   Portofino's   \n",
       "2       w3PwDEbI0EDx4YI_BkFhIA                                   Portofino's   \n",
       "3       -qjn24n8HYF6It9GQrQntw                   Five Guys Burgers and Fries   \n",
       "4       NFm869_w6cvVaWaNpAzjeA                             Soul Gastrolounge   \n",
       "...                        ...                                           ...   \n",
       "245268  OgANEur7Bt8YJSd2uSm6yA                                     Pizza Hut   \n",
       "245269  D2ojX9bvE0_-aIj9BhdZZA                                      300 East   \n",
       "245270  D2ojX9bvE0_-aIj9BhdZZA                                      300 East   \n",
       "245271  D2ojX9bvE0_-aIj9BhdZZA                                      300 East   \n",
       "245272  D2ojX9bvE0_-aIj9BhdZZA                                      300 East   \n",
       "\n",
       "                         address       city state  postal_code   latitude  \\\n",
       "0       5201 E Independence Blvd  Charlotte    NC      28212.0  35.188018   \n",
       "1           5126 Park Rd, Ste 1c  Charlotte    NC      28209.0  35.160557   \n",
       "2           5126 Park Rd, Ste 1c  Charlotte    NC      28209.0  35.160557   \n",
       "3               2130 E Arbors Dr  Charlotte    NC      28262.0  35.338070   \n",
       "4             1500-B Central Ave  Charlotte    NC      28205.0  35.220275   \n",
       "...                          ...        ...   ...          ...        ...   \n",
       "245268         7705 S Tryon St E  Charlotte    NC      28217.0  35.147999   \n",
       "245269             300 East Blvd  Charlotte    NC      28203.0  35.210558   \n",
       "245270             300 East Blvd  Charlotte    NC      28203.0  35.210558   \n",
       "245271             300 East Blvd  Charlotte    NC      28203.0  35.210558   \n",
       "245272             300 East Blvd  Charlotte    NC      28203.0  35.210558   \n",
       "\n",
       "        longitude  stars_business  review_count  ...  useful funny cool  \\\n",
       "0      -80.758758             2.5            32  ...       9     0    0   \n",
       "1      -80.850104             4.0           233  ...       0     0    0   \n",
       "2      -80.850104             4.0           233  ...       0     0    0   \n",
       "3      -80.757397             4.0            15  ...       0     0    0   \n",
       "4      -80.813323             4.0          1077  ...       0     0    0   \n",
       "...           ...             ...           ...  ...     ...   ...  ...   \n",
       "245268 -80.924835             1.5            61  ...       0     0    0   \n",
       "245269 -80.856655             4.0           760  ...       0     0    0   \n",
       "245270 -80.856655             4.0           760  ...       0     0    0   \n",
       "245271 -80.856655             4.0           760  ...       0     0    0   \n",
       "245272 -80.856655             4.0           760  ...       0     0    0   \n",
       "\n",
       "                                                     text                date  \\\n",
       "0       Horrible experience! Purchased a ML350 from he... 2016-02-14 04:09:06   \n",
       "1       Fantastic little place! Verdict was out when w... 2016-12-31 04:56:06   \n",
       "2       I write this review reluctantly as I do not wa... 2016-12-29 16:27:39   \n",
       "3       Always good fresh juicy burgers. They are a bi... 2016-08-13 04:18:40   \n",
       "4       This place never disappoints! It's the perfect... 2016-04-03 02:15:43   \n",
       "...                                                   ...                 ...   \n",
       "245268  To start, I would absolutely give negative sta... 2016-02-15 04:36:51   \n",
       "245269  Was here with friends some months ago. A great... 2016-05-19 18:56:55   \n",
       "245270  Very accommodating to my gluten free diet.\\nGr... 2016-05-17 18:26:20   \n",
       "245271  Amazing menu selections - especially daily spe... 2016-12-05 01:22:15   \n",
       "245272  Wonderful place to eat in Charlotte. Casual at... 2016-12-01 22:56:59   \n",
       "\n",
       "       group_id  group_len  group_type  occurances  products_count  \n",
       "0          5284          2           n           2             1.0  \n",
       "1          5284          2           n           2             1.0  \n",
       "2          5284          2           n           2             1.0  \n",
       "3           209          4           n           4             1.0  \n",
       "4           209          4           n           4             1.0  \n",
       "...         ...        ...         ...         ...             ...  \n",
       "245268     8415          2           n           2             1.0  \n",
       "245269     5985          2           n           2             1.0  \n",
       "245270     5985          2           n           2             1.0  \n",
       "245271     3347          2           n           2             1.0  \n",
       "245272     3347          2           n           2             1.0  \n",
       "\n",
       "[245273 rows x 27 columns]"
      ]
     },
     "execution_count": 39,
     "metadata": {},
     "output_type": "execute_result"
    },
    {
     "name": "stdout",
     "output_type": "stream",
     "text": [
      "time: 266 ms\n"
     ]
    }
   ],
   "source": [
    "df_final"
   ]
  },
  {
   "cell_type": "code",
   "execution_count": 40,
   "metadata": {},
   "outputs": [
    {
     "data": {
      "text/plain": [
       "<AxesSubplot:xlabel='group_len'>"
      ]
     },
     "execution_count": 40,
     "metadata": {},
     "output_type": "execute_result"
    },
    {
     "name": "stdout",
     "output_type": "stream",
     "text": [
      "time: 610 ms\n"
     ]
    }
   ],
   "source": [
    "df_final.groupby('group_len').products_count.max().sort_values(ascending=True).plot(kind='line')"
   ]
  },
  {
   "cell_type": "code",
   "execution_count": 41,
   "metadata": {},
   "outputs": [
    {
     "data": {
      "text/plain": [
       "<AxesSubplot:xlabel='products_count'>"
      ]
     },
     "execution_count": 41,
     "metadata": {},
     "output_type": "execute_result"
    },
    {
     "data": {
      "image/png": "[encoded data removed]",
      "text/plain": [
       "<Figure size 432x288 with 1 Axes>"
      ]
     },
     "metadata": {
      "needs_background": "light"
     },
     "output_type": "display_data"
    },
    {
     "name": "stdout",
     "output_type": "stream",
     "text": [
      "time: 718 ms\n"
     ]
    }
   ],
   "source": [
    "df_final.sort_values(by='products_count', ascending=True).plot(x='products_count', y='funny')"
   ]
  },
  {
   "cell_type": "code",
   "execution_count": 42,
   "metadata": {},
   "outputs": [
    {
     "data": {
      "text/html": [
       "<div>\n",
       "<style scoped>\n",
       "    .dataframe tbody tr th:only-of-type {\n",
       "        vertical-align: middle;\n",
       "    }\n",
       "\n",
       "    .dataframe tbody tr th {\n",
       "        vertical-align: top;\n",
       "    }\n",
       "\n",
       "    .dataframe thead th {\n",
       "        text-align: right;\n",
       "    }\n",
       "</style>\n",
       "<table border=\"1\" class=\"dataframe\">\n",
       "  <thead>\n",
       "    <tr style=\"text-align: right;\">\n",
       "      <th></th>\n",
       "      <th>business_id</th>\n",
       "      <th>name</th>\n",
       "      <th>address</th>\n",
       "      <th>city</th>\n",
       "      <th>state</th>\n",
       "      <th>postal_code</th>\n",
       "      <th>latitude</th>\n",
       "      <th>longitude</th>\n",
       "      <th>stars_business</th>\n",
       "      <th>review_count</th>\n",
       "      <th>...</th>\n",
       "      <th>useful</th>\n",
       "      <th>funny</th>\n",
       "      <th>cool</th>\n",
       "      <th>text</th>\n",
       "      <th>date</th>\n",
       "      <th>group_id</th>\n",
       "      <th>group_len</th>\n",
       "      <th>group_type</th>\n",
       "      <th>occurances</th>\n",
       "      <th>products_count</th>\n",
       "    </tr>\n",
       "  </thead>\n",
       "  <tbody>\n",
       "    <tr>\n",
       "      <th>0</th>\n",
       "      <td>0pOlmHVeidsh63iAWdTAfg</td>\n",
       "      <td>Hendrick Motors of Charlotte - Mercedes-Benz</td>\n",
       "      <td>5201 E Independence Blvd</td>\n",
       "      <td>Charlotte</td>\n",
       "      <td>NC</td>\n",
       "      <td>28212.0</td>\n",
       "      <td>35.188018</td>\n",
       "      <td>-80.758758</td>\n",
       "      <td>2.5</td>\n",
       "      <td>32</td>\n",
       "      <td>...</td>\n",
       "      <td>9</td>\n",
       "      <td>0</td>\n",
       "      <td>0</td>\n",
       "      <td>Horrible experience! Purchased a ML350 from he...</td>\n",
       "      <td>2016-02-14 04:09:06</td>\n",
       "      <td>5284</td>\n",
       "      <td>2</td>\n",
       "      <td>n</td>\n",
       "      <td>2</td>\n",
       "      <td>1.0</td>\n",
       "    </tr>\n",
       "    <tr>\n",
       "      <th>1</th>\n",
       "      <td>w3PwDEbI0EDx4YI_BkFhIA</td>\n",
       "      <td>Portofino's</td>\n",
       "      <td>5126 Park Rd, Ste 1c</td>\n",
       "      <td>Charlotte</td>\n",
       "      <td>NC</td>\n",
       "      <td>28209.0</td>\n",
       "      <td>35.160557</td>\n",
       "      <td>-80.850104</td>\n",
       "      <td>4.0</td>\n",
       "      <td>233</td>\n",
       "      <td>...</td>\n",
       "      <td>0</td>\n",
       "      <td>0</td>\n",
       "      <td>0</td>\n",
       "      <td>Fantastic little place! Verdict was out when w...</td>\n",
       "      <td>2016-12-31 04:56:06</td>\n",
       "      <td>5284</td>\n",
       "      <td>2</td>\n",
       "      <td>n</td>\n",
       "      <td>2</td>\n",
       "      <td>1.0</td>\n",
       "    </tr>\n",
       "    <tr>\n",
       "      <th>2</th>\n",
       "      <td>w3PwDEbI0EDx4YI_BkFhIA</td>\n",
       "      <td>Portofino's</td>\n",
       "      <td>5126 Park Rd, Ste 1c</td>\n",
       "      <td>Charlotte</td>\n",
       "      <td>NC</td>\n",
       "      <td>28209.0</td>\n",
       "      <td>35.160557</td>\n",
       "      <td>-80.850104</td>\n",
       "      <td>4.0</td>\n",
       "      <td>233</td>\n",
       "      <td>...</td>\n",
       "      <td>0</td>\n",
       "      <td>0</td>\n",
       "      <td>0</td>\n",
       "      <td>I write this review reluctantly as I do not wa...</td>\n",
       "      <td>2016-12-29 16:27:39</td>\n",
       "      <td>5284</td>\n",
       "      <td>2</td>\n",
       "      <td>n</td>\n",
       "      <td>2</td>\n",
       "      <td>1.0</td>\n",
       "    </tr>\n",
       "    <tr>\n",
       "      <th>3</th>\n",
       "      <td>-qjn24n8HYF6It9GQrQntw</td>\n",
       "      <td>Five Guys Burgers and Fries</td>\n",
       "      <td>2130 E Arbors Dr</td>\n",
       "      <td>Charlotte</td>\n",
       "      <td>NC</td>\n",
       "      <td>28262.0</td>\n",
       "      <td>35.338070</td>\n",
       "      <td>-80.757397</td>\n",
       "      <td>4.0</td>\n",
       "      <td>15</td>\n",
       "      <td>...</td>\n",
       "      <td>0</td>\n",
       "      <td>0</td>\n",
       "      <td>0</td>\n",
       "      <td>Always good fresh juicy burgers. They are a bi...</td>\n",
       "      <td>2016-08-13 04:18:40</td>\n",
       "      <td>209</td>\n",
       "      <td>4</td>\n",
       "      <td>n</td>\n",
       "      <td>4</td>\n",
       "      <td>1.0</td>\n",
       "    </tr>\n",
       "    <tr>\n",
       "      <th>4</th>\n",
       "      <td>NFm869_w6cvVaWaNpAzjeA</td>\n",
       "      <td>Soul Gastrolounge</td>\n",
       "      <td>1500-B Central Ave</td>\n",
       "      <td>Charlotte</td>\n",
       "      <td>NC</td>\n",
       "      <td>28205.0</td>\n",
       "      <td>35.220275</td>\n",
       "      <td>-80.813323</td>\n",
       "      <td>4.0</td>\n",
       "      <td>1077</td>\n",
       "      <td>...</td>\n",
       "      <td>0</td>\n",
       "      <td>0</td>\n",
       "      <td>0</td>\n",
       "      <td>This place never disappoints! It's the perfect...</td>\n",
       "      <td>2016-04-03 02:15:43</td>\n",
       "      <td>209</td>\n",
       "      <td>4</td>\n",
       "      <td>n</td>\n",
       "      <td>4</td>\n",
       "      <td>1.0</td>\n",
       "    </tr>\n",
       "    <tr>\n",
       "      <th>...</th>\n",
       "      <td>...</td>\n",
       "      <td>...</td>\n",
       "      <td>...</td>\n",
       "      <td>...</td>\n",
       "      <td>...</td>\n",
       "      <td>...</td>\n",
       "      <td>...</td>\n",
       "      <td>...</td>\n",
       "      <td>...</td>\n",
       "      <td>...</td>\n",
       "      <td>...</td>\n",
       "      <td>...</td>\n",
       "      <td>...</td>\n",
       "      <td>...</td>\n",
       "      <td>...</td>\n",
       "      <td>...</td>\n",
       "      <td>...</td>\n",
       "      <td>...</td>\n",
       "      <td>...</td>\n",
       "      <td>...</td>\n",
       "      <td>...</td>\n",
       "    </tr>\n",
       "    <tr>\n",
       "      <th>245268</th>\n",
       "      <td>OgANEur7Bt8YJSd2uSm6yA</td>\n",
       "      <td>Pizza Hut</td>\n",
       "      <td>7705 S Tryon St E</td>\n",
       "      <td>Charlotte</td>\n",
       "      <td>NC</td>\n",
       "      <td>28217.0</td>\n",
       "      <td>35.147999</td>\n",
       "      <td>-80.924835</td>\n",
       "      <td>1.5</td>\n",
       "      <td>61</td>\n",
       "      <td>...</td>\n",
       "      <td>0</td>\n",
       "      <td>0</td>\n",
       "      <td>0</td>\n",
       "      <td>To start, I would absolutely give negative sta...</td>\n",
       "      <td>2016-02-15 04:36:51</td>\n",
       "      <td>8415</td>\n",
       "      <td>2</td>\n",
       "      <td>n</td>\n",
       "      <td>2</td>\n",
       "      <td>1.0</td>\n",
       "    </tr>\n",
       "    <tr>\n",
       "      <th>245269</th>\n",
       "      <td>D2ojX9bvE0_-aIj9BhdZZA</td>\n",
       "      <td>300 East</td>\n",
       "      <td>300 East Blvd</td>\n",
       "      <td>Charlotte</td>\n",
       "      <td>NC</td>\n",
       "      <td>28203.0</td>\n",
       "      <td>35.210558</td>\n",
       "      <td>-80.856655</td>\n",
       "      <td>4.0</td>\n",
       "      <td>760</td>\n",
       "      <td>...</td>\n",
       "      <td>0</td>\n",
       "      <td>0</td>\n",
       "      <td>0</td>\n",
       "      <td>Was here with friends some months ago. A great...</td>\n",
       "      <td>2016-05-19 18:56:55</td>\n",
       "      <td>5985</td>\n",
       "      <td>2</td>\n",
       "      <td>n</td>\n",
       "      <td>2</td>\n",
       "      <td>1.0</td>\n",
       "    </tr>\n",
       "    <tr>\n",
       "      <th>245270</th>\n",
       "      <td>D2ojX9bvE0_-aIj9BhdZZA</td>\n",
       "      <td>300 East</td>\n",
       "      <td>300 East Blvd</td>\n",
       "      <td>Charlotte</td>\n",
       "      <td>NC</td>\n",
       "      <td>28203.0</td>\n",
       "      <td>35.210558</td>\n",
       "      <td>-80.856655</td>\n",
       "      <td>4.0</td>\n",
       "      <td>760</td>\n",
       "      <td>...</td>\n",
       "      <td>0</td>\n",
       "      <td>0</td>\n",
       "      <td>0</td>\n",
       "      <td>Very accommodating to my gluten free diet.\\nGr...</td>\n",
       "      <td>2016-05-17 18:26:20</td>\n",
       "      <td>5985</td>\n",
       "      <td>2</td>\n",
       "      <td>n</td>\n",
       "      <td>2</td>\n",
       "      <td>1.0</td>\n",
       "    </tr>\n",
       "    <tr>\n",
       "      <th>245271</th>\n",
       "      <td>D2ojX9bvE0_-aIj9BhdZZA</td>\n",
       "      <td>300 East</td>\n",
       "      <td>300 East Blvd</td>\n",
       "      <td>Charlotte</td>\n",
       "      <td>NC</td>\n",
       "      <td>28203.0</td>\n",
       "      <td>35.210558</td>\n",
       "      <td>-80.856655</td>\n",
       "      <td>4.0</td>\n",
       "      <td>760</td>\n",
       "      <td>...</td>\n",
       "      <td>0</td>\n",
       "      <td>0</td>\n",
       "      <td>0</td>\n",
       "      <td>Amazing menu selections - especially daily spe...</td>\n",
       "      <td>2016-12-05 01:22:15</td>\n",
       "      <td>3347</td>\n",
       "      <td>2</td>\n",
       "      <td>n</td>\n",
       "      <td>2</td>\n",
       "      <td>1.0</td>\n",
       "    </tr>\n",
       "    <tr>\n",
       "      <th>245272</th>\n",
       "      <td>D2ojX9bvE0_-aIj9BhdZZA</td>\n",
       "      <td>300 East</td>\n",
       "      <td>300 East Blvd</td>\n",
       "      <td>Charlotte</td>\n",
       "      <td>NC</td>\n",
       "      <td>28203.0</td>\n",
       "      <td>35.210558</td>\n",
       "      <td>-80.856655</td>\n",
       "      <td>4.0</td>\n",
       "      <td>760</td>\n",
       "      <td>...</td>\n",
       "      <td>0</td>\n",
       "      <td>0</td>\n",
       "      <td>0</td>\n",
       "      <td>Wonderful place to eat in Charlotte. Casual at...</td>\n",
       "      <td>2016-12-01 22:56:59</td>\n",
       "      <td>3347</td>\n",
       "      <td>2</td>\n",
       "      <td>n</td>\n",
       "      <td>2</td>\n",
       "      <td>1.0</td>\n",
       "    </tr>\n",
       "  </tbody>\n",
       "</table>\n",
       "<p>245273 rows × 27 columns</p>\n",
       "</div>"
      ],
      "text/plain": [
       "                   business_id                                          name  \\\n",
       "0       0pOlmHVeidsh63iAWdTAfg  Hendrick Motors of Charlotte - Mercedes-Benz   \n",
       "1       w3PwDEbI0EDx4YI_BkFhIA                                   Portofino's   \n",
       "2       w3PwDEbI0EDx4YI_BkFhIA                                   Portofino's   \n",
       "3       -qjn24n8HYF6It9GQrQntw                   Five Guys Burgers and Fries   \n",
       "4       NFm869_w6cvVaWaNpAzjeA                             Soul Gastrolounge   \n",
       "...                        ...                                           ...   \n",
       "245268  OgANEur7Bt8YJSd2uSm6yA                                     Pizza Hut   \n",
       "245269  D2ojX9bvE0_-aIj9BhdZZA                                      300 East   \n",
       "245270  D2ojX9bvE0_-aIj9BhdZZA                                      300 East   \n",
       "245271  D2ojX9bvE0_-aIj9BhdZZA                                      300 East   \n",
       "245272  D2ojX9bvE0_-aIj9BhdZZA                                      300 East   \n",
       "\n",
       "                         address       city state  postal_code   latitude  \\\n",
       "0       5201 E Independence Blvd  Charlotte    NC      28212.0  35.188018   \n",
       "1           5126 Park Rd, Ste 1c  Charlotte    NC      28209.0  35.160557   \n",
       "2           5126 Park Rd, Ste 1c  Charlotte    NC      28209.0  35.160557   \n",
       "3               2130 E Arbors Dr  Charlotte    NC      28262.0  35.338070   \n",
       "4             1500-B Central Ave  Charlotte    NC      28205.0  35.220275   \n",
       "...                          ...        ...   ...          ...        ...   \n",
       "245268         7705 S Tryon St E  Charlotte    NC      28217.0  35.147999   \n",
       "245269             300 East Blvd  Charlotte    NC      28203.0  35.210558   \n",
       "245270             300 East Blvd  Charlotte    NC      28203.0  35.210558   \n",
       "245271             300 East Blvd  Charlotte    NC      28203.0  35.210558   \n",
       "245272             300 East Blvd  Charlotte    NC      28203.0  35.210558   \n",
       "\n",
       "        longitude  stars_business  review_count  ...  useful funny cool  \\\n",
       "0      -80.758758             2.5            32  ...       9     0    0   \n",
       "1      -80.850104             4.0           233  ...       0     0    0   \n",
       "2      -80.850104             4.0           233  ...       0     0    0   \n",
       "3      -80.757397             4.0            15  ...       0     0    0   \n",
       "4      -80.813323             4.0          1077  ...       0     0    0   \n",
       "...           ...             ...           ...  ...     ...   ...  ...   \n",
       "245268 -80.924835             1.5            61  ...       0     0    0   \n",
       "245269 -80.856655             4.0           760  ...       0     0    0   \n",
       "245270 -80.856655             4.0           760  ...       0     0    0   \n",
       "245271 -80.856655             4.0           760  ...       0     0    0   \n",
       "245272 -80.856655             4.0           760  ...       0     0    0   \n",
       "\n",
       "                                                     text                date  \\\n",
       "0       Horrible experience! Purchased a ML350 from he... 2016-02-14 04:09:06   \n",
       "1       Fantastic little place! Verdict was out when w... 2016-12-31 04:56:06   \n",
       "2       I write this review reluctantly as I do not wa... 2016-12-29 16:27:39   \n",
       "3       Always good fresh juicy burgers. They are a bi... 2016-08-13 04:18:40   \n",
       "4       This place never disappoints! It's the perfect... 2016-04-03 02:15:43   \n",
       "...                                                   ...                 ...   \n",
       "245268  To start, I would absolutely give negative sta... 2016-02-15 04:36:51   \n",
       "245269  Was here with friends some months ago. A great... 2016-05-19 18:56:55   \n",
       "245270  Very accommodating to my gluten free diet.\\nGr... 2016-05-17 18:26:20   \n",
       "245271  Amazing menu selections - especially daily spe... 2016-12-05 01:22:15   \n",
       "245272  Wonderful place to eat in Charlotte. Casual at... 2016-12-01 22:56:59   \n",
       "\n",
       "       group_id  group_len  group_type  occurances  products_count  \n",
       "0          5284          2           n           2             1.0  \n",
       "1          5284          2           n           2             1.0  \n",
       "2          5284          2           n           2             1.0  \n",
       "3           209          4           n           4             1.0  \n",
       "4           209          4           n           4             1.0  \n",
       "...         ...        ...         ...         ...             ...  \n",
       "245268     8415          2           n           2             1.0  \n",
       "245269     5985          2           n           2             1.0  \n",
       "245270     5985          2           n           2             1.0  \n",
       "245271     3347          2           n           2             1.0  \n",
       "245272     3347          2           n           2             1.0  \n",
       "\n",
       "[245273 rows x 27 columns]"
      ]
     },
     "execution_count": 42,
     "metadata": {},
     "output_type": "execute_result"
    },
    {
     "name": "stdout",
     "output_type": "stream",
     "text": [
      "time: 203 ms\n"
     ]
    }
   ],
   "source": [
    "df_final"
   ]
  },
  {
   "cell_type": "code",
   "execution_count": null,
   "metadata": {},
   "outputs": [],
   "source": []
  }
 ],
 "metadata": {
  "kernelspec": {
   "display_name": "Python 3",
   "language": "python",
   "name": "python3"
  },
  "language_info": {
   "codemirror_mode": {
    "name": "ipython",
    "version": 3
   },
   "file_extension": ".py",
   "mimetype": "text/x-python",
   "name": "python",
   "nbconvert_exporter": "python",
   "pygments_lexer": "ipython3",
   "version": "3.6.12"
  }
 },
 "nbformat": 4,
 "nbformat_minor": 4
}
