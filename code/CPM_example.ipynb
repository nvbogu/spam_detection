{
 "cells": [
  {
   "cell_type": "code",
   "execution_count": 1,
   "metadata": {},
   "outputs": [],
   "source": [
    "import pandas as pd\n",
    "import networkx as nx\n",
    "from itertools import combinations\n",
    "import re\n",
    "import numpy as np"
   ]
  },
  {
   "cell_type": "code",
   "execution_count": 2,
   "metadata": {},
   "outputs": [],
   "source": [
    "date = ['2012/08/09','2012/08/12', '2012/08/15', '2012/08/17', '2012/08/13', '2012/08/19', '2012/08/17', '2012/09/22', '2012/09/20','2012/09/12','2012/09/18','2012/09/16','2012/11/2','2012/10/5','2012/10/10','2012/10/15', '2012/10/11','2012/08/20', '2012/08/13','2012/10/12', '2012/08/2', '2012/08/11', '2012/08/3','2012/08/17', '2012/12/1','2012/12/29',] "
   ]
  },
  {
   "cell_type": "code",
   "execution_count": 3,
   "metadata": {},
   "outputs": [],
   "source": [
    "reviewer = ['1','2','3','4','9','10','5','4','5','6','7','8','3','3','4','7','8','2','5','9','4','5','6','10','5','4']"
   ]
  },
  {
   "cell_type": "code",
   "execution_count": 4,
   "metadata": {},
   "outputs": [],
   "source": [
    "product = ['1','1','1','1','2','2','2','3','3','3','3','3','7','4','4','4','4','5','5','5','6','6','6','6','8','9']"
   ]
  },
  {
   "cell_type": "code",
   "execution_count": 5,
   "metadata": {},
   "outputs": [],
   "source": [
    "rating = ['1','1','2','1','5','5','5','5','5','5','4','5','5','5','5','5','5','3','4','5','5','5','5','5','5','1']"
   ]
  },
  {
   "cell_type": "code",
   "execution_count": 6,
   "metadata": {},
   "outputs": [],
   "source": [
    "df = pd.DataFrame({'Date': date, 'Reviewer': reviewer, 'Product': product, 'Rating': rating})"
   ]
  },
  {
   "cell_type": "code",
   "execution_count": 7,
   "metadata": {},
   "outputs": [
    {
     "data": {
      "text/html": [
       "<div>\n",
       "<style scoped>\n",
       "    .dataframe tbody tr th:only-of-type {\n",
       "        vertical-align: middle;\n",
       "    }\n",
       "\n",
       "    .dataframe tbody tr th {\n",
       "        vertical-align: top;\n",
       "    }\n",
       "\n",
       "    .dataframe thead th {\n",
       "        text-align: right;\n",
       "    }\n",
       "</style>\n",
       "<table border=\"1\" class=\"dataframe\">\n",
       "  <thead>\n",
       "    <tr style=\"text-align: right;\">\n",
       "      <th></th>\n",
       "      <th>Date</th>\n",
       "      <th>Reviewer</th>\n",
       "      <th>Product</th>\n",
       "      <th>Rating</th>\n",
       "    </tr>\n",
       "  </thead>\n",
       "  <tbody>\n",
       "    <tr>\n",
       "      <th>0</th>\n",
       "      <td>2012/08/09</td>\n",
       "      <td>1</td>\n",
       "      <td>1</td>\n",
       "      <td>1</td>\n",
       "    </tr>\n",
       "    <tr>\n",
       "      <th>1</th>\n",
       "      <td>2012/08/12</td>\n",
       "      <td>2</td>\n",
       "      <td>1</td>\n",
       "      <td>1</td>\n",
       "    </tr>\n",
       "    <tr>\n",
       "      <th>2</th>\n",
       "      <td>2012/08/15</td>\n",
       "      <td>3</td>\n",
       "      <td>1</td>\n",
       "      <td>2</td>\n",
       "    </tr>\n",
       "    <tr>\n",
       "      <th>3</th>\n",
       "      <td>2012/08/17</td>\n",
       "      <td>4</td>\n",
       "      <td>1</td>\n",
       "      <td>1</td>\n",
       "    </tr>\n",
       "    <tr>\n",
       "      <th>4</th>\n",
       "      <td>2012/08/13</td>\n",
       "      <td>9</td>\n",
       "      <td>2</td>\n",
       "      <td>5</td>\n",
       "    </tr>\n",
       "    <tr>\n",
       "      <th>5</th>\n",
       "      <td>2012/08/19</td>\n",
       "      <td>10</td>\n",
       "      <td>2</td>\n",
       "      <td>5</td>\n",
       "    </tr>\n",
       "    <tr>\n",
       "      <th>6</th>\n",
       "      <td>2012/08/17</td>\n",
       "      <td>5</td>\n",
       "      <td>2</td>\n",
       "      <td>5</td>\n",
       "    </tr>\n",
       "    <tr>\n",
       "      <th>7</th>\n",
       "      <td>2012/09/22</td>\n",
       "      <td>4</td>\n",
       "      <td>3</td>\n",
       "      <td>5</td>\n",
       "    </tr>\n",
       "    <tr>\n",
       "      <th>8</th>\n",
       "      <td>2012/09/20</td>\n",
       "      <td>5</td>\n",
       "      <td>3</td>\n",
       "      <td>5</td>\n",
       "    </tr>\n",
       "    <tr>\n",
       "      <th>9</th>\n",
       "      <td>2012/09/12</td>\n",
       "      <td>6</td>\n",
       "      <td>3</td>\n",
       "      <td>5</td>\n",
       "    </tr>\n",
       "    <tr>\n",
       "      <th>10</th>\n",
       "      <td>2012/09/18</td>\n",
       "      <td>7</td>\n",
       "      <td>3</td>\n",
       "      <td>4</td>\n",
       "    </tr>\n",
       "    <tr>\n",
       "      <th>11</th>\n",
       "      <td>2012/09/16</td>\n",
       "      <td>8</td>\n",
       "      <td>3</td>\n",
       "      <td>5</td>\n",
       "    </tr>\n",
       "    <tr>\n",
       "      <th>12</th>\n",
       "      <td>2012/11/2</td>\n",
       "      <td>3</td>\n",
       "      <td>7</td>\n",
       "      <td>5</td>\n",
       "    </tr>\n",
       "    <tr>\n",
       "      <th>13</th>\n",
       "      <td>2012/10/5</td>\n",
       "      <td>3</td>\n",
       "      <td>4</td>\n",
       "      <td>5</td>\n",
       "    </tr>\n",
       "    <tr>\n",
       "      <th>14</th>\n",
       "      <td>2012/10/10</td>\n",
       "      <td>4</td>\n",
       "      <td>4</td>\n",
       "      <td>5</td>\n",
       "    </tr>\n",
       "    <tr>\n",
       "      <th>15</th>\n",
       "      <td>2012/10/15</td>\n",
       "      <td>7</td>\n",
       "      <td>4</td>\n",
       "      <td>5</td>\n",
       "    </tr>\n",
       "    <tr>\n",
       "      <th>16</th>\n",
       "      <td>2012/10/11</td>\n",
       "      <td>8</td>\n",
       "      <td>4</td>\n",
       "      <td>5</td>\n",
       "    </tr>\n",
       "    <tr>\n",
       "      <th>17</th>\n",
       "      <td>2012/08/20</td>\n",
       "      <td>2</td>\n",
       "      <td>5</td>\n",
       "      <td>3</td>\n",
       "    </tr>\n",
       "    <tr>\n",
       "      <th>18</th>\n",
       "      <td>2012/08/13</td>\n",
       "      <td>5</td>\n",
       "      <td>5</td>\n",
       "      <td>4</td>\n",
       "    </tr>\n",
       "    <tr>\n",
       "      <th>19</th>\n",
       "      <td>2012/10/12</td>\n",
       "      <td>9</td>\n",
       "      <td>5</td>\n",
       "      <td>5</td>\n",
       "    </tr>\n",
       "    <tr>\n",
       "      <th>20</th>\n",
       "      <td>2012/08/2</td>\n",
       "      <td>4</td>\n",
       "      <td>6</td>\n",
       "      <td>5</td>\n",
       "    </tr>\n",
       "    <tr>\n",
       "      <th>21</th>\n",
       "      <td>2012/08/11</td>\n",
       "      <td>5</td>\n",
       "      <td>6</td>\n",
       "      <td>5</td>\n",
       "    </tr>\n",
       "    <tr>\n",
       "      <th>22</th>\n",
       "      <td>2012/08/3</td>\n",
       "      <td>6</td>\n",
       "      <td>6</td>\n",
       "      <td>5</td>\n",
       "    </tr>\n",
       "    <tr>\n",
       "      <th>23</th>\n",
       "      <td>2012/08/17</td>\n",
       "      <td>10</td>\n",
       "      <td>6</td>\n",
       "      <td>5</td>\n",
       "    </tr>\n",
       "    <tr>\n",
       "      <th>24</th>\n",
       "      <td>2012/12/1</td>\n",
       "      <td>5</td>\n",
       "      <td>8</td>\n",
       "      <td>5</td>\n",
       "    </tr>\n",
       "    <tr>\n",
       "      <th>25</th>\n",
       "      <td>2012/12/29</td>\n",
       "      <td>4</td>\n",
       "      <td>9</td>\n",
       "      <td>1</td>\n",
       "    </tr>\n",
       "  </tbody>\n",
       "</table>\n",
       "</div>"
      ],
      "text/plain": [
       "          Date Reviewer Product Rating\n",
       "0   2012/08/09        1       1      1\n",
       "1   2012/08/12        2       1      1\n",
       "2   2012/08/15        3       1      2\n",
       "3   2012/08/17        4       1      1\n",
       "4   2012/08/13        9       2      5\n",
       "5   2012/08/19       10       2      5\n",
       "6   2012/08/17        5       2      5\n",
       "7   2012/09/22        4       3      5\n",
       "8   2012/09/20        5       3      5\n",
       "9   2012/09/12        6       3      5\n",
       "10  2012/09/18        7       3      4\n",
       "11  2012/09/16        8       3      5\n",
       "12   2012/11/2        3       7      5\n",
       "13   2012/10/5        3       4      5\n",
       "14  2012/10/10        4       4      5\n",
       "15  2012/10/15        7       4      5\n",
       "16  2012/10/11        8       4      5\n",
       "17  2012/08/20        2       5      3\n",
       "18  2012/08/13        5       5      4\n",
       "19  2012/10/12        9       5      5\n",
       "20   2012/08/2        4       6      5\n",
       "21  2012/08/11        5       6      5\n",
       "22   2012/08/3        6       6      5\n",
       "23  2012/08/17       10       6      5\n",
       "24   2012/12/1        5       8      5\n",
       "25  2012/12/29        4       9      1"
      ]
     },
     "execution_count": 7,
     "metadata": {},
     "output_type": "execute_result"
    }
   ],
   "source": [
    "df"
   ]
  },
  {
   "cell_type": "code",
   "execution_count": 8,
   "metadata": {},
   "outputs": [
    {
     "data": {
      "text/plain": [
       "array(['1', '3', '4', '6', '9'], dtype=object)"
      ]
     },
     "execution_count": 8,
     "metadata": {},
     "output_type": "execute_result"
    }
   ],
   "source": [
    "df[df['Reviewer']=='4'].Product.unique()"
   ]
  },
  {
   "cell_type": "code",
   "execution_count": 9,
   "metadata": {},
   "outputs": [
    {
     "data": {
      "text/plain": [
       "array(['3', '4'], dtype=object)"
      ]
     },
     "execution_count": 9,
     "metadata": {},
     "output_type": "execute_result"
    }
   ],
   "source": [
    "df[df['Reviewer']=='8'].Product.unique()"
   ]
  },
  {
   "cell_type": "code",
   "execution_count": 10,
   "metadata": {},
   "outputs": [
    {
     "data": {
      "text/plain": [
       "array(['3', '6'], dtype=object)"
      ]
     },
     "execution_count": 10,
     "metadata": {},
     "output_type": "execute_result"
    }
   ],
   "source": [
    "df[df['Reviewer']=='6'].Product.unique()"
   ]
  },
  {
   "cell_type": "code",
   "execution_count": 11,
   "metadata": {},
   "outputs": [],
   "source": [
    "df['Date'] =  pd.to_datetime(df['Date'])"
   ]
  },
  {
   "cell_type": "code",
   "execution_count": 12,
   "metadata": {},
   "outputs": [],
   "source": [
    "groups = df.groupby('Product')"
   ]
  },
  {
   "cell_type": "code",
   "execution_count": 13,
   "metadata": {},
   "outputs": [],
   "source": [
    "alpha = 6"
   ]
  },
  {
   "cell_type": "code",
   "execution_count": 14,
   "metadata": {},
   "outputs": [],
   "source": [
    "count_review = dict()\n",
    "G = nx.Graph()\n",
    "for index, g in groups: \n",
    "    \n",
    "    def filter_on_date(g):\n",
    "        result = []\n",
    "        def get_time_diff(combination):\n",
    "            diff = combination.iloc[0].Date - combination.iloc[-1].Date\n",
    "            return diff.days\n",
    "        \n",
    "        edges = list(combinations(g.Reviewer, 2))\n",
    "\n",
    "        for e in edges: \n",
    "            combination = g[g.Reviewer.isin(e)]\n",
    "            diff = get_time_diff(combination)\n",
    "            if abs(diff) > alpha:\n",
    "                continue\n",
    "            else:\n",
    "                result.append(e)\n",
    "        return result, list(set(g.Product))[0]\n",
    "    \n",
    "    def filter_on_rating(g):\n",
    "        result = []\n",
    "        rating_g = g.groupby('Rating')\n",
    "        \n",
    "        for i, r_g in rating_g:\n",
    "            result.append(r_g)\n",
    "        return result\n",
    "    \n",
    "    rating_g = filter_on_rating(g)\n",
    "    for g in rating_g: \n",
    "        date_g, product_id = filter_on_date(g)\n",
    "        if len(date_g) > 0:\n",
    "            for e in date_g:\n",
    "                u = e[0]\n",
    "                v = e[1]\n",
    "                G.add_edge(u, v)\n",
    "                \n",
    "                if (u,v, product_id) in count_review.keys():\n",
    "                    count_review[(u,v, product_id)] += 1\n",
    "                else:\n",
    "                    count_review[(u,v, product_id)] = 1"
   ]
  },
  {
   "cell_type": "code",
   "execution_count": 15,
   "metadata": {},
   "outputs": [
    {
     "data": {
      "text/plain": [
       "{('1', '2', '1'): 1,\n",
       " ('2', '4', '1'): 1,\n",
       " ('9', '10', '2'): 1,\n",
       " ('9', '5', '2'): 1,\n",
       " ('10', '5', '2'): 1,\n",
       " ('4', '5', '3'): 1,\n",
       " ('4', '8', '3'): 1,\n",
       " ('5', '8', '3'): 1,\n",
       " ('6', '8', '3'): 1,\n",
       " ('3', '4', '4'): 1,\n",
       " ('3', '8', '4'): 1,\n",
       " ('4', '7', '4'): 1,\n",
       " ('4', '8', '4'): 1,\n",
       " ('7', '8', '4'): 1,\n",
       " ('4', '6', '6'): 1,\n",
       " ('5', '10', '6'): 1}"
      ]
     },
     "execution_count": 15,
     "metadata": {},
     "output_type": "execute_result"
    }
   ],
   "source": [
    "count_review"
   ]
  },
  {
   "cell_type": "code",
   "execution_count": 16,
   "metadata": {},
   "outputs": [],
   "source": [
    "nx.draw(G, with_labels = True)"
   ]
  },
  {
   "cell_type": "code",
   "execution_count": 17,
   "metadata": {},
   "outputs": [],
   "source": [
    "def filter_cliques(cliques, k):\n",
    "    result = []\n",
    "    for clique in cliques:\n",
    "        if len(clique) >= k:\n",
    "            result.append(clique)\n",
    "    return result"
   ]
  },
  {
   "cell_type": "code",
   "execution_count": 18,
   "metadata": {},
   "outputs": [
    {
     "data": {
      "text/plain": [
       "[['10', '5', '9'],\n",
       " ['4', '8', '5'],\n",
       " ['4', '8', '6'],\n",
       " ['4', '8', '7'],\n",
       " ['4', '8', '3']]"
      ]
     },
     "execution_count": 18,
     "metadata": {},
     "output_type": "execute_result"
    }
   ],
   "source": [
    "cliques = list(nx.find_cliques(G))\n",
    "cliques = filter_cliques(cliques, k=3)\n",
    "cliques"
   ]
  },
  {
   "cell_type": "code",
   "execution_count": 19,
   "metadata": {},
   "outputs": [],
   "source": [
    "cliques.append(['4', '8', '5', '1'])"
   ]
  },
  {
   "cell_type": "code",
   "execution_count": 20,
   "metadata": {},
   "outputs": [],
   "source": [
    "cliques.append(['4', '8', '5', '1', '88', '93'])"
   ]
  },
  {
   "cell_type": "code",
   "execution_count": 21,
   "metadata": {},
   "outputs": [],
   "source": [
    "cliques.append(['100', '101', '102', '103', '88', '93'])"
   ]
  },
  {
   "cell_type": "code",
   "execution_count": 22,
   "metadata": {},
   "outputs": [],
   "source": [
    "beta = 9/10"
   ]
  },
  {
   "cell_type": "code",
   "execution_count": 23,
   "metadata": {},
   "outputs": [],
   "source": [
    "def merge_cliques(cliques):\n",
    "    \n",
    "    def how_many_el_are_equal(clique, clique_search):\n",
    "        result = 0\n",
    "        \n",
    "        for element in clique:\n",
    "            if element in clique_search:\n",
    "                result+=1        \n",
    "        return result\n",
    "        \n",
    "    def get_arteficial_group(result_df):\n",
    "        result = []\n",
    "        arteficial_groups = result_df.groupby('common_elements').arteficial_grp.sum().values\n",
    "        \n",
    "        for group in arteficial_groups:\n",
    "            numbers = re.findall('[0-9]+', group)\n",
    "            result.append(list(set(numbers)))\n",
    "        return result\n",
    "    \n",
    "    result = []\n",
    "    k = 3\n",
    "    proccesed_cliques = dict()\n",
    "    for clique in cliques:\n",
    "        proccesed_cliques.update({str(clique):1})\n",
    "        for clique_search in cliques:\n",
    "            \n",
    "            # Grenzfälle\n",
    "            if clique == clique_search:\n",
    "                continue\n",
    "            if str(clique_search) in proccesed_cliques:\n",
    "                continue\n",
    "            \n",
    "            num_equal = how_many_el_are_equal(clique, clique_search)\n",
    "            treshold_clique = ((num_equal/len(clique)))\n",
    "            treshold_clique_search = ((num_equal/len(clique_search)))\n",
    "            #print(treshold_clique, treshold_clique_search)  \n",
    "            \n",
    "            # Grenzfall\n",
    "            if treshold_clique == 1 or treshold_clique_search == 1:\n",
    "                continue\n",
    "            \n",
    "            if treshold_clique>=beta or treshold_clique_search>=beta:\n",
    "  \n",
    "                common_elements = [x for x,y in zip(clique, clique_search) if x==y]\n",
    "                arteficial_grp = set(clique + clique_search)              \n",
    "               \n",
    "                #print(clique, clique_search, num_equal,  True, arteficial_grp, common_elements)\n",
    "                result.append({'arteficial_grp' : str(arteficial_grp), 'common_elements' : str(common_elements)})\n",
    "    if len(result) > 0:\n",
    "        result_df = pd.DataFrame(result) \n",
    "        print(result_df)\n",
    "        print('1')\n",
    "        result = get_arteficial_group(result_df)\n",
    "    return result\n",
    "    "
   ]
  },
  {
   "cell_type": "code",
   "execution_count": 24,
   "metadata": {},
   "outputs": [
    {
     "data": {
      "text/plain": [
       "[]"
      ]
     },
     "execution_count": 24,
     "metadata": {},
     "output_type": "execute_result"
    }
   ],
   "source": [
    "merge_cliques(cliques)"
   ]
  },
  {
   "cell_type": "code",
   "execution_count": 25,
   "metadata": {},
   "outputs": [],
   "source": [
    "cliques.extend(merge_cliques(cliques))"
   ]
  },
  {
   "cell_type": "code",
   "execution_count": 29,
   "metadata": {},
   "outputs": [
    {
     "data": {
      "text/plain": [
       "[['10', '5', '9'],\n",
       " ['4', '8', '5'],\n",
       " ['4', '8', '6'],\n",
       " ['4', '8', '7'],\n",
       " ['4', '8', '3'],\n",
       " ['4', '8', '5', '1'],\n",
       " ['4', '8', '5', '1', '88', '93'],\n",
       " ['100', '101', '102', '103', '88', '93']]"
      ]
     },
     "execution_count": 29,
     "metadata": {},
     "output_type": "execute_result"
    }
   ],
   "source": [
    "cliques"
   ]
  },
  {
   "cell_type": "code",
   "execution_count": 27,
   "metadata": {},
   "outputs": [],
   "source": [
    "my_colors = ['red', 'blue', 'yellow', 'brown', 'green', 'blue']"
   ]
  },
  {
   "cell_type": "code",
   "execution_count": 31,
   "metadata": {},
   "outputs": [],
   "source": [
    "G_cliques = nx.Graph()\n",
    "for i, clique in enumerate(cliques[:-2]):\n",
    "    combination = combinations(clique, 2)\n",
    "    for e in combination:\n",
    "        u = e[0]\n",
    "        v = e[1]\n",
    "        G_cliques.add_edge(u, v, color=my_colors[i])"
   ]
  },
  {
   "cell_type": "code",
   "execution_count": 32,
   "metadata": {},
   "outputs": [],
   "source": [
    "edges = G_cliques.edges()\n",
    "colors = [G_cliques[u][v]['color'] for u,v in edges]"
   ]
  },
  {
   "cell_type": "code",
   "execution_count": 33,
   "metadata": {},
   "outputs": [
    {
     "data": {
      "image/png": "[encoded data removed]",
      "text/plain": [
       "<Figure size 432x288 with 1 Axes>"
      ]
     },
     "metadata": {},
     "output_type": "display_data"
    }
   ],
   "source": [
    "nx.draw(G_cliques, with_labels=True, font_size =30, edge_color=colors)"
   ]
  },
  {
   "cell_type": "code",
   "execution_count": null,
   "metadata": {},
   "outputs": [],
   "source": [
    "artificial_groups = merge_cliques(cliques)"
   ]
  },
  {
   "cell_type": "code",
   "execution_count": null,
   "metadata": {},
   "outputs": [],
   "source": [
    "natural_groups = cliques"
   ]
  },
  {
   "cell_type": "code",
   "execution_count": null,
   "metadata": {},
   "outputs": [],
   "source": [
    "count_review"
   ]
  },
  {
   "cell_type": "raw",
   "metadata": {},
   "source": [
    "def get_review_group_count(count_review, df_result):\n",
    "    groups = df_result.groupby('group_id').reviewer_id\n",
    "    for group_id, group in groups:\n",
    "        reviewer_ids = group.values\n",
    "        for edge in count_review:\n",
    "            u =  edge[0]\n",
    "            v = edge[1]\n",
    "        "
   ]
  },
  {
   "cell_type": "code",
   "execution_count": null,
   "metadata": {},
   "outputs": [],
   "source": [
    "df = pd.DataFrame(list(count_review), columns=['reviewer_id_u', 'reviewer_id_v', 'product_id'])\n",
    "df['review_count'] = count_review.values()"
   ]
  },
  {
   "cell_type": "code",
   "execution_count": null,
   "metadata": {},
   "outputs": [],
   "source": [
    "df"
   ]
  },
  {
   "cell_type": "code",
   "execution_count": null,
   "metadata": {},
   "outputs": [],
   "source": [
    "def get_df_result(artificial_groups, natural_groups):\n",
    "    df_dict = []\n",
    "    for i, group in enumerate(natural_groups):\n",
    "        for reviewer_id in group:\n",
    "            df_dict.append({'reviewer_id': reviewer_id, 'group_id': i, 'group_len': len(group), 'group_type': 'n'})\n",
    "\n",
    "    for f, group in enumerate(artificial_groups):\n",
    "        for reviewer_id in group:\n",
    "            df_dict.append({'reviewer_id': reviewer_id, 'group_id': f+i+1, 'group_len': len(group), 'group_type': 'a'})\n",
    "\n",
    "    df_result = pd.DataFrame(df_dict)\n",
    "    \n",
    "    \n",
    "    return df_result"
   ]
  },
  {
   "cell_type": "code",
   "execution_count": null,
   "metadata": {},
   "outputs": [],
   "source": [
    "df_result = get_df_result(artificial_groups, natural_groups)\n",
    "df_result"
   ]
  },
  {
   "cell_type": "code",
   "execution_count": null,
   "metadata": {},
   "outputs": [],
   "source": [
    "def get_diff_products(df_results, df, natural_groups):\n",
    "    \n",
    "    result = []\n",
    "    groups = df_result.groupby('group_id').reviewer_id\n",
    "    \n",
    "    possible_candidates = list(set([review_id for group in natural_groups for review_id in group]))\n",
    "    print(possible_candidates)\n",
    "    print(df.shape)\n",
    "    df = df[(df.reviewer_id_u.isin(possible_candidates))&(df.reviewer_id_u.isin(possible_candidates))]\n",
    "    print(df.shape)\n",
    "    for group_id, reviewer_ids in groups:\n",
    "        reviewer_ids = reviewer_ids.values\n",
    "        for index, row in df.iterrows():\n",
    "            u = row.reviewer_id_u\n",
    "            v = row.reviewer_id_v\n",
    "            product_id = row.product_id\n",
    "            if u in reviewer_ids and v in reviewer_ids:\n",
    "                result.append({'group_id': group_id, 'product_id': product_id})\n",
    "    result = pd.DataFrame(result)\n",
    "    result = result.groupby('group_id').product_id.nunique().to_frame().reset_index()\n",
    "    result = result.rename(columns={'product_id': 'product_count'})\n",
    "    return result"
   ]
  },
  {
   "cell_type": "code",
   "execution_count": null,
   "metadata": {},
   "outputs": [],
   "source": [
    "df_diff_products = get_diff_products(df_result, df, natural_groups)\n",
    "df_diff_products"
   ]
  },
  {
   "cell_type": "code",
   "execution_count": null,
   "metadata": {},
   "outputs": [],
   "source": [
    "df_final = df_result.merge(df_diff_products, on='group_id')"
   ]
  },
  {
   "cell_type": "code",
   "execution_count": null,
   "metadata": {},
   "outputs": [],
   "source": [
    "df_final[df_final['reviewer_id']=='7']"
   ]
  },
  {
   "cell_type": "code",
   "execution_count": null,
   "metadata": {},
   "outputs": [],
   "source": [
    "def plot_diff_products(df_final):\n",
    "    df = df_final.drop_duplicates(subset='group_id')\n",
    "    df.product_count.plot(kind='bar', x='group_id')"
   ]
  },
  {
   "cell_type": "code",
   "execution_count": null,
   "metadata": {},
   "outputs": [],
   "source": [
    "df = plot_diff_products(df_final)"
   ]
  },
  {
   "cell_type": "code",
   "execution_count": null,
   "metadata": {},
   "outputs": [],
   "source": []
  }
 ],
 "metadata": {
  "kernelspec": {
   "display_name": "Python 3",
   "language": "python",
   "name": "python3"
  },
  "language_info": {
   "codemirror_mode": {
    "name": "ipython",
    "version": 3
   },
   "file_extension": ".py",
   "mimetype": "text/x-python",
   "name": "python",
   "nbconvert_exporter": "python",
   "pygments_lexer": "ipython3",
   "version": "3.7.9"
  }
 },
 "nbformat": 4,
 "nbformat_minor": 4
}
