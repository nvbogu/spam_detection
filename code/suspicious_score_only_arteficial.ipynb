{
 "cells": [
  {
   "cell_type": "markdown",
   "metadata": {},
   "source": [
    "# Suspicious Score ONLY ARTEFICIAL GROUPS"
   ]
  },
  {
   "cell_type": "code",
   "execution_count": 1,
   "metadata": {},
   "outputs": [],
   "source": [
    "import pandas as pd\n",
    "import numpy as np"
   ]
  },
  {
   "cell_type": "code",
   "execution_count": 2,
   "metadata": {},
   "outputs": [],
   "source": [
    "from sklearn import preprocessing"
   ]
  },
  {
   "cell_type": "code",
   "execution_count": 3,
   "metadata": {},
   "outputs": [],
   "source": [
    "def load_dataset(path):\n",
    "    df = pd.read_csv(path, index_col=0)\n",
    "    return df"
   ]
  },
  {
   "cell_type": "code",
   "execution_count": 4,
   "metadata": {},
   "outputs": [],
   "source": [
    "def look_at_group(group_id, df_charlotte_2016, df_groups):\n",
    "    df = df_charlotte_2016.merge(df_groups, on='user_id')\n",
    "    df = df[df.group_id==group_id]\n",
    "    indexes = df.index\n",
    "    for _index in indexes:\n",
    "        text = df.loc[_index].text\n",
    "        user_id = df.loc[_index].user_id\n",
    "        business_id = df.loc[_index].business_id\n",
    "        review_id = df.loc[_index].review_id\n",
    "        print({'user_id':user_id, 'business_id': business_id , 'review_id': review_id})\n",
    "        print(text)\n",
    "        \n",
    "    return df"
   ]
  },
  {
   "cell_type": "markdown",
   "metadata": {},
   "source": [
    "## Raw Dataset"
   ]
  },
  {
   "cell_type": "code",
   "execution_count": 5,
   "metadata": {},
   "outputs": [],
   "source": [
    "df_charlotte_2016 = load_dataset(r'D:\\Yelp\\charlotte_2016.csv')"
   ]
  },
  {
   "cell_type": "code",
   "execution_count": 6,
   "metadata": {},
   "outputs": [
    {
     "data": {
      "text/html": [
       "<div>\n",
       "<style scoped>\n",
       "    .dataframe tbody tr th:only-of-type {\n",
       "        vertical-align: middle;\n",
       "    }\n",
       "\n",
       "    .dataframe tbody tr th {\n",
       "        vertical-align: top;\n",
       "    }\n",
       "\n",
       "    .dataframe thead th {\n",
       "        text-align: right;\n",
       "    }\n",
       "</style>\n",
       "<table border=\"1\" class=\"dataframe\">\n",
       "  <thead>\n",
       "    <tr style=\"text-align: right;\">\n",
       "      <th></th>\n",
       "      <th>business_id</th>\n",
       "      <th>name</th>\n",
       "      <th>address</th>\n",
       "      <th>city</th>\n",
       "      <th>state</th>\n",
       "      <th>postal_code</th>\n",
       "      <th>latitude</th>\n",
       "      <th>longitude</th>\n",
       "      <th>stars_business</th>\n",
       "      <th>review_count</th>\n",
       "      <th>...</th>\n",
       "      <th>categories</th>\n",
       "      <th>hours</th>\n",
       "      <th>review_id</th>\n",
       "      <th>user_id</th>\n",
       "      <th>stars_review</th>\n",
       "      <th>useful</th>\n",
       "      <th>funny</th>\n",
       "      <th>cool</th>\n",
       "      <th>text</th>\n",
       "      <th>date</th>\n",
       "    </tr>\n",
       "  </thead>\n",
       "  <tbody>\n",
       "    <tr>\n",
       "      <th>8</th>\n",
       "      <td>0pOlmHVeidsh63iAWdTAfg</td>\n",
       "      <td>Hendrick Motors of Charlotte - Mercedes-Benz</td>\n",
       "      <td>5201 E Independence Blvd</td>\n",
       "      <td>Charlotte</td>\n",
       "      <td>NC</td>\n",
       "      <td>28212.0</td>\n",
       "      <td>35.188018</td>\n",
       "      <td>-80.758758</td>\n",
       "      <td>2.5</td>\n",
       "      <td>32</td>\n",
       "      <td>...</td>\n",
       "      <td>Auto Repair, Car Dealers, Automotive</td>\n",
       "      <td>{'Monday': '0:0-0:0', 'Tuesday': '7:30-19:0', ...</td>\n",
       "      <td>VyiezkRspGtuG68_rDYp3A</td>\n",
       "      <td>A0R17nyHQ9SiqQjtnsP33g</td>\n",
       "      <td>1.0</td>\n",
       "      <td>5</td>\n",
       "      <td>0</td>\n",
       "      <td>0</td>\n",
       "      <td>Mercedes used to be such a great brand with ex...</td>\n",
       "      <td>2016-12-23 03:54:01</td>\n",
       "    </tr>\n",
       "  </tbody>\n",
       "</table>\n",
       "<p>1 rows × 22 columns</p>\n",
       "</div>"
      ],
      "text/plain": [
       "              business_id                                          name  \\\n",
       "8  0pOlmHVeidsh63iAWdTAfg  Hendrick Motors of Charlotte - Mercedes-Benz   \n",
       "\n",
       "                    address       city state  postal_code   latitude  \\\n",
       "8  5201 E Independence Blvd  Charlotte    NC      28212.0  35.188018   \n",
       "\n",
       "   longitude  stars_business  review_count  ...  \\\n",
       "8 -80.758758             2.5            32  ...   \n",
       "\n",
       "                             categories  \\\n",
       "8  Auto Repair, Car Dealers, Automotive   \n",
       "\n",
       "                                               hours               review_id  \\\n",
       "8  {'Monday': '0:0-0:0', 'Tuesday': '7:30-19:0', ...  VyiezkRspGtuG68_rDYp3A   \n",
       "\n",
       "                  user_id stars_review useful  funny  cool  \\\n",
       "8  A0R17nyHQ9SiqQjtnsP33g          1.0      5      0     0   \n",
       "\n",
       "                                                text                 date  \n",
       "8  Mercedes used to be such a great brand with ex...  2016-12-23 03:54:01  \n",
       "\n",
       "[1 rows x 22 columns]"
      ]
     },
     "execution_count": 6,
     "metadata": {},
     "output_type": "execute_result"
    }
   ],
   "source": [
    "df_charlotte_2016.head(1)"
   ]
  },
  {
   "cell_type": "markdown",
   "metadata": {},
   "source": [
    "## Group Dataset"
   ]
  },
  {
   "cell_type": "code",
   "execution_count": 7,
   "metadata": {},
   "outputs": [],
   "source": [
    "df_groups = load_dataset(r'D:\\Yelp\\charlotte_2016_groups.csv')"
   ]
  },
  {
   "cell_type": "code",
   "execution_count": 8,
   "metadata": {},
   "outputs": [
    {
     "data": {
      "text/html": [
       "<div>\n",
       "<style scoped>\n",
       "    .dataframe tbody tr th:only-of-type {\n",
       "        vertical-align: middle;\n",
       "    }\n",
       "\n",
       "    .dataframe tbody tr th {\n",
       "        vertical-align: top;\n",
       "    }\n",
       "\n",
       "    .dataframe thead th {\n",
       "        text-align: right;\n",
       "    }\n",
       "</style>\n",
       "<table border=\"1\" class=\"dataframe\">\n",
       "  <thead>\n",
       "    <tr style=\"text-align: right;\">\n",
       "      <th></th>\n",
       "      <th>user_id</th>\n",
       "      <th>group_id</th>\n",
       "      <th>group_len</th>\n",
       "      <th>group_type</th>\n",
       "    </tr>\n",
       "  </thead>\n",
       "  <tbody>\n",
       "    <tr>\n",
       "      <th>38276</th>\n",
       "      <td>hWDybu_KvYLSdEFzGrniTw</td>\n",
       "      <td>10385</td>\n",
       "      <td>6</td>\n",
       "      <td>a</td>\n",
       "    </tr>\n",
       "    <tr>\n",
       "      <th>38278</th>\n",
       "      <td>mcJ-A0OGmiWZGBbdWPMfrw</td>\n",
       "      <td>10386</td>\n",
       "      <td>6</td>\n",
       "      <td>a</td>\n",
       "    </tr>\n",
       "    <tr>\n",
       "      <th>38279</th>\n",
       "      <td>hWDybu_KvYLSdEFzGrniTw</td>\n",
       "      <td>10386</td>\n",
       "      <td>6</td>\n",
       "      <td>a</td>\n",
       "    </tr>\n",
       "    <tr>\n",
       "      <th>38280</th>\n",
       "      <td>xDl9ZF3SckkZde_48W6WeA</td>\n",
       "      <td>10386</td>\n",
       "      <td>6</td>\n",
       "      <td>a</td>\n",
       "    </tr>\n",
       "    <tr>\n",
       "      <th>38283</th>\n",
       "      <td>jcURiDqCLY7AOqo8KClJnQ</td>\n",
       "      <td>10386</td>\n",
       "      <td>6</td>\n",
       "      <td>a</td>\n",
       "    </tr>\n",
       "  </tbody>\n",
       "</table>\n",
       "</div>"
      ],
      "text/plain": [
       "                      user_id  group_id  group_len group_type\n",
       "38276  hWDybu_KvYLSdEFzGrniTw     10385          6          a\n",
       "38278  mcJ-A0OGmiWZGBbdWPMfrw     10386          6          a\n",
       "38279  hWDybu_KvYLSdEFzGrniTw     10386          6          a\n",
       "38280  xDl9ZF3SckkZde_48W6WeA     10386          6          a\n",
       "38283  jcURiDqCLY7AOqo8KClJnQ     10386          6          a"
      ]
     },
     "execution_count": 8,
     "metadata": {},
     "output_type": "execute_result"
    }
   ],
   "source": [
    "df_groups.tail()"
   ]
  },
  {
   "cell_type": "code",
   "execution_count": 9,
   "metadata": {},
   "outputs": [
    {
     "data": {
      "text/plain": [
       "n    22741\n",
       "a    10662\n",
       "Name: group_type, dtype: int64"
      ]
     },
     "execution_count": 9,
     "metadata": {},
     "output_type": "execute_result"
    }
   ],
   "source": [
    "df_groups.group_type.value_counts()"
   ]
  },
  {
   "cell_type": "code",
   "execution_count": 10,
   "metadata": {},
   "outputs": [
    {
     "data": {
      "text/plain": [
       "10386"
      ]
     },
     "execution_count": 10,
     "metadata": {},
     "output_type": "execute_result"
    }
   ],
   "source": [
    "df_groups.group_id.max()"
   ]
  },
  {
   "cell_type": "markdown",
   "metadata": {},
   "source": [
    "## Reviewing Burstiness (BST) data"
   ]
  },
  {
   "cell_type": "code",
   "execution_count": 11,
   "metadata": {},
   "outputs": [],
   "source": [
    "df_bst = load_dataset(r'D:\\Yelp\\bst_own_review_count_groups.csv')"
   ]
  },
  {
   "cell_type": "code",
   "execution_count": 12,
   "metadata": {},
   "outputs": [
    {
     "data": {
      "text/html": [
       "<div>\n",
       "<style scoped>\n",
       "    .dataframe tbody tr th:only-of-type {\n",
       "        vertical-align: middle;\n",
       "    }\n",
       "\n",
       "    .dataframe tbody tr th {\n",
       "        vertical-align: top;\n",
       "    }\n",
       "\n",
       "    .dataframe thead th {\n",
       "        text-align: right;\n",
       "    }\n",
       "</style>\n",
       "<table border=\"1\" class=\"dataframe\">\n",
       "  <thead>\n",
       "    <tr style=\"text-align: right;\">\n",
       "      <th></th>\n",
       "      <th>user_id</th>\n",
       "      <th>bst</th>\n",
       "      <th>own_review_count</th>\n",
       "    </tr>\n",
       "  </thead>\n",
       "  <tbody>\n",
       "    <tr>\n",
       "      <th>0</th>\n",
       "      <td>--3WaS23LcIXtxyFULJHTA</td>\n",
       "      <td>0.964286</td>\n",
       "      <td>2</td>\n",
       "    </tr>\n",
       "    <tr>\n",
       "      <th>1</th>\n",
       "      <td>--7D3lFxyMYvs2JYiRrg6Q</td>\n",
       "      <td>0.000000</td>\n",
       "      <td>1</td>\n",
       "    </tr>\n",
       "    <tr>\n",
       "      <th>2</th>\n",
       "      <td>--JS-RvSykutl1DavCbkIg</td>\n",
       "      <td>0.000000</td>\n",
       "      <td>1</td>\n",
       "    </tr>\n",
       "    <tr>\n",
       "      <th>3</th>\n",
       "      <td>--OZO4c_vDOVC2z2BWr92A</td>\n",
       "      <td>0.964286</td>\n",
       "      <td>2</td>\n",
       "    </tr>\n",
       "    <tr>\n",
       "      <th>4</th>\n",
       "      <td>--wiweOmNCw6vg2kbzbwEA</td>\n",
       "      <td>0.000000</td>\n",
       "      <td>1</td>\n",
       "    </tr>\n",
       "  </tbody>\n",
       "</table>\n",
       "</div>"
      ],
      "text/plain": [
       "                  user_id       bst  own_review_count\n",
       "0  --3WaS23LcIXtxyFULJHTA  0.964286                 2\n",
       "1  --7D3lFxyMYvs2JYiRrg6Q  0.000000                 1\n",
       "2  --JS-RvSykutl1DavCbkIg  0.000000                 1\n",
       "3  --OZO4c_vDOVC2z2BWr92A  0.964286                 2\n",
       "4  --wiweOmNCw6vg2kbzbwEA  0.000000                 1"
      ]
     },
     "execution_count": 12,
     "metadata": {},
     "output_type": "execute_result"
    }
   ],
   "source": [
    "df_bst.head(5)"
   ]
  },
  {
   "cell_type": "markdown",
   "metadata": {},
   "source": [
    "## Cosine similarity"
   ]
  },
  {
   "cell_type": "code",
   "execution_count": 13,
   "metadata": {},
   "outputs": [],
   "source": [
    "df_cosine_similarity = load_dataset(r'D:\\Yelp\\cosine_groups.csv')"
   ]
  },
  {
   "cell_type": "code",
   "execution_count": 14,
   "metadata": {},
   "outputs": [
    {
     "data": {
      "text/html": [
       "<div>\n",
       "<style scoped>\n",
       "    .dataframe tbody tr th:only-of-type {\n",
       "        vertical-align: middle;\n",
       "    }\n",
       "\n",
       "    .dataframe tbody tr th {\n",
       "        vertical-align: top;\n",
       "    }\n",
       "\n",
       "    .dataframe thead th {\n",
       "        text-align: right;\n",
       "    }\n",
       "</style>\n",
       "<table border=\"1\" class=\"dataframe\">\n",
       "  <thead>\n",
       "    <tr style=\"text-align: right;\">\n",
       "      <th></th>\n",
       "      <th>group_id</th>\n",
       "      <th>cosine_mean</th>\n",
       "      <th>cosine_max</th>\n",
       "    </tr>\n",
       "  </thead>\n",
       "  <tbody>\n",
       "    <tr>\n",
       "      <th>0</th>\n",
       "      <td>0</td>\n",
       "      <td>0.319787</td>\n",
       "      <td>0.562996</td>\n",
       "    </tr>\n",
       "  </tbody>\n",
       "</table>\n",
       "</div>"
      ],
      "text/plain": [
       "   group_id  cosine_mean  cosine_max\n",
       "0         0     0.319787    0.562996"
      ]
     },
     "execution_count": 14,
     "metadata": {},
     "output_type": "execute_result"
    }
   ],
   "source": [
    "df_cosine_similarity.head(1)"
   ]
  },
  {
   "cell_type": "markdown",
   "metadata": {},
   "source": [
    "## Extreme Raiting Abuse (EXT)"
   ]
  },
  {
   "cell_type": "code",
   "execution_count": 15,
   "metadata": {},
   "outputs": [],
   "source": [
    "df_extreme_rating = load_dataset(r'D:\\Yelp\\extreme_rating_abuse.csv')"
   ]
  },
  {
   "cell_type": "code",
   "execution_count": 16,
   "metadata": {},
   "outputs": [
    {
     "data": {
      "text/html": [
       "<div>\n",
       "<style scoped>\n",
       "    .dataframe tbody tr th:only-of-type {\n",
       "        vertical-align: middle;\n",
       "    }\n",
       "\n",
       "    .dataframe tbody tr th {\n",
       "        vertical-align: top;\n",
       "    }\n",
       "\n",
       "    .dataframe thead th {\n",
       "        text-align: right;\n",
       "    }\n",
       "</style>\n",
       "<table border=\"1\" class=\"dataframe\">\n",
       "  <thead>\n",
       "    <tr style=\"text-align: right;\">\n",
       "      <th></th>\n",
       "      <th>user_id</th>\n",
       "      <th>ext</th>\n",
       "    </tr>\n",
       "  </thead>\n",
       "  <tbody>\n",
       "    <tr>\n",
       "      <th>0</th>\n",
       "      <td>--3WaS23LcIXtxyFULJHTA</td>\n",
       "      <td>0</td>\n",
       "    </tr>\n",
       "    <tr>\n",
       "      <th>1</th>\n",
       "      <td>--7D3lFxyMYvs2JYiRrg6Q</td>\n",
       "      <td>1</td>\n",
       "    </tr>\n",
       "    <tr>\n",
       "      <th>2</th>\n",
       "      <td>--JS-RvSykutl1DavCbkIg</td>\n",
       "      <td>1</td>\n",
       "    </tr>\n",
       "    <tr>\n",
       "      <th>3</th>\n",
       "      <td>--wiweOmNCw6vg2kbzbwEA</td>\n",
       "      <td>1</td>\n",
       "    </tr>\n",
       "    <tr>\n",
       "      <th>4</th>\n",
       "      <td>-0CTuvVqlEGeWvOt82B7Hg</td>\n",
       "      <td>0</td>\n",
       "    </tr>\n",
       "  </tbody>\n",
       "</table>\n",
       "</div>"
      ],
      "text/plain": [
       "                  user_id  ext\n",
       "0  --3WaS23LcIXtxyFULJHTA    0\n",
       "1  --7D3lFxyMYvs2JYiRrg6Q    1\n",
       "2  --JS-RvSykutl1DavCbkIg    1\n",
       "3  --wiweOmNCw6vg2kbzbwEA    1\n",
       "4  -0CTuvVqlEGeWvOt82B7Hg    0"
      ]
     },
     "execution_count": 16,
     "metadata": {},
     "output_type": "execute_result"
    }
   ],
   "source": [
    "df_extreme_rating.head()"
   ]
  },
  {
   "cell_type": "markdown",
   "metadata": {},
   "source": [
    "---"
   ]
  },
  {
   "cell_type": "markdown",
   "metadata": {},
   "source": [
    "# Merge for Group! Features"
   ]
  },
  {
   "cell_type": "code",
   "execution_count": 17,
   "metadata": {},
   "outputs": [],
   "source": [
    "df_g_features = df_charlotte_2016.merge(df_groups, on='user_id', how='inner')"
   ]
  },
  {
   "cell_type": "code",
   "execution_count": 18,
   "metadata": {},
   "outputs": [
    {
     "data": {
      "text/plain": [
       "(435220, 25)"
      ]
     },
     "execution_count": 18,
     "metadata": {},
     "output_type": "execute_result"
    }
   ],
   "source": [
    "df_g_features.shape"
   ]
  },
  {
   "cell_type": "code",
   "execution_count": 19,
   "metadata": {},
   "outputs": [],
   "source": [
    "df_g_features = df_g_features[df_g_features.group_type=='a']"
   ]
  },
  {
   "cell_type": "markdown",
   "metadata": {},
   "source": [
    "---"
   ]
  },
  {
   "cell_type": "code",
   "execution_count": 20,
   "metadata": {},
   "outputs": [],
   "source": [
    "df_g_features = df_g_features.merge(df_bst, on='user_id', how='inner') "
   ]
  },
  {
   "cell_type": "markdown",
   "metadata": {},
   "source": [
    "---"
   ]
  },
  {
   "cell_type": "code",
   "execution_count": 21,
   "metadata": {},
   "outputs": [],
   "source": [
    "df_g_features = df_g_features.merge(df_extreme_rating, on='user_id', how='inner') "
   ]
  },
  {
   "cell_type": "markdown",
   "metadata": {},
   "source": [
    "---"
   ]
  },
  {
   "cell_type": "markdown",
   "metadata": {},
   "source": [
    "## Reduce"
   ]
  },
  {
   "cell_type": "code",
   "execution_count": 22,
   "metadata": {},
   "outputs": [],
   "source": [
    "df_g_features_reduced = df_g_features[['group_id', 'group_len', 'group_type', 'bst', 'own_review_count', 'ext']]"
   ]
  },
  {
   "cell_type": "code",
   "execution_count": 23,
   "metadata": {},
   "outputs": [
    {
     "data": {
      "text/html": [
       "<div>\n",
       "<style scoped>\n",
       "    .dataframe tbody tr th:only-of-type {\n",
       "        vertical-align: middle;\n",
       "    }\n",
       "\n",
       "    .dataframe tbody tr th {\n",
       "        vertical-align: top;\n",
       "    }\n",
       "\n",
       "    .dataframe thead th {\n",
       "        text-align: right;\n",
       "    }\n",
       "</style>\n",
       "<table border=\"1\" class=\"dataframe\">\n",
       "  <thead>\n",
       "    <tr style=\"text-align: right;\">\n",
       "      <th></th>\n",
       "      <th>group_id</th>\n",
       "      <th>group_len</th>\n",
       "      <th>group_type</th>\n",
       "      <th>bst</th>\n",
       "      <th>own_review_count</th>\n",
       "      <th>ext</th>\n",
       "    </tr>\n",
       "  </thead>\n",
       "  <tbody>\n",
       "    <tr>\n",
       "      <th>0</th>\n",
       "      <td>9059</td>\n",
       "      <td>26</td>\n",
       "      <td>a</td>\n",
       "      <td>0.0</td>\n",
       "      <td>35</td>\n",
       "      <td>0</td>\n",
       "    </tr>\n",
       "    <tr>\n",
       "      <th>1</th>\n",
       "      <td>9060</td>\n",
       "      <td>23</td>\n",
       "      <td>a</td>\n",
       "      <td>0.0</td>\n",
       "      <td>35</td>\n",
       "      <td>0</td>\n",
       "    </tr>\n",
       "    <tr>\n",
       "      <th>2</th>\n",
       "      <td>9061</td>\n",
       "      <td>28</td>\n",
       "      <td>a</td>\n",
       "      <td>0.0</td>\n",
       "      <td>35</td>\n",
       "      <td>0</td>\n",
       "    </tr>\n",
       "    <tr>\n",
       "      <th>3</th>\n",
       "      <td>9062</td>\n",
       "      <td>29</td>\n",
       "      <td>a</td>\n",
       "      <td>0.0</td>\n",
       "      <td>35</td>\n",
       "      <td>0</td>\n",
       "    </tr>\n",
       "    <tr>\n",
       "      <th>4</th>\n",
       "      <td>9063</td>\n",
       "      <td>21</td>\n",
       "      <td>a</td>\n",
       "      <td>0.0</td>\n",
       "      <td>35</td>\n",
       "      <td>0</td>\n",
       "    </tr>\n",
       "  </tbody>\n",
       "</table>\n",
       "</div>"
      ],
      "text/plain": [
       "   group_id  group_len group_type  bst  own_review_count  ext\n",
       "0      9059         26          a  0.0                35    0\n",
       "1      9060         23          a  0.0                35    0\n",
       "2      9061         28          a  0.0                35    0\n",
       "3      9062         29          a  0.0                35    0\n",
       "4      9063         21          a  0.0                35    0"
      ]
     },
     "execution_count": 23,
     "metadata": {},
     "output_type": "execute_result"
    }
   ],
   "source": [
    "df_g_features_reduced.head()"
   ]
  },
  {
   "cell_type": "markdown",
   "metadata": {},
   "source": [
    "---"
   ]
  },
  {
   "cell_type": "markdown",
   "metadata": {},
   "source": [
    "## Build Group Features"
   ]
  },
  {
   "cell_type": "code",
   "execution_count": 24,
   "metadata": {},
   "outputs": [],
   "source": [
    "bst_mean = df_g_features_reduced.groupby('group_id').bst.mean().to_frame(name='bst_mean')"
   ]
  },
  {
   "cell_type": "code",
   "execution_count": 25,
   "metadata": {},
   "outputs": [],
   "source": [
    "ext_mean = df_g_features_reduced.groupby('group_id').ext.mean().to_frame(name='ext_mean')"
   ]
  },
  {
   "cell_type": "code",
   "execution_count": 26,
   "metadata": {},
   "outputs": [],
   "source": [
    "group_review_count_sum = df_g_features_reduced.groupby('group_id').own_review_count.sum().to_frame(name='group_review_count_sum')"
   ]
  },
  {
   "cell_type": "code",
   "execution_count": 27,
   "metadata": {},
   "outputs": [],
   "source": [
    "group_review_count_mean = df_g_features_reduced.groupby('group_id').own_review_count.mean().to_frame(name='group_review_count_mean')"
   ]
  },
  {
   "cell_type": "markdown",
   "metadata": {},
   "source": [
    "---"
   ]
  },
  {
   "cell_type": "markdown",
   "metadata": {},
   "source": [
    "## Merge Group Features"
   ]
  },
  {
   "cell_type": "code",
   "execution_count": 28,
   "metadata": {},
   "outputs": [],
   "source": [
    "df_group_features = df_g_features_reduced.merge(ext_mean, on='group_id')"
   ]
  },
  {
   "cell_type": "code",
   "execution_count": 29,
   "metadata": {},
   "outputs": [],
   "source": [
    "df_group_features = df_group_features.merge(group_review_count_sum, on='group_id')"
   ]
  },
  {
   "cell_type": "code",
   "execution_count": 30,
   "metadata": {},
   "outputs": [],
   "source": [
    "df_group_features = df_group_features.merge(group_review_count_mean, on='group_id')"
   ]
  },
  {
   "cell_type": "code",
   "execution_count": 31,
   "metadata": {},
   "outputs": [],
   "source": [
    "df_group_features = df_group_features.merge(df_cosine_similarity, on='group_id')"
   ]
  },
  {
   "cell_type": "code",
   "execution_count": 32,
   "metadata": {},
   "outputs": [],
   "source": [
    "df_group_features = df_group_features.merge(bst_mean, on='group_id')"
   ]
  },
  {
   "cell_type": "code",
   "execution_count": 33,
   "metadata": {},
   "outputs": [
    {
     "data": {
      "text/html": [
       "<div>\n",
       "<style scoped>\n",
       "    .dataframe tbody tr th:only-of-type {\n",
       "        vertical-align: middle;\n",
       "    }\n",
       "\n",
       "    .dataframe tbody tr th {\n",
       "        vertical-align: top;\n",
       "    }\n",
       "\n",
       "    .dataframe thead th {\n",
       "        text-align: right;\n",
       "    }\n",
       "</style>\n",
       "<table border=\"1\" class=\"dataframe\">\n",
       "  <thead>\n",
       "    <tr style=\"text-align: right;\">\n",
       "      <th></th>\n",
       "      <th>group_id</th>\n",
       "      <th>group_len</th>\n",
       "      <th>group_type</th>\n",
       "      <th>bst</th>\n",
       "      <th>own_review_count</th>\n",
       "      <th>ext</th>\n",
       "      <th>ext_mean</th>\n",
       "      <th>group_review_count_sum</th>\n",
       "      <th>group_review_count_mean</th>\n",
       "      <th>cosine_mean</th>\n",
       "      <th>cosine_max</th>\n",
       "      <th>bst_mean</th>\n",
       "    </tr>\n",
       "  </thead>\n",
       "  <tbody>\n",
       "    <tr>\n",
       "      <th>0</th>\n",
       "      <td>9059</td>\n",
       "      <td>26</td>\n",
       "      <td>a</td>\n",
       "      <td>0.0</td>\n",
       "      <td>35</td>\n",
       "      <td>0</td>\n",
       "      <td>0.144737</td>\n",
       "      <td>1470</td>\n",
       "      <td>19.342105</td>\n",
       "      <td>0.232744</td>\n",
       "      <td>0.630271</td>\n",
       "      <td>0.050752</td>\n",
       "    </tr>\n",
       "    <tr>\n",
       "      <th>1</th>\n",
       "      <td>9059</td>\n",
       "      <td>26</td>\n",
       "      <td>a</td>\n",
       "      <td>0.0</td>\n",
       "      <td>35</td>\n",
       "      <td>0</td>\n",
       "      <td>0.144737</td>\n",
       "      <td>1470</td>\n",
       "      <td>19.342105</td>\n",
       "      <td>0.232744</td>\n",
       "      <td>0.630271</td>\n",
       "      <td>0.050752</td>\n",
       "    </tr>\n",
       "    <tr>\n",
       "      <th>2</th>\n",
       "      <td>9059</td>\n",
       "      <td>26</td>\n",
       "      <td>a</td>\n",
       "      <td>0.0</td>\n",
       "      <td>35</td>\n",
       "      <td>0</td>\n",
       "      <td>0.144737</td>\n",
       "      <td>1470</td>\n",
       "      <td>19.342105</td>\n",
       "      <td>0.232744</td>\n",
       "      <td>0.630271</td>\n",
       "      <td>0.050752</td>\n",
       "    </tr>\n",
       "    <tr>\n",
       "      <th>3</th>\n",
       "      <td>9059</td>\n",
       "      <td>26</td>\n",
       "      <td>a</td>\n",
       "      <td>0.0</td>\n",
       "      <td>35</td>\n",
       "      <td>0</td>\n",
       "      <td>0.144737</td>\n",
       "      <td>1470</td>\n",
       "      <td>19.342105</td>\n",
       "      <td>0.232744</td>\n",
       "      <td>0.630271</td>\n",
       "      <td>0.050752</td>\n",
       "    </tr>\n",
       "    <tr>\n",
       "      <th>4</th>\n",
       "      <td>9059</td>\n",
       "      <td>26</td>\n",
       "      <td>a</td>\n",
       "      <td>0.0</td>\n",
       "      <td>35</td>\n",
       "      <td>0</td>\n",
       "      <td>0.144737</td>\n",
       "      <td>1470</td>\n",
       "      <td>19.342105</td>\n",
       "      <td>0.232744</td>\n",
       "      <td>0.630271</td>\n",
       "      <td>0.050752</td>\n",
       "    </tr>\n",
       "  </tbody>\n",
       "</table>\n",
       "</div>"
      ],
      "text/plain": [
       "   group_id  group_len group_type  bst  own_review_count  ext  ext_mean  \\\n",
       "0      9059         26          a  0.0                35    0  0.144737   \n",
       "1      9059         26          a  0.0                35    0  0.144737   \n",
       "2      9059         26          a  0.0                35    0  0.144737   \n",
       "3      9059         26          a  0.0                35    0  0.144737   \n",
       "4      9059         26          a  0.0                35    0  0.144737   \n",
       "\n",
       "   group_review_count_sum  group_review_count_mean  cosine_mean  cosine_max  \\\n",
       "0                    1470                19.342105     0.232744    0.630271   \n",
       "1                    1470                19.342105     0.232744    0.630271   \n",
       "2                    1470                19.342105     0.232744    0.630271   \n",
       "3                    1470                19.342105     0.232744    0.630271   \n",
       "4                    1470                19.342105     0.232744    0.630271   \n",
       "\n",
       "   bst_mean  \n",
       "0  0.050752  \n",
       "1  0.050752  \n",
       "2  0.050752  \n",
       "3  0.050752  \n",
       "4  0.050752  "
      ]
     },
     "execution_count": 33,
     "metadata": {},
     "output_type": "execute_result"
    }
   ],
   "source": [
    "df_group_features.head()"
   ]
  },
  {
   "cell_type": "code",
   "execution_count": 34,
   "metadata": {},
   "outputs": [
    {
     "data": {
      "text/plain": [
       "(189947, 12)"
      ]
     },
     "execution_count": 34,
     "metadata": {},
     "output_type": "execute_result"
    }
   ],
   "source": [
    "df_group_features.shape"
   ]
  },
  {
   "cell_type": "markdown",
   "metadata": {},
   "source": [
    "---"
   ]
  },
  {
   "cell_type": "markdown",
   "metadata": {},
   "source": [
    "## normalize"
   ]
  },
  {
   "cell_type": "code",
   "execution_count": 35,
   "metadata": {},
   "outputs": [],
   "source": [
    "df_group_features['group_review_count_sum_normal'] = df_group_features['group_review_count_sum']/df_group_features['group_review_count_sum'].max()"
   ]
  },
  {
   "cell_type": "code",
   "execution_count": 36,
   "metadata": {},
   "outputs": [],
   "source": [
    "df_group_features['group_review_count_mean_normal'] = df_group_features['group_review_count_mean']/df_group_features['group_review_count_mean'].max()"
   ]
  },
  {
   "cell_type": "code",
   "execution_count": 37,
   "metadata": {},
   "outputs": [
    {
     "data": {
      "text/html": [
       "<div>\n",
       "<style scoped>\n",
       "    .dataframe tbody tr th:only-of-type {\n",
       "        vertical-align: middle;\n",
       "    }\n",
       "\n",
       "    .dataframe tbody tr th {\n",
       "        vertical-align: top;\n",
       "    }\n",
       "\n",
       "    .dataframe thead th {\n",
       "        text-align: right;\n",
       "    }\n",
       "</style>\n",
       "<table border=\"1\" class=\"dataframe\">\n",
       "  <thead>\n",
       "    <tr style=\"text-align: right;\">\n",
       "      <th></th>\n",
       "      <th>group_id</th>\n",
       "      <th>group_len</th>\n",
       "      <th>group_type</th>\n",
       "      <th>bst</th>\n",
       "      <th>own_review_count</th>\n",
       "      <th>ext</th>\n",
       "      <th>ext_mean</th>\n",
       "      <th>group_review_count_sum</th>\n",
       "      <th>group_review_count_mean</th>\n",
       "      <th>cosine_mean</th>\n",
       "      <th>cosine_max</th>\n",
       "      <th>bst_mean</th>\n",
       "      <th>group_review_count_sum_normal</th>\n",
       "      <th>group_review_count_mean_normal</th>\n",
       "    </tr>\n",
       "  </thead>\n",
       "  <tbody>\n",
       "    <tr>\n",
       "      <th>0</th>\n",
       "      <td>9059</td>\n",
       "      <td>26</td>\n",
       "      <td>a</td>\n",
       "      <td>0.0</td>\n",
       "      <td>35</td>\n",
       "      <td>0</td>\n",
       "      <td>0.144737</td>\n",
       "      <td>1470</td>\n",
       "      <td>19.342105</td>\n",
       "      <td>0.232744</td>\n",
       "      <td>0.630271</td>\n",
       "      <td>0.050752</td>\n",
       "      <td>0.016307</td>\n",
       "      <td>0.097168</td>\n",
       "    </tr>\n",
       "    <tr>\n",
       "      <th>1</th>\n",
       "      <td>9059</td>\n",
       "      <td>26</td>\n",
       "      <td>a</td>\n",
       "      <td>0.0</td>\n",
       "      <td>35</td>\n",
       "      <td>0</td>\n",
       "      <td>0.144737</td>\n",
       "      <td>1470</td>\n",
       "      <td>19.342105</td>\n",
       "      <td>0.232744</td>\n",
       "      <td>0.630271</td>\n",
       "      <td>0.050752</td>\n",
       "      <td>0.016307</td>\n",
       "      <td>0.097168</td>\n",
       "    </tr>\n",
       "    <tr>\n",
       "      <th>2</th>\n",
       "      <td>9059</td>\n",
       "      <td>26</td>\n",
       "      <td>a</td>\n",
       "      <td>0.0</td>\n",
       "      <td>35</td>\n",
       "      <td>0</td>\n",
       "      <td>0.144737</td>\n",
       "      <td>1470</td>\n",
       "      <td>19.342105</td>\n",
       "      <td>0.232744</td>\n",
       "      <td>0.630271</td>\n",
       "      <td>0.050752</td>\n",
       "      <td>0.016307</td>\n",
       "      <td>0.097168</td>\n",
       "    </tr>\n",
       "    <tr>\n",
       "      <th>3</th>\n",
       "      <td>9059</td>\n",
       "      <td>26</td>\n",
       "      <td>a</td>\n",
       "      <td>0.0</td>\n",
       "      <td>35</td>\n",
       "      <td>0</td>\n",
       "      <td>0.144737</td>\n",
       "      <td>1470</td>\n",
       "      <td>19.342105</td>\n",
       "      <td>0.232744</td>\n",
       "      <td>0.630271</td>\n",
       "      <td>0.050752</td>\n",
       "      <td>0.016307</td>\n",
       "      <td>0.097168</td>\n",
       "    </tr>\n",
       "    <tr>\n",
       "      <th>4</th>\n",
       "      <td>9059</td>\n",
       "      <td>26</td>\n",
       "      <td>a</td>\n",
       "      <td>0.0</td>\n",
       "      <td>35</td>\n",
       "      <td>0</td>\n",
       "      <td>0.144737</td>\n",
       "      <td>1470</td>\n",
       "      <td>19.342105</td>\n",
       "      <td>0.232744</td>\n",
       "      <td>0.630271</td>\n",
       "      <td>0.050752</td>\n",
       "      <td>0.016307</td>\n",
       "      <td>0.097168</td>\n",
       "    </tr>\n",
       "  </tbody>\n",
       "</table>\n",
       "</div>"
      ],
      "text/plain": [
       "   group_id  group_len group_type  bst  own_review_count  ext  ext_mean  \\\n",
       "0      9059         26          a  0.0                35    0  0.144737   \n",
       "1      9059         26          a  0.0                35    0  0.144737   \n",
       "2      9059         26          a  0.0                35    0  0.144737   \n",
       "3      9059         26          a  0.0                35    0  0.144737   \n",
       "4      9059         26          a  0.0                35    0  0.144737   \n",
       "\n",
       "   group_review_count_sum  group_review_count_mean  cosine_mean  cosine_max  \\\n",
       "0                    1470                19.342105     0.232744    0.630271   \n",
       "1                    1470                19.342105     0.232744    0.630271   \n",
       "2                    1470                19.342105     0.232744    0.630271   \n",
       "3                    1470                19.342105     0.232744    0.630271   \n",
       "4                    1470                19.342105     0.232744    0.630271   \n",
       "\n",
       "   bst_mean  group_review_count_sum_normal  group_review_count_mean_normal  \n",
       "0  0.050752                       0.016307                        0.097168  \n",
       "1  0.050752                       0.016307                        0.097168  \n",
       "2  0.050752                       0.016307                        0.097168  \n",
       "3  0.050752                       0.016307                        0.097168  \n",
       "4  0.050752                       0.016307                        0.097168  "
      ]
     },
     "execution_count": 37,
     "metadata": {},
     "output_type": "execute_result"
    }
   ],
   "source": [
    "df_group_features.head()"
   ]
  },
  {
   "cell_type": "code",
   "execution_count": 38,
   "metadata": {},
   "outputs": [],
   "source": [
    "df_group_features.index = df_group_features.index.map(str)"
   ]
  },
  {
   "cell_type": "markdown",
   "metadata": {},
   "source": [
    "## Add suspicious score"
   ]
  },
  {
   "cell_type": "code",
   "execution_count": 39,
   "metadata": {},
   "outputs": [
    {
     "data": {
      "text/plain": [
       "Index(['group_id', 'group_len', 'group_type', 'bst', 'own_review_count', 'ext',\n",
       "       'ext_mean', 'group_review_count_sum', 'group_review_count_mean',\n",
       "       'cosine_mean', 'cosine_max', 'bst_mean',\n",
       "       'group_review_count_sum_normal', 'group_review_count_mean_normal'],\n",
       "      dtype='object')"
      ]
     },
     "execution_count": 39,
     "metadata": {},
     "output_type": "execute_result"
    }
   ],
   "source": [
    "df_group_features.columns"
   ]
  },
  {
   "cell_type": "code",
   "execution_count": 40,
   "metadata": {},
   "outputs": [],
   "source": [
    "df_group_features['suspicious_score'] =  (df_group_features['bst_mean'] \n",
    "                                            + df_group_features['ext_mean'] \n",
    "                                            + df_group_features['cosine_mean'] \n",
    "                                            + df_group_features['group_review_count_mean_normal'])/4"
   ]
  },
  {
   "cell_type": "code",
   "execution_count": 41,
   "metadata": {},
   "outputs": [],
   "source": [
    "df_group_features = df_group_features.sort_values(by='suspicious_score', ascending=False)"
   ]
  },
  {
   "cell_type": "markdown",
   "metadata": {},
   "source": [
    "## remove dublicates"
   ]
  },
  {
   "cell_type": "code",
   "execution_count": 42,
   "metadata": {},
   "outputs": [
    {
     "data": {
      "text/plain": [
       "(189947, 15)"
      ]
     },
     "execution_count": 42,
     "metadata": {},
     "output_type": "execute_result"
    }
   ],
   "source": [
    "df_group_features.shape"
   ]
  },
  {
   "cell_type": "code",
   "execution_count": 43,
   "metadata": {},
   "outputs": [],
   "source": [
    "df_group_features = df_group_features.drop_duplicates(subset='group_id')"
   ]
  },
  {
   "cell_type": "code",
   "execution_count": 44,
   "metadata": {},
   "outputs": [
    {
     "data": {
      "text/plain": [
       "(1785, 15)"
      ]
     },
     "execution_count": 44,
     "metadata": {},
     "output_type": "execute_result"
    }
   ],
   "source": [
    "df_group_features.shape"
   ]
  },
  {
   "cell_type": "code",
   "execution_count": 45,
   "metadata": {},
   "outputs": [
    {
     "data": {
      "text/html": [
       "<div>\n",
       "<style scoped>\n",
       "    .dataframe tbody tr th:only-of-type {\n",
       "        vertical-align: middle;\n",
       "    }\n",
       "\n",
       "    .dataframe tbody tr th {\n",
       "        vertical-align: top;\n",
       "    }\n",
       "\n",
       "    .dataframe thead th {\n",
       "        text-align: right;\n",
       "    }\n",
       "</style>\n",
       "<table border=\"1\" class=\"dataframe\">\n",
       "  <thead>\n",
       "    <tr style=\"text-align: right;\">\n",
       "      <th></th>\n",
       "      <th>group_id</th>\n",
       "      <th>group_len</th>\n",
       "      <th>group_type</th>\n",
       "      <th>bst</th>\n",
       "      <th>own_review_count</th>\n",
       "      <th>ext</th>\n",
       "      <th>ext_mean</th>\n",
       "      <th>group_review_count_sum</th>\n",
       "      <th>group_review_count_mean</th>\n",
       "      <th>cosine_mean</th>\n",
       "      <th>cosine_max</th>\n",
       "      <th>bst_mean</th>\n",
       "      <th>group_review_count_sum_normal</th>\n",
       "      <th>group_review_count_mean_normal</th>\n",
       "      <th>suspicious_score</th>\n",
       "    </tr>\n",
       "  </thead>\n",
       "  <tbody>\n",
       "    <tr>\n",
       "      <th>189640</th>\n",
       "      <td>9869</td>\n",
       "      <td>6</td>\n",
       "      <td>a</td>\n",
       "      <td>0.000000</td>\n",
       "      <td>1</td>\n",
       "      <td>1</td>\n",
       "      <td>1.000000</td>\n",
       "      <td>10</td>\n",
       "      <td>1.666667</td>\n",
       "      <td>0.379150</td>\n",
       "      <td>0.662641</td>\n",
       "      <td>0.642857</td>\n",
       "      <td>0.000111</td>\n",
       "      <td>0.008373</td>\n",
       "      <td>0.507595</td>\n",
       "    </tr>\n",
       "    <tr>\n",
       "      <th>185753</th>\n",
       "      <td>8604</td>\n",
       "      <td>7</td>\n",
       "      <td>a</td>\n",
       "      <td>0.964286</td>\n",
       "      <td>3</td>\n",
       "      <td>1</td>\n",
       "      <td>1.000000</td>\n",
       "      <td>51</td>\n",
       "      <td>3.923077</td>\n",
       "      <td>0.162961</td>\n",
       "      <td>0.510662</td>\n",
       "      <td>0.815934</td>\n",
       "      <td>0.000566</td>\n",
       "      <td>0.019708</td>\n",
       "      <td>0.499651</td>\n",
       "    </tr>\n",
       "    <tr>\n",
       "      <th>189901</th>\n",
       "      <td>10287</td>\n",
       "      <td>6</td>\n",
       "      <td>a</td>\n",
       "      <td>0.000000</td>\n",
       "      <td>1</td>\n",
       "      <td>1</td>\n",
       "      <td>1.000000</td>\n",
       "      <td>7</td>\n",
       "      <td>1.400000</td>\n",
       "      <td>0.503327</td>\n",
       "      <td>1.000000</td>\n",
       "      <td>0.385714</td>\n",
       "      <td>0.000078</td>\n",
       "      <td>0.007033</td>\n",
       "      <td>0.474019</td>\n",
       "    </tr>\n",
       "    <tr>\n",
       "      <th>185785</th>\n",
       "      <td>9724</td>\n",
       "      <td>6</td>\n",
       "      <td>a</td>\n",
       "      <td>0.000000</td>\n",
       "      <td>1</td>\n",
       "      <td>1</td>\n",
       "      <td>0.833333</td>\n",
       "      <td>50</td>\n",
       "      <td>4.166667</td>\n",
       "      <td>0.152916</td>\n",
       "      <td>0.365636</td>\n",
       "      <td>0.883929</td>\n",
       "      <td>0.000555</td>\n",
       "      <td>0.020932</td>\n",
       "      <td>0.472777</td>\n",
       "    </tr>\n",
       "    <tr>\n",
       "      <th>189881</th>\n",
       "      <td>9659</td>\n",
       "      <td>7</td>\n",
       "      <td>a</td>\n",
       "      <td>0.964286</td>\n",
       "      <td>2</td>\n",
       "      <td>1</td>\n",
       "      <td>1.000000</td>\n",
       "      <td>8</td>\n",
       "      <td>1.333333</td>\n",
       "      <td>0.561281</td>\n",
       "      <td>0.708808</td>\n",
       "      <td>0.321429</td>\n",
       "      <td>0.000089</td>\n",
       "      <td>0.006698</td>\n",
       "      <td>0.472352</td>\n",
       "    </tr>\n",
       "  </tbody>\n",
       "</table>\n",
       "</div>"
      ],
      "text/plain": [
       "        group_id  group_len group_type       bst  own_review_count  ext  \\\n",
       "189640      9869          6          a  0.000000                 1    1   \n",
       "185753      8604          7          a  0.964286                 3    1   \n",
       "189901     10287          6          a  0.000000                 1    1   \n",
       "185785      9724          6          a  0.000000                 1    1   \n",
       "189881      9659          7          a  0.964286                 2    1   \n",
       "\n",
       "        ext_mean  group_review_count_sum  group_review_count_mean  \\\n",
       "189640  1.000000                      10                 1.666667   \n",
       "185753  1.000000                      51                 3.923077   \n",
       "189901  1.000000                       7                 1.400000   \n",
       "185785  0.833333                      50                 4.166667   \n",
       "189881  1.000000                       8                 1.333333   \n",
       "\n",
       "        cosine_mean  cosine_max  bst_mean  group_review_count_sum_normal  \\\n",
       "189640     0.379150    0.662641  0.642857                       0.000111   \n",
       "185753     0.162961    0.510662  0.815934                       0.000566   \n",
       "189901     0.503327    1.000000  0.385714                       0.000078   \n",
       "185785     0.152916    0.365636  0.883929                       0.000555   \n",
       "189881     0.561281    0.708808  0.321429                       0.000089   \n",
       "\n",
       "        group_review_count_mean_normal  suspicious_score  \n",
       "189640                        0.008373          0.507595  \n",
       "185753                        0.019708          0.499651  \n",
       "189901                        0.007033          0.474019  \n",
       "185785                        0.020932          0.472777  \n",
       "189881                        0.006698          0.472352  "
      ]
     },
     "execution_count": 45,
     "metadata": {},
     "output_type": "execute_result"
    }
   ],
   "source": [
    "df_group_features.head()"
   ]
  },
  {
   "cell_type": "code",
   "execution_count": 46,
   "metadata": {},
   "outputs": [
    {
     "data": {
      "text/html": [
       "<div>\n",
       "<style scoped>\n",
       "    .dataframe tbody tr th:only-of-type {\n",
       "        vertical-align: middle;\n",
       "    }\n",
       "\n",
       "    .dataframe tbody tr th {\n",
       "        vertical-align: top;\n",
       "    }\n",
       "\n",
       "    .dataframe thead th {\n",
       "        text-align: right;\n",
       "    }\n",
       "</style>\n",
       "<table border=\"1\" class=\"dataframe\">\n",
       "  <thead>\n",
       "    <tr style=\"text-align: right;\">\n",
       "      <th></th>\n",
       "      <th>group_id</th>\n",
       "      <th>group_len</th>\n",
       "      <th>group_type</th>\n",
       "      <th>bst</th>\n",
       "      <th>own_review_count</th>\n",
       "      <th>ext</th>\n",
       "      <th>ext_mean</th>\n",
       "      <th>group_review_count_sum</th>\n",
       "      <th>group_review_count_mean</th>\n",
       "      <th>cosine_mean</th>\n",
       "      <th>cosine_max</th>\n",
       "      <th>bst_mean</th>\n",
       "      <th>group_review_count_sum_normal</th>\n",
       "      <th>group_review_count_mean_normal</th>\n",
       "      <th>suspicious_score</th>\n",
       "    </tr>\n",
       "  </thead>\n",
       "  <tbody>\n",
       "    <tr>\n",
       "      <th>189640</th>\n",
       "      <td>9869</td>\n",
       "      <td>6</td>\n",
       "      <td>a</td>\n",
       "      <td>0.000000</td>\n",
       "      <td>1</td>\n",
       "      <td>1</td>\n",
       "      <td>1.000000</td>\n",
       "      <td>10</td>\n",
       "      <td>1.666667</td>\n",
       "      <td>0.379150</td>\n",
       "      <td>0.662641</td>\n",
       "      <td>0.642857</td>\n",
       "      <td>0.000111</td>\n",
       "      <td>0.008373</td>\n",
       "      <td>0.507595</td>\n",
       "    </tr>\n",
       "    <tr>\n",
       "      <th>185753</th>\n",
       "      <td>8604</td>\n",
       "      <td>7</td>\n",
       "      <td>a</td>\n",
       "      <td>0.964286</td>\n",
       "      <td>3</td>\n",
       "      <td>1</td>\n",
       "      <td>1.000000</td>\n",
       "      <td>51</td>\n",
       "      <td>3.923077</td>\n",
       "      <td>0.162961</td>\n",
       "      <td>0.510662</td>\n",
       "      <td>0.815934</td>\n",
       "      <td>0.000566</td>\n",
       "      <td>0.019708</td>\n",
       "      <td>0.499651</td>\n",
       "    </tr>\n",
       "    <tr>\n",
       "      <th>189901</th>\n",
       "      <td>10287</td>\n",
       "      <td>6</td>\n",
       "      <td>a</td>\n",
       "      <td>0.000000</td>\n",
       "      <td>1</td>\n",
       "      <td>1</td>\n",
       "      <td>1.000000</td>\n",
       "      <td>7</td>\n",
       "      <td>1.400000</td>\n",
       "      <td>0.503327</td>\n",
       "      <td>1.000000</td>\n",
       "      <td>0.385714</td>\n",
       "      <td>0.000078</td>\n",
       "      <td>0.007033</td>\n",
       "      <td>0.474019</td>\n",
       "    </tr>\n",
       "    <tr>\n",
       "      <th>185785</th>\n",
       "      <td>9724</td>\n",
       "      <td>6</td>\n",
       "      <td>a</td>\n",
       "      <td>0.000000</td>\n",
       "      <td>1</td>\n",
       "      <td>1</td>\n",
       "      <td>0.833333</td>\n",
       "      <td>50</td>\n",
       "      <td>4.166667</td>\n",
       "      <td>0.152916</td>\n",
       "      <td>0.365636</td>\n",
       "      <td>0.883929</td>\n",
       "      <td>0.000555</td>\n",
       "      <td>0.020932</td>\n",
       "      <td>0.472777</td>\n",
       "    </tr>\n",
       "    <tr>\n",
       "      <th>189881</th>\n",
       "      <td>9659</td>\n",
       "      <td>7</td>\n",
       "      <td>a</td>\n",
       "      <td>0.964286</td>\n",
       "      <td>2</td>\n",
       "      <td>1</td>\n",
       "      <td>1.000000</td>\n",
       "      <td>8</td>\n",
       "      <td>1.333333</td>\n",
       "      <td>0.561281</td>\n",
       "      <td>0.708808</td>\n",
       "      <td>0.321429</td>\n",
       "      <td>0.000089</td>\n",
       "      <td>0.006698</td>\n",
       "      <td>0.472352</td>\n",
       "    </tr>\n",
       "    <tr>\n",
       "      <th>...</th>\n",
       "      <td>...</td>\n",
       "      <td>...</td>\n",
       "      <td>...</td>\n",
       "      <td>...</td>\n",
       "      <td>...</td>\n",
       "      <td>...</td>\n",
       "      <td>...</td>\n",
       "      <td>...</td>\n",
       "      <td>...</td>\n",
       "      <td>...</td>\n",
       "      <td>...</td>\n",
       "      <td>...</td>\n",
       "      <td>...</td>\n",
       "      <td>...</td>\n",
       "      <td>...</td>\n",
       "    </tr>\n",
       "    <tr>\n",
       "      <th>104973</th>\n",
       "      <td>9249</td>\n",
       "      <td>6</td>\n",
       "      <td>a</td>\n",
       "      <td>0.000000</td>\n",
       "      <td>32</td>\n",
       "      <td>0</td>\n",
       "      <td>0.018182</td>\n",
       "      <td>1339</td>\n",
       "      <td>24.345455</td>\n",
       "      <td>0.176249</td>\n",
       "      <td>0.561435</td>\n",
       "      <td>0.000000</td>\n",
       "      <td>0.014854</td>\n",
       "      <td>0.122303</td>\n",
       "      <td>0.079183</td>\n",
       "    </tr>\n",
       "    <tr>\n",
       "      <th>105149</th>\n",
       "      <td>9252</td>\n",
       "      <td>6</td>\n",
       "      <td>a</td>\n",
       "      <td>0.000000</td>\n",
       "      <td>17</td>\n",
       "      <td>0</td>\n",
       "      <td>0.018182</td>\n",
       "      <td>1339</td>\n",
       "      <td>24.345455</td>\n",
       "      <td>0.173582</td>\n",
       "      <td>0.561435</td>\n",
       "      <td>0.000000</td>\n",
       "      <td>0.014854</td>\n",
       "      <td>0.122303</td>\n",
       "      <td>0.078517</td>\n",
       "    </tr>\n",
       "    <tr>\n",
       "      <th>189722</th>\n",
       "      <td>8612</td>\n",
       "      <td>7</td>\n",
       "      <td>a</td>\n",
       "      <td>0.000000</td>\n",
       "      <td>2</td>\n",
       "      <td>0</td>\n",
       "      <td>0.000000</td>\n",
       "      <td>8</td>\n",
       "      <td>1.333333</td>\n",
       "      <td>0.307007</td>\n",
       "      <td>0.463195</td>\n",
       "      <td>0.000000</td>\n",
       "      <td>0.000089</td>\n",
       "      <td>0.006698</td>\n",
       "      <td>0.078426</td>\n",
       "    </tr>\n",
       "    <tr>\n",
       "      <th>187500</th>\n",
       "      <td>8943</td>\n",
       "      <td>7</td>\n",
       "      <td>a</td>\n",
       "      <td>0.000000</td>\n",
       "      <td>5</td>\n",
       "      <td>0</td>\n",
       "      <td>0.086957</td>\n",
       "      <td>227</td>\n",
       "      <td>9.869565</td>\n",
       "      <td>0.161501</td>\n",
       "      <td>0.460995</td>\n",
       "      <td>0.000000</td>\n",
       "      <td>0.002518</td>\n",
       "      <td>0.049581</td>\n",
       "      <td>0.074510</td>\n",
       "    </tr>\n",
       "    <tr>\n",
       "      <th>189939</th>\n",
       "      <td>10152</td>\n",
       "      <td>6</td>\n",
       "      <td>a</td>\n",
       "      <td>0.000000</td>\n",
       "      <td>1</td>\n",
       "      <td>0</td>\n",
       "      <td>0.000000</td>\n",
       "      <td>4</td>\n",
       "      <td>1.000000</td>\n",
       "      <td>0.208950</td>\n",
       "      <td>0.295753</td>\n",
       "      <td>0.000000</td>\n",
       "      <td>0.000044</td>\n",
       "      <td>0.005024</td>\n",
       "      <td>0.053493</td>\n",
       "    </tr>\n",
       "  </tbody>\n",
       "</table>\n",
       "<p>1785 rows × 15 columns</p>\n",
       "</div>"
      ],
      "text/plain": [
       "        group_id  group_len group_type       bst  own_review_count  ext  \\\n",
       "189640      9869          6          a  0.000000                 1    1   \n",
       "185753      8604          7          a  0.964286                 3    1   \n",
       "189901     10287          6          a  0.000000                 1    1   \n",
       "185785      9724          6          a  0.000000                 1    1   \n",
       "189881      9659          7          a  0.964286                 2    1   \n",
       "...          ...        ...        ...       ...               ...  ...   \n",
       "104973      9249          6          a  0.000000                32    0   \n",
       "105149      9252          6          a  0.000000                17    0   \n",
       "189722      8612          7          a  0.000000                 2    0   \n",
       "187500      8943          7          a  0.000000                 5    0   \n",
       "189939     10152          6          a  0.000000                 1    0   \n",
       "\n",
       "        ext_mean  group_review_count_sum  group_review_count_mean  \\\n",
       "189640  1.000000                      10                 1.666667   \n",
       "185753  1.000000                      51                 3.923077   \n",
       "189901  1.000000                       7                 1.400000   \n",
       "185785  0.833333                      50                 4.166667   \n",
       "189881  1.000000                       8                 1.333333   \n",
       "...          ...                     ...                      ...   \n",
       "104973  0.018182                    1339                24.345455   \n",
       "105149  0.018182                    1339                24.345455   \n",
       "189722  0.000000                       8                 1.333333   \n",
       "187500  0.086957                     227                 9.869565   \n",
       "189939  0.000000                       4                 1.000000   \n",
       "\n",
       "        cosine_mean  cosine_max  bst_mean  group_review_count_sum_normal  \\\n",
       "189640     0.379150    0.662641  0.642857                       0.000111   \n",
       "185753     0.162961    0.510662  0.815934                       0.000566   \n",
       "189901     0.503327    1.000000  0.385714                       0.000078   \n",
       "185785     0.152916    0.365636  0.883929                       0.000555   \n",
       "189881     0.561281    0.708808  0.321429                       0.000089   \n",
       "...             ...         ...       ...                            ...   \n",
       "104973     0.176249    0.561435  0.000000                       0.014854   \n",
       "105149     0.173582    0.561435  0.000000                       0.014854   \n",
       "189722     0.307007    0.463195  0.000000                       0.000089   \n",
       "187500     0.161501    0.460995  0.000000                       0.002518   \n",
       "189939     0.208950    0.295753  0.000000                       0.000044   \n",
       "\n",
       "        group_review_count_mean_normal  suspicious_score  \n",
       "189640                        0.008373          0.507595  \n",
       "185753                        0.019708          0.499651  \n",
       "189901                        0.007033          0.474019  \n",
       "185785                        0.020932          0.472777  \n",
       "189881                        0.006698          0.472352  \n",
       "...                                ...               ...  \n",
       "104973                        0.122303          0.079183  \n",
       "105149                        0.122303          0.078517  \n",
       "189722                        0.006698          0.078426  \n",
       "187500                        0.049581          0.074510  \n",
       "189939                        0.005024          0.053493  \n",
       "\n",
       "[1785 rows x 15 columns]"
      ]
     },
     "execution_count": 46,
     "metadata": {},
     "output_type": "execute_result"
    }
   ],
   "source": [
    "df_group_features"
   ]
  },
  {
   "cell_type": "markdown",
   "metadata": {},
   "source": [
    "---"
   ]
  },
  {
   "cell_type": "code",
   "execution_count": 56,
   "metadata": {},
   "outputs": [
    {
     "data": {
      "text/plain": [
       "<AxesSubplot:title={'center':'suspicious_score'}>"
      ]
     },
     "execution_count": 56,
     "metadata": {},
     "output_type": "execute_result"
    },
    {
     "data": {
      "image/png": "[encoded data removed]",
      "text/plain": [
       "<Figure size 720x288 with 1 Axes>"
      ]
     },
     "metadata": {
      "needs_background": "light"
     },
     "output_type": "display_data"
    }
   ],
   "source": [
    "df_group_features[['suspicious_score']].plot(kind='line', figsize=(10,4), title='suspicious_score')"
   ]
  },
  {
   "cell_type": "code",
   "execution_count": 48,
   "metadata": {},
   "outputs": [
    {
     "data": {
      "text/plain": [
       "<AxesSubplot:title={'center':'group_len'}>"
      ]
     },
     "execution_count": 48,
     "metadata": {},
     "output_type": "execute_result"
    },
    {
     "data": {
      "image/png": "[encoded data removed]",
      "text/plain": [
       "<Figure size 720x288 with 1 Axes>"
      ]
     },
     "metadata": {
      "needs_background": "light"
     },
     "output_type": "display_data"
    }
   ],
   "source": [
    "df_group_features[['group_len']].plot(kind='line', figsize=(10,4), title='group_len')"
   ]
  },
  {
   "cell_type": "code",
   "execution_count": 49,
   "metadata": {},
   "outputs": [
    {
     "data": {
      "text/plain": [
       "<AxesSubplot:>"
      ]
     },
     "execution_count": 49,
     "metadata": {},
     "output_type": "execute_result"
    },
    {
     "data": {
      "image/png": "[encoded data removed]",
      "text/plain": [
       "<Figure size 720x288 with 1 Axes>"
      ]
     },
     "metadata": {
      "needs_background": "light"
     },
     "output_type": "display_data"
    }
   ],
   "source": [
    "df_group_features[['bst_mean']].plot(kind='line', figsize=(10,4))"
   ]
  },
  {
   "cell_type": "code",
   "execution_count": 50,
   "metadata": {},
   "outputs": [
    {
     "data": {
      "text/plain": [
       "<AxesSubplot:>"
      ]
     },
     "execution_count": 50,
     "metadata": {},
     "output_type": "execute_result"
    },
    {
     "data": {
      "image/png": "[encoded data removed]",
      "text/plain": [
       "<Figure size 720x288 with 1 Axes>"
      ]
     },
     "metadata": {
      "needs_background": "light"
     },
     "output_type": "display_data"
    }
   ],
   "source": [
    "df_group_features[['ext_mean']].plot(kind='line', figsize=(10,4))"
   ]
  },
  {
   "cell_type": "code",
   "execution_count": 51,
   "metadata": {},
   "outputs": [
    {
     "data": {
      "text/plain": [
       "<AxesSubplot:>"
      ]
     },
     "execution_count": 51,
     "metadata": {},
     "output_type": "execute_result"
    },
    {
     "data": {
      "image/png": "[encoded data removed]",
      "text/plain": [
       "<Figure size 720x288 with 1 Axes>"
      ]
     },
     "metadata": {
      "needs_background": "light"
     },
     "output_type": "display_data"
    }
   ],
   "source": [
    "df_group_features[['cosine_mean']].plot(kind='line', figsize=(10,4))"
   ]
  },
  {
   "cell_type": "code",
   "execution_count": 52,
   "metadata": {},
   "outputs": [
    {
     "data": {
      "text/plain": [
       "<AxesSubplot:>"
      ]
     },
     "execution_count": 52,
     "metadata": {},
     "output_type": "execute_result"
    },
    {
     "data": {
      "image/png": "[encoded data removed]",
      "text/plain": [
       "<Figure size 720x288 with 1 Axes>"
      ]
     },
     "metadata": {
      "needs_background": "light"
     },
     "output_type": "display_data"
    }
   ],
   "source": [
    "df_group_features[['cosine_max']].plot(kind='line', figsize=(10,4))"
   ]
  },
  {
   "cell_type": "code",
   "execution_count": 53,
   "metadata": {},
   "outputs": [
    {
     "data": {
      "text/plain": [
       "<AxesSubplot:>"
      ]
     },
     "execution_count": 53,
     "metadata": {},
     "output_type": "execute_result"
    },
    {
     "data": {
      "image/png": "[encoded data removed]",
      "text/plain": [
       "<Figure size 720x288 with 1 Axes>"
      ]
     },
     "metadata": {
      "needs_background": "light"
     },
     "output_type": "display_data"
    }
   ],
   "source": [
    "df_group_features[['group_review_count_sum_normal']].plot(kind='line', figsize=(10,4))"
   ]
  },
  {
   "cell_type": "code",
   "execution_count": 54,
   "metadata": {},
   "outputs": [
    {
     "data": {
      "text/plain": [
       "<AxesSubplot:>"
      ]
     },
     "execution_count": 54,
     "metadata": {},
     "output_type": "execute_result"
    },
    {
     "data": {
      "image/png": "[encoded data removed]",
      "text/plain": [
       "<Figure size 720x288 with 1 Axes>"
      ]
     },
     "metadata": {
      "needs_background": "light"
     },
     "output_type": "display_data"
    }
   ],
   "source": [
    "df_group_features[['group_review_count_mean_normal']].plot(kind='line', figsize=(10,4))"
   ]
  },
  {
   "cell_type": "markdown",
   "metadata": {},
   "source": [
    "## Looking at a group"
   ]
  },
  {
   "cell_type": "code",
   "execution_count": 55,
   "metadata": {},
   "outputs": [
    {
     "name": "stdout",
     "output_type": "stream",
     "text": [
      "{'user_id': 'yL9kq9jALecBHvJQP-MY8g', 'business_id': 'HmAQq1Wbz2oAFX-KqTAM_A', 'review_id': 'j9WO1SrtqRs4wcW60Nu8ig'}\n",
      "So we paid American Airlines $1028.00 for a flight that happened to be connecting in Charlotte NC - because the flight crew was late, we didn't leave from Jacksonville on time which made us late getting to our connecting flight.  When we arrived in NC, we discovered that the flights as been postponed for 10 minutes - we rushed to join the line only to be told after standing there for a few minutes, only 1 set was left.  I looked at the monitor and saw that several standbys had taken a lot of the seats (ours included)!   When we asked the attendees, we were told no standbys were on the flight - LIE / we went to customer service and was told we couldn't fly until the next day - we were given a voucher to stay at this hotel.  We travel the world - we are in and out of hotels often.  This was by far the worse.  No clocks, no working shower, tags were so thin you could see through them,  floors were nasty, mold was in the shower, tv didn't work, hallway smelled like it had been infested with rats before - it was horrible.  I wouldn't bring my dog there to stay!   To pay this much money and be treated like this was not right!   I'm pissed!  Dispute all of this, the young man name Jose Parades who works for American Airlines was very helpful.  He made us feel like human beings.  He listened and showed concern!  I never had this issue with JETBLUE!  That airline is a class act!\n",
      "{'user_id': 'yL9kq9jALecBHvJQP-MY8g', 'business_id': 'J7As1iazdxHnXv03Ex8HDg', 'review_id': 'mPBdetEKOiQa1Y87PuC_nA'}\n",
      "So we paid American Airlines $1028.00 for a flight that happened to be connecting in Charlotte NC - because the flight crew was late, we didn't leave from Jacksonville on time which made us late getting to our connecting flight.  When we arrived in NC, we discovered that the flights as been postponed for 10 minutes - we rushed to join the line only to be told after standing there for a few minutes, only 1 set was left.  I looked at the monitor and saw that several standbys had taken a lot of the seats (ours included)!   When we asked the attendees, we were told no standbys were on the flight - LIE / we went to customer service and was told we couldn't fly until the next day - we were given a voucher to stay at this hotel.  We travel the world - we are in and out of hotels often.  This was by far the worse.  No clocks, no working shower, tags were so thin you could see through them,  floors were nasty, mold was in the shower, tv didn't work, hallway smelled like it had been infested with rats before - it was horrible.  I wouldn't bring my dog there to stay!   To pay this much money and be treated like this was not right!   I'm pissed!\n",
      "{'user_id': 'zs02WPrLkfA2wZIWYeHu4w', 'business_id': 'J7As1iazdxHnXv03Ex8HDg', 'review_id': '_6MPuYOLmNvNMeTVOv5syQ'}\n",
      "You get what you pay for and I didn't pay anything so that should be enough to explain it all. American Airlines crew didn't show up to my connecting flight and this is where they placed me. I was really disappointed because I thought for once, I was going to be offered a decent comp. BUT, they set me up with this Motel 6. The tv didn't work, there were stains on the bed covers, half the lights don't turn on, and there was hair in the hotel room that wasn't mine. Their online pictures are deceptive. Stay away.\n"
     ]
    },
    {
     "data": {
      "text/html": [
       "<div>\n",
       "<style scoped>\n",
       "    .dataframe tbody tr th:only-of-type {\n",
       "        vertical-align: middle;\n",
       "    }\n",
       "\n",
       "    .dataframe tbody tr th {\n",
       "        vertical-align: top;\n",
       "    }\n",
       "\n",
       "    .dataframe thead th {\n",
       "        text-align: right;\n",
       "    }\n",
       "</style>\n",
       "<table border=\"1\" class=\"dataframe\">\n",
       "  <thead>\n",
       "    <tr style=\"text-align: right;\">\n",
       "      <th></th>\n",
       "      <th>business_id</th>\n",
       "      <th>name</th>\n",
       "      <th>address</th>\n",
       "      <th>city</th>\n",
       "      <th>state</th>\n",
       "      <th>postal_code</th>\n",
       "      <th>latitude</th>\n",
       "      <th>longitude</th>\n",
       "      <th>stars_business</th>\n",
       "      <th>review_count</th>\n",
       "      <th>...</th>\n",
       "      <th>user_id</th>\n",
       "      <th>stars_review</th>\n",
       "      <th>useful</th>\n",
       "      <th>funny</th>\n",
       "      <th>cool</th>\n",
       "      <th>text</th>\n",
       "      <th>date</th>\n",
       "      <th>group_id</th>\n",
       "      <th>group_len</th>\n",
       "      <th>group_type</th>\n",
       "    </tr>\n",
       "  </thead>\n",
       "  <tbody>\n",
       "    <tr>\n",
       "      <th>402863</th>\n",
       "      <td>HmAQq1Wbz2oAFX-KqTAM_A</td>\n",
       "      <td>American Airlines</td>\n",
       "      <td>5501 Josh Birmingham Pkwy, Unit 11</td>\n",
       "      <td>Charlotte</td>\n",
       "      <td>NC</td>\n",
       "      <td>28208.0</td>\n",
       "      <td>35.220154</td>\n",
       "      <td>-80.942871</td>\n",
       "      <td>1.5</td>\n",
       "      <td>482</td>\n",
       "      <td>...</td>\n",
       "      <td>yL9kq9jALecBHvJQP-MY8g</td>\n",
       "      <td>1.0</td>\n",
       "      <td>0</td>\n",
       "      <td>0</td>\n",
       "      <td>0</td>\n",
       "      <td>So we paid American Airlines $1028.00 for a fl...</td>\n",
       "      <td>2016-06-22 09:34:52</td>\n",
       "      <td>3156</td>\n",
       "      <td>2</td>\n",
       "      <td>n</td>\n",
       "    </tr>\n",
       "    <tr>\n",
       "      <th>402866</th>\n",
       "      <td>J7As1iazdxHnXv03Ex8HDg</td>\n",
       "      <td>Motel 6</td>\n",
       "      <td>4416 S Tryon St</td>\n",
       "      <td>Charlotte</td>\n",
       "      <td>NC</td>\n",
       "      <td>28217.0</td>\n",
       "      <td>35.185307</td>\n",
       "      <td>-80.886133</td>\n",
       "      <td>1.5</td>\n",
       "      <td>10</td>\n",
       "      <td>...</td>\n",
       "      <td>yL9kq9jALecBHvJQP-MY8g</td>\n",
       "      <td>1.0</td>\n",
       "      <td>0</td>\n",
       "      <td>0</td>\n",
       "      <td>0</td>\n",
       "      <td>So we paid American Airlines $1028.00 for a fl...</td>\n",
       "      <td>2016-06-22 09:09:15</td>\n",
       "      <td>3156</td>\n",
       "      <td>2</td>\n",
       "      <td>n</td>\n",
       "    </tr>\n",
       "    <tr>\n",
       "      <th>434309</th>\n",
       "      <td>J7As1iazdxHnXv03Ex8HDg</td>\n",
       "      <td>Motel 6</td>\n",
       "      <td>4416 S Tryon St</td>\n",
       "      <td>Charlotte</td>\n",
       "      <td>NC</td>\n",
       "      <td>28217.0</td>\n",
       "      <td>35.185307</td>\n",
       "      <td>-80.886133</td>\n",
       "      <td>1.5</td>\n",
       "      <td>10</td>\n",
       "      <td>...</td>\n",
       "      <td>zs02WPrLkfA2wZIWYeHu4w</td>\n",
       "      <td>1.0</td>\n",
       "      <td>0</td>\n",
       "      <td>0</td>\n",
       "      <td>0</td>\n",
       "      <td>You get what you pay for and I didn't pay anyt...</td>\n",
       "      <td>2016-06-18 05:58:53</td>\n",
       "      <td>3156</td>\n",
       "      <td>2</td>\n",
       "      <td>n</td>\n",
       "    </tr>\n",
       "  </tbody>\n",
       "</table>\n",
       "<p>3 rows × 25 columns</p>\n",
       "</div>"
      ],
      "text/plain": [
       "                   business_id               name  \\\n",
       "402863  HmAQq1Wbz2oAFX-KqTAM_A  American Airlines   \n",
       "402866  J7As1iazdxHnXv03Ex8HDg            Motel 6   \n",
       "434309  J7As1iazdxHnXv03Ex8HDg            Motel 6   \n",
       "\n",
       "                                   address       city state  postal_code  \\\n",
       "402863  5501 Josh Birmingham Pkwy, Unit 11  Charlotte    NC      28208.0   \n",
       "402866                     4416 S Tryon St  Charlotte    NC      28217.0   \n",
       "434309                     4416 S Tryon St  Charlotte    NC      28217.0   \n",
       "\n",
       "         latitude  longitude  stars_business  review_count  ...  \\\n",
       "402863  35.220154 -80.942871             1.5           482  ...   \n",
       "402866  35.185307 -80.886133             1.5            10  ...   \n",
       "434309  35.185307 -80.886133             1.5            10  ...   \n",
       "\n",
       "                       user_id stars_review useful funny cool  \\\n",
       "402863  yL9kq9jALecBHvJQP-MY8g          1.0      0     0    0   \n",
       "402866  yL9kq9jALecBHvJQP-MY8g          1.0      0     0    0   \n",
       "434309  zs02WPrLkfA2wZIWYeHu4w          1.0      0     0    0   \n",
       "\n",
       "                                                     text  \\\n",
       "402863  So we paid American Airlines $1028.00 for a fl...   \n",
       "402866  So we paid American Airlines $1028.00 for a fl...   \n",
       "434309  You get what you pay for and I didn't pay anyt...   \n",
       "\n",
       "                       date  group_id  group_len  group_type  \n",
       "402863  2016-06-22 09:34:52      3156          2           n  \n",
       "402866  2016-06-22 09:09:15      3156          2           n  \n",
       "434309  2016-06-18 05:58:53      3156          2           n  \n",
       "\n",
       "[3 rows x 25 columns]"
      ]
     },
     "execution_count": 55,
     "metadata": {},
     "output_type": "execute_result"
    }
   ],
   "source": [
    "look_at_group(3156, df_charlotte_2016, df_groups)"
   ]
  },
  {
   "cell_type": "code",
   "execution_count": null,
   "metadata": {},
   "outputs": [],
   "source": []
  }
 ],
 "metadata": {
  "kernelspec": {
   "display_name": "Python 3",
   "language": "python",
   "name": "python3"
  },
  "language_info": {
   "codemirror_mode": {
    "name": "ipython",
    "version": 3
   },
   "file_extension": ".py",
   "mimetype": "text/x-python",
   "name": "python",
   "nbconvert_exporter": "python",
   "pygments_lexer": "ipython3",
   "version": "3.6.12"
  }
 },
 "nbformat": 4,
 "nbformat_minor": 4
}
